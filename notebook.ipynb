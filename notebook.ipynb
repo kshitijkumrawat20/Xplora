{
 "cells": [
  {
   "cell_type": "code",
   "execution_count": null,
   "id": "fdc32bb3",
   "metadata": {},
   "outputs": [],
   "source": [
    "from utils.model_loader import ModelLoader\n",
    "from tools.currency_conversion import  CurrencyConverterTool\n",
    "from tools.expense_calculator import CalculatorTool\n",
    "from tools.place_search_tool import PlaceSearchTool\n",
    "from tools.weather_tool import WeatherInfoTool\n",
    "from prompt_library.agent_prompts import SYSTEM_PROMPT \n",
    "from langgraph.prebuilt import ToolNode, tools_condition\n",
    "from langgraph.graph import StateGraph, END, START, MessagesState\n"
   ]
  },
  {
   "cell_type": "code",
   "execution_count": 17,
   "id": "b577ad44",
   "metadata": {},
   "outputs": [],
   "source": [
    "# from dotenv import load_dotenv\n",
    "# import os\n",
    "\n",
    "# os.environ[\"LANGSMITH_TRACING\"] = \"true\"\n",
    "# os.environ[\"LANGSMITH_ENDPOINT\"] = \"https://api.smith.langchain.com\"\n",
    "# os.environ[\"LANGSMITH_API_KEY\"] = \"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\"\n",
    "# os.environ[\"LANGSMITH_PROJECT\"] = \"pr-whispered-patrolling-90\"\n"
   ]
  },
  {
   "cell_type": "code",
   "execution_count": 18,
   "id": "5cf4e040",
   "metadata": {},
   "outputs": [
    {
     "name": "stdout",
     "output_type": "stream",
     "text": [
      "Loading config....\n"
     ]
    }
   ],
   "source": [
    "weather_tool = WeatherInfoTool()\n",
    "place_tool = PlaceSearchTool()\n",
    "currency_calculator = CurrencyConverterTool()\n",
    "model_loader = ModelLoader(model_provider=\"groq\")"
   ]
  },
  {
   "cell_type": "code",
   "execution_count": 19,
   "id": "9507de3d",
   "metadata": {},
   "outputs": [
    {
     "name": "stdout",
     "output_type": "stream",
     "text": [
      "8755.35\n"
     ]
    }
   ],
   "source": [
    "\n",
    "tools_list = currency_calculator.currency_converter_tool_list\n",
    "\n",
    "# Step 3: Access the first tool from the list\n",
    "convert_currency_tool = tools_list[0]\n",
    "\n",
    "# Step 4: Call it like a function\n",
    "result = convert_currency_tool.run({\n",
    "    \"amount\": 100,\n",
    "    \"from_currency\": \"USD\",\n",
    "    \"to_currency\": \"INR\"\n",
    "})\n",
    "\n",
    "print(result)\n"
   ]
  },
  {
   "cell_type": "code",
   "execution_count": 20,
   "id": "12c8f939",
   "metadata": {},
   "outputs": [
    {
     "name": "stdout",
     "output_type": "stream",
     "text": [
      "estimate_total_hotel_cost calculate_total_expense calculate_daily_expense_budget\n",
      "15000.0\n"
     ]
    }
   ],
   "source": [
    "expense_calculator = CalculatorTool()\n",
    "tools_list = expense_calculator.calculator_tool_list\n",
    "# print(tools_list)\n",
    "# len(tools_list)\n",
    "# Step 3: Access the first tool from the list\n",
    "convert_currency_tool1 = tools_list[0]\n",
    "convert_currency_tool2 = tools_list[1]\n",
    "convert_currency_tool3 = tools_list[2]\n",
    "print(convert_currency_tool1.name, convert_currency_tool2.name, convert_currency_tool3.name)\n",
    "\n",
    "estimate_total_hotel_cost = convert_currency_tool1.run(\n",
    "    {\n",
    "        \"price_per_night\": 3000,   # ← must be a string\n",
    "        \"total_day\": 5            # ← correct name, also string\n",
    "    }\n",
    ")\n",
    "print(estimate_total_hotel_cost)\n",
    "\n"
   ]
  },
  {
   "cell_type": "code",
   "execution_count": 21,
   "id": "40b5296a",
   "metadata": {},
   "outputs": [
    {
     "name": "stdout",
     "output_type": "stream",
     "text": [
      "2200.0\n"
     ]
    }
   ],
   "source": [
    "expense_calculator = CalculatorTool()\n",
    "tools_list = expense_calculator.calculator_tool_list\n",
    "convert_currency_tool2 = tools_list[1]\n",
    "result = convert_currency_tool2.run({\"costs\": [1500, 500, 200]})\n",
    "print(result)  # Should print 1700.0\n"
   ]
  },
  {
   "cell_type": "code",
   "execution_count": 22,
   "id": "3bfaf694",
   "metadata": {},
   "outputs": [
    {
     "name": "stdout",
     "output_type": "stream",
     "text": [
      "name='calculate_daily_expense_budget' description='Calculate daily expense' args_schema=<class 'models.models.DailyExpensesCalculation'> func=<function CalculatorTool._setup_tool.<locals>.calculate_daily_expense_budget at 0x0000018143F323E0>\n",
      "6000.0\n"
     ]
    }
   ],
   "source": [
    "expense_calculator = CalculatorTool()\n",
    "tools_list = expense_calculator.calculator_tool_list\n",
    "convert_currency_tool3 = tools_list[2]\n",
    "print(convert_currency_tool3)\n",
    "result = convert_currency_tool3.run(\n",
    "    {\n",
    "        \"total_cost\": 30000,\n",
    "        \"days\": 5\n",
    "    }\n",
    ")\n",
    "print(result)  # Should print 1700.0"
   ]
  },
  {
   "cell_type": "code",
   "execution_count": 23,
   "id": "21f61f92",
   "metadata": {},
   "outputs": [],
   "source": [
    "place_tool = PlaceSearchTool()\n",
    "tools = place_tool.place_search_tool_list"
   ]
  },
  {
   "cell_type": "code",
   "execution_count": 24,
   "id": "1295e414",
   "metadata": {},
   "outputs": [
    {
     "name": "stdout",
     "output_type": "stream",
     "text": [
      "[{'position': 1, 'title': 'Shri Annapurna Temple, Indore', 'place_id': 'ChIJ2ye35U78YjkR15LG9w1NFzo', 'data_id': '0x3962fc4ee5b727db:0x3a174d0df7c692d7', 'data_cid': '4185899101051065047', 'reviews_link': 'https://serpapi.com/search.json?data_id=0x3962fc4ee5b727db%3A0x3a174d0df7c692d7&engine=google_maps_reviews&hl=en', 'photos_link': 'https://serpapi.com/search.json?data_id=0x3962fc4ee5b727db%3A0x3a174d0df7c692d7&engine=google_maps_photos&hl=en', 'gps_coordinates': {'latitude': 22.6901679, 'longitude': 75.8381847}, 'place_id_search': 'https://serpapi.com/search.json?engine=google_maps&google_domain=google.com&hl=en&place_id=ChIJ2ye35U78YjkR15LG9w1NFzo', 'provider_id': '/g/1w6_m6tc', 'rating': 4.7, 'reviews': 15069, 'type': 'Tourist attraction', 'types': ['Tourist attraction', 'Scenic spot', 'Hindu temple'], 'type_id': 'tourist_attraction', 'type_ids': ['tourist_attraction', 'scenic_spot', 'hindu_temple'], 'address': 'Annapurna Rd, Annapurna Mandir, Kranti Kriplani Nagar, Indore, Madhya Pradesh 452009, India', 'open_state': 'Open ⋅ Closes 11\\u202fPM', 'hours': 'Open ⋅ Closes 11\\u202fPM', 'operating_hours': {'friday': '6:30\\u202fAM–11\\u202fPM', 'saturday': '6:30\\u202fAM–11\\u202fPM', 'sunday': '6:30\\u202fAM–11\\u202fPM', 'monday': '6:30\\u202fAM–11\\u202fPM', 'tuesday': '6:30\\u202fAM–11\\u202fPM', 'wednesday': '6:30\\u202fAM–11\\u202fPM', 'thursday': '6:30\\u202fAM–11\\u202fPM'}, 'phone': '+91 731 248 2483', 'website': 'http://www.shriannapurna.org/', 'description': 'Popular Hindu temple to goddess of food. Prominent temple dedicated to the Hindu goddess of food featuring an ornate gate & elephant statues.', 'extensions': [{'service_options': ['Onsite services']}, {'accessibility': ['Wheelchair accessible entrance', 'Wheelchair accessible parking lot', 'Wheelchair accessible restroom', 'Wheelchair accessible seating']}, {'amenities': ['Gender-neutral restroom', 'Restroom']}, {'crowd': ['LGBTQ+ friendly']}, {'payments': ['Google Pay']}, {'deities_represented': ['Durga', 'Hanuman', 'Krishna', 'Rama', 'Shiva', 'Vishnu']}], 'service_options': {'onsite_services': True}, 'thumbnail': 'https://lh3.googleusercontent.com/gps-cs-s/AC9h4nraiskDJW0Urhm4fQW8m9NLIECShnNeNN14z-st40rUjMM_8B9NEOI4ng8r5wl9mLRJOtbMa_9XlcMMSOfPy5DNaGEGRx0Z-Pf7JUwmPoN_35FKn3rzXx-prDhCYyDq8WemLQHB=w138-h92-k-no', 'serpapi_thumbnail': 'https://serpapi.com/images/url/bwmAvnicBcFLjoIwAADQE1VQSmwnmcXw8YO0oIagbgiSQlXaMm0N6v08hLfxvc-bWzuYH8fpuTfplOp6djdMN0paJu2kUcLpBgMaA4zzF2IOpa4v5hYlpVtoLmC7LZHANF3H4Z5LyiidwhcwFrq6uBJSoQDTOFtD2SHtjz0W6S7J7JnUFT70DSH7rM2ffkTrZbzcPdwTyNt5UowiV7Ty_MVGevp1eIBBRzw8PqN_VDKRblfB7zj1EOB4Bm5Aqi91QEOF'}, {'position': 2, 'title': 'Krishna Pura Chhatri, Indore', 'place_id': 'ChIJ4c3QlAv9YjkRv3a56LyeWTg', 'data_id': '0x3962fd0b94d0cde1:0x38599ebce8b976bf', 'data_cid': '4060451073246721727', 'reviews_link': 'https://serpapi.com/search.json?data_id=0x3962fd0b94d0cde1%3A0x38599ebce8b976bf&engine=google_maps_reviews&hl=en', 'photos_link': 'https://serpapi.com/search.json?data_id=0x3962fd0b94d0cde1%3A0x38599ebce8b976bf&engine=google_maps_photos&hl=en', 'gps_coordinates': {'latitude': 22.718780199999998, 'longitude': 75.8580255}, 'place_id_search': 'https://serpapi.com/search.json?engine=google_maps&google_domain=google.com&hl=en&place_id=ChIJ4c3QlAv9YjkRv3a56LyeWTg', 'provider_id': '/g/1v82_hnc', 'rating': 4.2, 'reviews': 4737, 'type': 'Tourist attraction', 'types': ['Tourist attraction', 'Hindu temple', 'Historical place'], 'type_id': 'tourist_attraction', 'type_ids': ['tourist_attraction', 'hindu_temple', 'historic_site'], 'address': 'PV95+G66, Mahatma Gandhi Rd, Rajwada, Maharaja Tukoji Rao Holker Cloth Market, Indore, Madhya Pradesh 452007, India', 'open_state': 'Closed ⋅ Opens 9\\u202fAM Sat', 'hours': 'Closed ⋅ Opens 9\\u202fAM Sat', 'operating_hours': {'friday': '9\\u202fAM–5\\u202fPM', 'saturday': '9\\u202fAM–5\\u202fPM', 'sunday': '9\\u202fAM–5\\u202fPM', 'monday': '9\\u202fAM–5\\u202fPM', 'tuesday': '9\\u202fAM–5\\u202fPM', 'wednesday': '9\\u202fAM–5\\u202fPM', 'thursday': '9\\u202fAM–5\\u202fPM'}, 'description': 'Historic monument to Holkar rulers. Cenotaphs from the late 1800s memorializing Holkar rulers with wall carvings & statues.', 'extensions': [{'service_options': ['Onsite services']}, {'accessibility': ['Wheelchair accessible parking lot']}, {'children': ['Good for kids']}, {'parking': ['Free parking lot']}], 'service_options': {'onsite_services': True}, 'thumbnail': 'https://lh3.googleusercontent.com/gps-cs-s/AC9h4nqT8FI4xjs7-U-tHIc7k1OKkaOShsKFusg1_n6pAVvOaaTt29_FMMyTrFfyfOFoiHWfJMbSB8vqJDb8RHC7Apkm2nMEGud0jmVFXI7RBXQw0bpSLRS_QgzGTbJBGYu05zsW3VK2mw=w140-h92-k-no', 'serpapi_thumbnail': 'https://serpapi.com/images/url/h0m76HicBcFbcoIwFADQFYWXWMAZPwAbXjKMQNF-MUAhqUgSvUHUDbqG7qbn_L2plAI2qnqhK4VwTi79DP2t40z2TCodn1QiAHWAQHV9h5rsWto4Mh9nsNAXkmHUWaOeJWOTFRQSPAPRa_Yh3OqeNU0pDafGafosb3h4Dhnmv-FxiNO28Oz7Nd61dh76livGyWDpZzD_aOepwqfIyr3TYdFaUezzoj6QV1C2sRd8z9r6BcdVlRjTsl10U0PUMdCIGP8HKphEpg'}, {'position': 3, 'title': 'Central Museum, Indore', 'place_id': 'ChIJz9_VqyH9YjkRLe4Zo6eoMpw', 'data_id': '0x3962fd21abd5dfcf:0x9c32a8a7a319ee2d', 'data_cid': '11255243856701681197', 'reviews_link': 'https://serpapi.com/search.json?data_id=0x3962fd21abd5dfcf%3A0x9c32a8a7a319ee2d&engine=google_maps_reviews&hl=en', 'photos_link': 'https://serpapi.com/search.json?data_id=0x3962fd21abd5dfcf%3A0x9c32a8a7a319ee2d&engine=google_maps_photos&hl=en', 'gps_coordinates': {'latitude': 22.7052254, 'longitude': 75.87895639999999}, 'place_id_search': 'https://serpapi.com/search.json?engine=google_maps&google_domain=google.com&hl=en&place_id=ChIJz9_VqyH9YjkRLe4Zo6eoMpw', 'provider_id': '/m/0n48990', 'rating': 4, 'reviews': 2337, 'unclaimed_listing': True, 'type': 'Tourist attraction', 'types': ['Tourist attraction', 'Museum'], 'type_id': 'tourist_attraction', 'type_ids': ['tourist_attraction', 'museum'], 'address': 'PV4H+3HW, Near GPO Square, Residency, Navlakha, Indore, Madhya Pradesh 452001, India', 'open_state': 'Closed ⋅ Opens 10\\u202fAM Sat', 'hours': 'Closed ⋅ Opens 10\\u202fAM Sat', 'operating_hours': {'friday': '10\\u202fAM–5\\u202fPM', 'saturday': '10\\u202fAM–5\\u202fPM', 'sunday': '10\\u202fAM–5\\u202fPM', 'monday': 'Closed', 'tuesday': '10\\u202fAM–5\\u202fPM', 'wednesday': '10\\u202fAM–5\\u202fPM', 'thursday': '10\\u202fAM–5\\u202fPM'}, 'phone': '+91 1800 11 1363', 'description': 'Galleries with historical artifacts. Small place with historical artifacts, including Parmar & medieval sculptures, plus coins & weapons.', 'extensions': [{'service_options': ['Onsite services']}, {'accessibility': ['Wheelchair accessible entrance', 'Wheelchair accessible parking lot', 'Wheelchair accessible restroom']}, {'amenities': ['Restroom']}, {'children': ['Good for kids']}, {'parking': ['Free parking lot']}], 'unsupported_extensions': [{'amenities': ['Restaurant']}], 'service_options': {'onsite_services': True}, 'thumbnail': 'https://lh3.googleusercontent.com/gps-cs-s/AC9h4nodPBlZnQQznUWU1qk69EKRC9hYAjIAOoOaJDR9gAIpN9z8khcLUjBux1Re-qYCjZXspoSu_qb8Kxyvaxkz8PTPkiaZn_TmATLt5PwP9f5480Pd0k9n_G5W089qtDdIzS93NHXslg=w140-h92-k-no', 'serpapi_thumbnail': 'https://serpapi.com/images/url/L2PYx3icDclbcoIwFADQFYWHgpPrTD_iY5TiaEQYlR8GAZMSTKAJimywa-hu2vN7fn-4Ma2e23bDpxZTijVVr6vvQklTSWMV6mGzVqNCI22TJXBPqpIumlQej6NMzonbiRmsw-i_rqQOyEEd8s9VBIwE7R5GLHixS-pFP7hRhbrrsk4vulWnPutuOBzez3wQI6YxFV95KrP4QeKd8emLwt33sENLR4DMNv7ZwdCZVRmMJ5jutxfdsI-X6zmIwwQJJNUfgGlFXw'}, {'position': 4, 'title': 'ISKCON Radha Govind Temple', 'place_id': 'ChIJ19qvp2MdYzkRBWtKCGNNobs', 'data_id': '0x39631d63a7afdad7:0xbba14d63084a6b05', 'data_cid': '13520172644079135493', 'reviews_link': 'https://serpapi.com/search.json?data_id=0x39631d63a7afdad7%3A0xbba14d63084a6b05&engine=google_maps_reviews&hl=en', 'photos_link': 'https://serpapi.com/search.json?data_id=0x39631d63a7afdad7%3A0xbba14d63084a6b05&engine=google_maps_photos&hl=en', 'gps_coordinates': {'latitude': 22.7564039, 'longitude': 75.9312642}, 'place_id_search': 'https://serpapi.com/search.json?engine=google_maps&google_domain=google.com&hl=en&place_id=ChIJ19qvp2MdYzkRBWtKCGNNobs', 'provider_id': '/g/119t_0hbk', 'rating': 4.6, 'reviews': 3502, 'type': 'Tourist attraction', 'types': ['Tourist attraction', 'Hindu temple'], 'type_id': 'tourist_attraction', 'type_ids': ['tourist_attraction', 'hindu_temple'], 'address': 'Hare Krishna Vihar, Nipania, Indore, Madhya Pradesh 452016, India', 'open_state': 'Open ⋅ Closes 8:45\\u202fPM', 'hours': 'Open ⋅ Closes 8:45\\u202fPM', 'operating_hours': {'friday': '4:30\\u202fAM–1\\u202fPM, 4:30–8:45\\u202fPM', 'saturday': '4:30\\u202fAM–1\\u202fPM, 4:30–8:45\\u202fPM', 'sunday': '4:30\\u202fAM–1\\u202fPM, 4:30–8:45\\u202fPM', 'monday': '4:30\\u202fAM–1\\u202fPM, 4:30–8:45\\u202fPM', 'tuesday': '4:30\\u202fAM–1\\u202fPM, 4:30–8:45\\u202fPM', 'wednesday': '4:30\\u202fAM–1\\u202fPM, 4:30–8:45\\u202fPM', 'thursday': '4:30\\u202fAM–1\\u202fPM, 4:30–8:45\\u202fPM'}, 'phone': '+91 91799 19744', 'website': 'http://www.iskconindore.com/', 'extensions': [{'accessibility': ['Wheelchair accessible entrance', 'Wheelchair accessible parking lot', 'Wheelchair accessible restroom']}, {'amenities': ['Restroom']}], 'user_review': '\"Serene and close to God.\"', 'thumbnail': 'https://lh3.googleusercontent.com/gps-cs-s/AC9h4no_krdb4_17oNiNFud4DIdwg3VWQELHGun_HGiUHv7MBQF7O6mRZjPkBB2VP3gblFl1kwwu31n7B10I-x9Rn7iW7JQzRyudB4FTCyvNy4F0yUiGBgmjEYTWAIsgRQqxA9TNA12e7g=w117-h92-k-no', 'serpapi_thumbnail': 'https://serpapi.com/images/url/reqpMnicBcHbDoIgAADQLyJDWcy2HsRCbWXqTFcvbl6GV6iQ1H6wb-hvOuf3rcfxIbea1tfGignB-krJ6lUIPlZ8XBVi0NhDgkICqVm2WSMusu5V5iiDWPiNT1WJ9l45MSNJw8PJdRTPXKe5um98JiHFl80Q3dugI0RPAoPlPe1hN03KgBwTuPbAbEYcNyk-hp9oUSVBNLaXt78gul6ujUPY0B5ucWp5kkXhc7bM2LegXmG2myDEoDZ10AEu_vyaQ9k'}, {'position': 5, 'title': 'Meghdoot Garden', 'place_id': 'ChIJCRnsMqYCYzkROEnVV_OWvsA', 'data_id': '0x396302a632ec1909:0xc0be96f357d54938', 'data_cid': '13888704272752003384', 'reviews_link': 'https://serpapi.com/search.json?data_id=0x396302a632ec1909%3A0xc0be96f357d54938&engine=google_maps_reviews&hl=en', 'photos_link': 'https://serpapi.com/search.json?data_id=0x396302a632ec1909%3A0xc0be96f357d54938&engine=google_maps_photos&hl=en', 'gps_coordinates': {'latitude': 22.7523026, 'longitude': 75.88720289999999}, 'place_id_search': 'https://serpapi.com/search.json?engine=google_maps&google_domain=google.com&hl=en&place_id=ChIJCRnsMqYCYzkROEnVV_OWvsA', 'provider_id': '/g/1tffmrh7', 'rating': 4.1, 'reviews': 27499, 'unclaimed_listing': True, 'type': 'Tourist attraction', 'types': ['Tourist attraction', 'Outlet mall', 'Garden'], 'type_id': 'tourist_attraction', 'type_ids': ['tourist_attraction', 'outlet_mall', 'garden'], 'address': 'Entrance, Main Gate, Maguda Nagar, Scheme No 54, Indore, Madhya Pradesh 452010, India', 'open_state': 'Open ⋅ Closes 8:30\\u202fPM', 'hours': 'Open ⋅ Closes 8:30\\u202fPM', 'operating_hours': {'friday': '9:30\\u202fAM–8:30\\u202fPM', 'saturday': '9:30\\u202fAM–8:30\\u202fPM', 'sunday': '9:30\\u202fAM–8:30\\u202fPM', 'monday': 'Closed', 'tuesday': '9:30\\u202fAM–8:30\\u202fPM', 'wednesday': '9:30\\u202fAM–8:30\\u202fPM', 'thursday': '9:30\\u202fAM–8:30\\u202fPM'}, 'website': 'https://www.digishalanews.com/2024/08/meghdoot-garden-best-parks-in-indore.html', 'description': 'Landscaped park with camels & peacocks. Popular spot for running, yoga & cricket amid greenery, plus camel rides & roaming peacocks.', 'extensions': [{'service_options': ['Onsite services']}, {'highlights': ['Picnics']}, {'accessibility': ['Wheelchair accessible entrance', 'Wheelchair accessible parking lot']}, {'amenities': ['Picnic tables', 'Public restroom', 'Slides', 'Swings']}, {'payments': ['NFC mobile payments']}, {'children': ['Good for kids', 'Good for kids birthday', 'Playground']}], 'service_options': {'onsite_services': True}, 'thumbnail': 'https://lh3.googleusercontent.com/gps-cs-s/AC9h4nreBAxsSvj91FYnO2P6dX2BZCI3m_q5CLfioTducvlqaNJDAIET0AZAy6aTGpFbU_FHRdxlEt6jl0bFl1HUPncuRjx-HY6Rw-dOshj82-uR3CYJPKO7wFDbSkCUoXHcWFYFPWn5=w163-h92-k-no', 'serpapi_thumbnail': 'https://serpapi.com/images/url/A0iKV3icBcH_EoEwAADgJ1o_Gbnzx4wpnLrUJf84rTSZLbaUB_QQ3sb3_b5M61bNTJMz16ilrHnVqepFpdCV0AaVD7NuFaAKKBNhj43Eq1qgQR3ejWeTXIROBMujszjhwH2cn2O8u95kUnb0zZ-X_WaJglVioRP6wEuybkmRnokflwNfadhwqyDc9tNI0C5uBuDnMO5BGSrWTB3QxS7ON9E2nPRkWRzuOJVHn2YkJ1EmxvPehi5gngPuQMg_kptDjQ'}, {'position': 6, 'title': 'Rajwada Palace', 'place_id': 'ChIJoSIkPAr9YjkRWIFwYhs6z7g', 'data_id': '0x3962fd0a3c2422a1:0xb8cf3a1b62708158', 'data_cid': '13316926512447914328', 'reviews_link': 'https://serpapi.com/search.json?data_id=0x3962fd0a3c2422a1%3A0xb8cf3a1b62708158&engine=google_maps_reviews&hl=en', 'photos_link': 'https://serpapi.com/search.json?data_id=0x3962fd0a3c2422a1%3A0xb8cf3a1b62708158&engine=google_maps_photos&hl=en', 'gps_coordinates': {'latitude': 22.718414499999998, 'longitude': 75.85518119999999}, 'place_id_search': 'https://serpapi.com/search.json?engine=google_maps&google_domain=google.com&hl=en&place_id=ChIJoSIkPAr9YjkRWIFwYhs6z7g', 'provider_id': '/m/0bmg3p4', 'rating': 4.4, 'reviews': 70003, 'type': 'Historical landmark', 'types': ['Historical landmark', 'Historical place museum'], 'type_id': 'historical_landmark', 'type_ids': ['historical_landmark', 'historical_place_museum'], 'address': 'Rajwada, Indore, Madhya Pradesh 452002, India', 'open_state': 'Closes soon ⋅ 7\\u202fPM ⋅ Opens 11\\u202fAM Sat', 'hours': 'Closes soon ⋅ 7\\u202fPM ⋅ Opens 11\\u202fAM Sat', 'operating_hours': {'friday': '11\\u202fAM–7\\u202fPM', 'saturday': '11\\u202fAM–7\\u202fPM', 'sunday': '11\\u202fAM–7\\u202fPM', 'monday': 'Closed', 'tuesday': '11\\u202fAM–7\\u202fPM', 'wednesday': '11\\u202fAM–7\\u202fPM', 'thursday': '11\\u202fAM–7\\u202fPM'}, 'description': 'Elaborate 18th-century royal residence. Imposing 1700s 7-storey palace from the Holkar dynasty, with a blend of Maratha & European styles.', 'extensions': [{'service_options': ['Onsite services']}, {'accessibility': ['Wheelchair accessible entrance', 'Wheelchair accessible parking lot']}, {'children': ['Good for kids']}], 'service_options': {'onsite_services': True}, 'thumbnail': 'https://lh3.googleusercontent.com/gps-cs-s/AC9h4np5sBwd8w3OSde5dzoYCKYhHReEXO2-CJvbgQhrsAW1zddD19CMLAp_kof12f4VZu9rjFjyPIFhWMdM12kMfeIS-oE8Md4vB0eW0MPMBIjhp7rhcfSlJEAdHOUuZFltQsyMZk4=w163-h92-k-no', 'serpapi_thumbnail': 'https://serpapi.com/images/url/AHcyy3icBcFLDoIwFADAE1UoHxUTF4AQURtQoggbE2nhBZA2tED0fF7C2zjz-4JSQm40rQNzUXNed2yUbCh5r1ivFiV_abWQqJRIaq7vgNULW3ozXc9mnFJm0w_P_WMO-wsL7rGB_MP0rM8wSDfDH0p32PHJyRWPllfYqKxbMTpDEzbvJAohI5RgoyUVi1LEgzWh1uTpLNNJQryoAbEaoKzS7hC4dB9fxyLs1Fm-SdFa2xkvTQSOgVrU8z9cIUPB'}, {'position': 7, 'title': 'Kamla Nehru Zoo', 'place_id': 'ChIJ0-fQgSD9YjkRmHHQwdot73I', 'data_id': '0x3962fd2081d0e7d3:0x72ef2ddac1d07198', 'data_cid': '8281888657335415192', 'reviews_link': 'https://serpapi.com/search.json?data_id=0x3962fd2081d0e7d3%3A0x72ef2ddac1d07198&engine=google_maps_reviews&hl=en', 'photos_link': 'https://serpapi.com/search.json?data_id=0x3962fd2081d0e7d3%3A0x72ef2ddac1d07198&engine=google_maps_photos&hl=en', 'gps_coordinates': {'latitude': 22.7041708, 'longitude': 75.8778976}, 'place_id_search': 'https://serpapi.com/search.json?engine=google_maps&google_domain=google.com&hl=en&place_id=ChIJ0-fQgSD9YjkRmHHQwdot73I', 'provider_id': '/g/11bxc5_psp', 'rating': 4.3, 'reviews': 29256, 'type': 'Tourist attraction', 'types': ['Tourist attraction', 'Zoo'], 'type_id': 'tourist_attraction', 'type_ids': ['tourist_attraction', 'zoo'], 'address': 'AB Rd, Doordarshan Kendra, Navlakha, Indore, Madhya Pradesh 452001, India', 'open_state': 'Closed ⋅ Opens 10\\u202fAM Sat', 'hours': 'Closed ⋅ Opens 10\\u202fAM Sat', 'operating_hours': {'friday': '10\\u202fAM–6\\u202fPM', 'saturday': '10\\u202fAM–6\\u202fPM', 'sunday': '10\\u202fAM–6\\u202fPM', 'monday': 'Closed', 'tuesday': '10\\u202fAM–6\\u202fPM', 'wednesday': '10\\u202fAM–6\\u202fPM', 'thursday': '10\\u202fAM–6\\u202fPM'}, 'phone': '+91 74404 42236', 'description': '51-acre zoo & garden with exotic animals. Large, lush zoological garden featuring white tigers, Himalayan bears & white peacocks.', 'extensions': [{'service_options': ['Onsite services']}, {'accessibility': ['Wheelchair accessible entrance', 'Wheelchair accessible parking lot']}, {'payments': ['NFC mobile payments']}, {'children': ['Good for kids', 'Good for kids birthday', 'Playground']}], 'service_options': {'onsite_services': True}, 'thumbnail': 'https://lh3.googleusercontent.com/gps-cs-s/AC9h4npRCx-9wW1_WeEyY3xXObl_QfGc2r_51Ny3czn70rPDaLFuvspoxTZgkp17LWWpcHc6W12TFndi-DrJAzj-NHl9O2r6KqFcppRcCYwYPnXH72nf41irxn8oMoE2ESgBFp0IXU96=w163-h92-k-no', 'serpapi_thumbnail': 'https://serpapi.com/images/url/EDRP53icBcFRcoIwEADQE0VMUGic6YcilFqr1uoE_GHsFoNKN9sEC3q_HsLb-N79v2oaciPPqyu_p43RdXlxpQWDTYlND8yPp8kxcMx540hWA6R11DHZKl6oMr7mfpctv-ri4_ACwhZDvrj6cMOwb1fT_Ty5_Dky3Wanz8TDuVIEKQSKi02C30c2tbPx7cQWaS2XwgZvvwkQrSHK23yFWRoKPAz40Xb4ZN5NLOJPPUmo_5ptZfDc8sBnlRTszNA8AM6kRAE'}, {'position': 8, 'title': 'Regional Park Indore', 'place_id': 'ChIJT-SDD_X8YjkR0f5aI6L51Vg', 'data_id': '0x3962fcf50f83e44f:0x58d5f9a2235afed1', 'data_cid': '6401296920150212305', 'reviews_link': 'https://serpapi.com/search.json?data_id=0x3962fcf50f83e44f%3A0x58d5f9a2235afed1&engine=google_maps_reviews&hl=en', 'photos_link': 'https://serpapi.com/search.json?data_id=0x3962fcf50f83e44f%3A0x58d5f9a2235afed1&engine=google_maps_photos&hl=en', 'gps_coordinates': {'latitude': 22.6776303, 'longitude': 75.8558338}, 'place_id_search': 'https://serpapi.com/search.json?engine=google_maps&google_domain=google.com&hl=en&place_id=ChIJT-SDD_X8YjkR0f5aI6L51Vg', 'provider_id': '/g/11gf3nvs2c', 'rating': 4.2, 'reviews': 7557, 'type': 'Tourist attraction', 'types': ['Tourist attraction', 'Park'], 'type_id': 'tourist_attraction', 'type_ids': ['tourist_attraction', 'park'], 'address': 'Regional Park Rd, Kasturba Gram, Indore, Madhya Pradesh 452001, India', 'open_state': 'Open ⋅ Closes 9\\u202fPM', 'hours': 'Open ⋅ Closes 9\\u202fPM', 'operating_hours': {'friday': '10\\u202fAM–9\\u202fPM', 'saturday': '10\\u202fAM–9\\u202fPM', 'sunday': '10\\u202fAM–9\\u202fPM', 'monday': '10\\u202fAM–9\\u202fPM', 'tuesday': '10\\u202fAM–9\\u202fPM', 'wednesday': '10\\u202fAM–9\\u202fPM', 'thursday': '10\\u202fAM–9\\u202fPM'}, 'extensions': [{'service_options': ['Onsite services']}, {'highlights': ['Picnics']}, {'accessibility': ['Wheelchair accessible entrance', 'Wheelchair accessible parking lot']}, {'amenities': ['Picnic tables', 'Public restroom', 'Slides', 'Swings']}, {'children': ['Good for kids', 'Good for kids birthday', 'Playground']}], 'service_options': {'onsite_services': True}, 'thumbnail': 'https://lh3.googleusercontent.com/gps-cs-s/AC9h4nqHrAKkH2dXIqmlE7vcZMlJJ2pZLulw6DluuqbABElaFTuBVbxmeOVL21EUoQyClKKDS1C8RFCLJXc2NmtlKFuQEpjTF31-PSGwCocMo8amrghePnDsWuXpJ5YjXMUgmpmPM6Kt=w122-h92-k-no', 'serpapi_thumbnail': 'https://serpapi.com/images/url/fhhc-nicBcFbcoIwFADQFUWGaH10xg8MoCVQ8Vnqn6aZZPTmAUlEF-gi3E3Peb-k99Z9RhHI4UAYI4AHxztmtOfaD5hRkbAOMYdclJCZHOl21SX0tsJ_zVerIJvc2amCosD2VAboxymE0F6SRQbnfB8Wx8tD8fWxxHF2MJsnAUrTXUym25yURcPwt_JA87DJ7HWfD2NU75Y9Mawy07PqhOS1Tt1PaGzx8XttqoNQVtXVmPp5H2OM5AyjG9LmH-2_RQE'}, {'position': 9, 'title': 'Gandhi Hall', 'place_id': 'ChIJCzGuRhL9YjkRB0S7W2FE9Ss', 'data_id': '0x3962fd1246ae310b:0x2bf544615bbb4407', 'data_cid': '3167513097866527751', 'reviews_link': 'https://serpapi.com/search.json?data_id=0x3962fd1246ae310b%3A0x2bf544615bbb4407&engine=google_maps_reviews&hl=en', 'photos_link': 'https://serpapi.com/search.json?data_id=0x3962fd1246ae310b%3A0x2bf544615bbb4407&engine=google_maps_photos&hl=en', 'gps_coordinates': {'latitude': 22.720277799999998, 'longitude': 75.8669444}, 'place_id_search': 'https://serpapi.com/search.json?engine=google_maps&google_domain=google.com&hl=en&place_id=ChIJCzGuRhL9YjkRB0S7W2FE9Ss', 'provider_id': '/g/1v_z2r2w', 'rating': 4.2, 'reviews': 4141, 'unclaimed_listing': True, 'type': 'Tourist attraction', 'types': ['Tourist attraction', 'Historical landmark'], 'type_id': 'tourist_attraction', 'type_ids': ['tourist_attraction', 'historical_landmark'], 'address': '51, Mahatma Gandhi Rd, Shastri Market, New Siyaganj, Indore, Madhya Pradesh 452007, India', 'open_state': 'Closed ⋅ Opens 10\\u202fAM Sat', 'hours': 'Closed ⋅ Opens 10\\u202fAM Sat', 'operating_hours': {'friday': '10\\u202fAM–5\\u202fPM', 'saturday': '10\\u202fAM–5\\u202fPM', 'sunday': 'Closed', 'monday': '10\\u202fAM–5\\u202fPM', 'tuesday': '10\\u202fAM–5\\u202fPM', 'wednesday': '10\\u202fAM–5\\u202fPM', 'thursday': '10\\u202fAM–5\\u202fPM'}, 'phone': '+91 1800 11 1363', 'description': 'Ornate Indo-Gothic hall & cultural space. Art & culture exhibitions in a 1904 hall with elaborate Indo-Gothic windows, minarets & domes.', 'extensions': [{'service_options': ['Onsite services']}, {'accessibility': ['Wheelchair accessible entrance', 'Wheelchair accessible parking lot', 'Wheelchair accessible restroom']}, {'amenities': ['Restroom']}, {'children': ['Good for kids']}], 'service_options': {'onsite_services': True}, 'user_review': '\"Beautiful building with nice ambience outside - there\\'s clean spaces to sit.\"', 'thumbnail': 'https://lh3.googleusercontent.com/gps-cs-s/AC9h4nqYOZ2gmz0fzPIBjtNPUNGA3W6BhUtXcYH2p4tyW1vwvoFCJ3CjWMf0gZdFRf_wLoYOG_bpexMco52A1S3yuLo_H_gyviust4S0aud62qY74E2wgngqSQHl1M7FdKp9nQ7tqBDc=w163-h92-k-no', 'serpapi_thumbnail': 'https://serpapi.com/images/url/rEQy2HicBcFbUoMwFADQFaVAgjA44wegFGvpi-kg_WE0QNJKc4O5gHR_XUR34zmPu0TU5tmyOskWAkB0zWCaXw4KG4ULDldLaEO4IcYK40C6qi-3JyquN7u97d6jC252x80yZIUXySN-8jKl2sW5cMZphCResfhSZK0tTnVyaKtpDeV2WX3r5i_j8ERDJ2fzsIYqrcQ8ngeDbm5_DbVH-9J33-gklOjzfdo5mZ_UHzpQex_76JW_TI7HiAwo-SEK_gH3eUT0'}, {'position': 10, 'title': 'Sirpur lake', 'place_id': 'ChIJaSDtArn9YjkRPcQGnsTw2qQ', 'data_id': '0x3962fdb902ed2069:0xa4daf0c49e06c43d', 'data_cid': '11879071694398604349', 'reviews_link': 'https://serpapi.com/search.json?data_id=0x3962fdb902ed2069%3A0xa4daf0c49e06c43d&engine=google_maps_reviews&hl=en', 'photos_link': 'https://serpapi.com/search.json?data_id=0x3962fdb902ed2069%3A0xa4daf0c49e06c43d&engine=google_maps_photos&hl=en', 'gps_coordinates': {'latitude': 22.7027474, 'longitude': 75.8121151}, 'place_id_search': 'https://serpapi.com/search.json?engine=google_maps&google_domain=google.com&hl=en&place_id=ChIJaSDtArn9YjkRPcQGnsTw2qQ', 'provider_id': '/g/11q35jd6t3', 'rating': 4.3, 'reviews': 1097, 'unclaimed_listing': True, 'type': 'Tourist attraction', 'types': ['Tourist attraction'], 'type_id': 'tourist_attraction', 'type_ids': ['tourist_attraction'], 'address': 'PR36+3RX, Sirpur, Indore, Madhya Pradesh 452002, India', 'open_state': 'Open 24 hours', 'hours': 'Open 24 hours', 'operating_hours': {'friday': 'Open 24 hours', 'saturday': 'Open 24 hours', 'sunday': 'Open 24 hours', 'monday': 'Open 24 hours', 'tuesday': 'Open 24 hours', 'wednesday': 'Open 24 hours', 'thursday': 'Open 24 hours'}, 'phone': '+91 1800 233 7777', 'extensions': [{'accessibility': ['Wheelchair accessible entrance', 'Wheelchair accessible parking lot']}, {'children': ['Good for kids', 'Good for kids birthday']}], 'user_review': '\"It’s a great location for a morning walk or a quiet time by the water.\"', 'thumbnail': 'https://lh3.googleusercontent.com/gps-cs-s/AC9h4noNrPK2TEtRuLXJWJxoYHbmd9YWPqVC8KVNbXcrFJ44tQ5AMTWngM5Pg5JC3j2fX-R4uVanqALw6xpvSss8DdEvtmLl5Zzhu5eTADM0WIIfQ8AEBLS3lXMjGfaEB7YOcyaMNkxKJQ=w122-h92-k-no', 'serpapi_thumbnail': 'https://serpapi.com/images/url/5ZD_lnicBcFLcoIwAADQE0XaQBQ600VE_ARCQRk-3WGEZBQSJEGxF-wZepu-9_crjBn0h2V1wl5wpXjXTLoZmZKmkWbBVG_xQQOmgbaw7wlHqnhMQpgF5jhFJSnIrKr9ub94VZHcc98N8_hcsnFLHMekCNOskJyihCPi21fYluDoTHkt7zh6LufhcdLa3VyCh-mjDn3_iAk1Gd7Qt-JwaFMXB-voZHclve7aOlivqi_2qml8m0OSfj7fIQTCg-AGpPoHJ3tEeA'}, {'position': 11, 'title': 'Crescent Water', 'place_id': 'ChIJvWZJAG_kYjkRnuyVN1I12no', 'data_id': '0x3962e46f004966bd:0x7ada35523795ec9e', 'data_cid': '8852446644786293918', 'reviews_link': 'https://serpapi.com/search.json?data_id=0x3962e46f004966bd%3A0x7ada35523795ec9e&engine=google_maps_reviews&hl=en', 'photos_link': 'https://serpapi.com/search.json?data_id=0x3962e46f004966bd%3A0x7ada35523795ec9e&engine=google_maps_photos&hl=en', 'gps_coordinates': {'latitude': 22.6483873, 'longitude': 75.960802}, 'place_id_search': 'https://serpapi.com/search.json?engine=google_maps&google_domain=google.com&hl=en&place_id=ChIJvWZJAG_kYjkRnuyVN1I12no', 'provider_id': '/g/11bc96vxlk', 'rating': 4.2, 'reviews': 10425, 'type': 'Tourist attraction', 'types': ['Tourist attraction', 'Water park'], 'type_id': 'tourist_attraction', 'type_ids': ['tourist_attraction', 'water_park'], 'address': 'Gram Jamniya, Near Narmada Kshipra Devguradia Khurd, Kampel Rd, Indore, Madhya Pradesh 452016, India', 'open_state': 'Closed ⋅ Opens 10\\u202fAM Sat', 'hours': 'Closed ⋅ Opens 10\\u202fAM Sat', 'operating_hours': {'friday': '10\\u202fAM–6\\u202fPM', 'saturday': '10\\u202fAM–6\\u202fPM', 'sunday': '10\\u202fAM–6\\u202fPM', 'monday': '10\\u202fAM–6\\u202fPM', 'tuesday': '10\\u202fAM–6\\u202fPM', 'wednesday': '10\\u202fAM–6\\u202fPM', 'thursday': '10\\u202fAM–6\\u202fPM'}, 'phone': '+91 87208 88881', 'website': 'http://www.crescentwaterparks.com/', 'description': 'Family water park with picnic areas. Family-friendly water park featuring a variety of slides & pools, plus picnic areas.', 'extensions': [{'service_options': ['Onsite services']}, {'accessibility': ['Wheelchair accessible entrance', 'Wheelchair accessible parking lot', 'Wheelchair accessible restroom']}, {'offerings': ['Food']}, {'amenities': ['Bar onsite', 'Restaurant', 'Restroom', 'Wi-Fi', 'Free Wi-Fi']}, {'payments': ['Credit cards', 'NFC mobile payments']}, {'children': ['Good for kids', 'Playground']}], 'service_options': {'onsite_services': True}, 'thumbnail': 'https://lh3.googleusercontent.com/gps-cs-s/AC9h4noabN97tVWhoLqZaessGvmKLyP0FlsRalqpnXQ8OVUGWH9jErKyTT6WzRblFFXXgJolUhVOWKpWmT0tpWuo-qNU83zv61OvpgNUkyHHLzEml8aX3P2F3sHKpNRZJUnHd5eU0TyO=w122-h92-k-no', 'serpapi_thumbnail': 'https://serpapi.com/images/url/oF4yqXicBcHRboIwFADQL6ogTAcmPiwL0AgBRyglviFr2mjpLd7KAv-3j_BvPOf1r5yzePA8rcKNBJBaPFE8BjBOGLcZYPSkRTIgQe_rO1YfBvprGX-6lisopksvELN5zIvl7Kca615P1nQ_UdWyjNP4ljzypWn2fK2vOk27Tp5AM9VWPLd8bHxn-RPIVLIoXOf9tpqtLNl9obRYk1FHfReegzREmtuyvpyYob87wfxmqY5_2yAgKg7InRh4A2XrRaY'}, {'position': 12, 'title': 'Sheesh Mahal', 'place_id': 'ChIJ7bzmyab9YjkRQD2lZRdDYBY', 'data_id': '0x3962fda6c9e6bced:0x1660431765a53d40', 'data_cid': '1612362434367274304', 'reviews_link': 'https://serpapi.com/search.json?data_id=0x3962fda6c9e6bced%3A0x1660431765a53d40&engine=google_maps_reviews&hl=en', 'photos_link': 'https://serpapi.com/search.json?data_id=0x3962fda6c9e6bced%3A0x1660431765a53d40&engine=google_maps_photos&hl=en', 'gps_coordinates': {'latitude': 22.7164415, 'longitude': 75.84862129999999}, 'place_id_search': 'https://serpapi.com/search.json?engine=google_maps&google_domain=google.com&hl=en&place_id=ChIJ7bzmyab9YjkRQD2lZRdDYBY', 'provider_id': '/g/11bbrh4456', 'rating': 4.2, 'reviews': 1114, 'type': 'Tourist attraction', 'types': ['Tourist attraction', 'Historical landmark', 'Heritage building'], 'type_id': 'tourist_attraction', 'type_ids': ['tourist_attraction', 'historical_landmark', 'heritage_building'], 'address': 'Hukumchand Marg, Opposite Kaanch Mandir, Itwaria Bazaar, Indore, Madhya Pradesh 452002, India', 'open_state': 'Closed ⋅ Opens 10:30\\u202fAM Sat', 'hours': 'Closed ⋅ Opens 10:30\\u202fAM Sat', 'operating_hours': {'friday': '10:30\\u202fAM–5\\u202fPM', 'saturday': '10:30\\u202fAM–5\\u202fPM', 'sunday': 'Closed', 'monday': '10:30\\u202fAM–5\\u202fPM', 'tuesday': '10:30\\u202fAM–5\\u202fPM', 'wednesday': '10:30\\u202fAM–5\\u202fPM', 'thursday': '10:30\\u202fAM–5\\u202fPM'}, 'extensions': [{'service_options': ['Onsite services']}, {'children': ['Good for kids']}], 'unsupported_extensions': [{'accessibility': ['Wheelchair accessible entrance']}], 'service_options': {'onsite_services': True}, 'thumbnail': 'https://lh3.googleusercontent.com/gps-cs-s/AC9h4nqyMiKgoUJ1tFquKi4IlPkv6C56JpLf-plbBgMTMPl4U2dYL6rIimQATDam7LASxzQhtu6VQiPpp0b15ZiazAnhrxe-_MplYzFVzDq06qTdy-4cYg5ui-rUwdPqsz3TgySZO1s=w122-h92-k-no', 'serpapi_thumbnail': 'https://serpapi.com/images/url/i1I4gnicBcHdCoIwGADQJ_oyTRcFXVgiVEpKGuhNlNo2mvtxs3LP10v0Np3z-xJjpF47DiOLGRYCs27U3dAIbjpuZo3oHSw1NBq0E-5WxOdqSukRi_LgmliNR-rvWfZ8oV2ADjJ5gGT3LU6LNGN-6bVVgoY97fOwiG79MgnPH5sTM6JLTjMp53c3qOnNhpwMnw6uqWSVjS82UnOkinYCv6lwMFIYynebKW0XBZ7O9cnVm7freUBWHjyBiz_J_kVi'}, {'position': 13, 'title': 'Lalbagh Garden', 'place_id': 'ChIJU5qgiaz9YjkRn9jcM47JlqY', 'data_id': '0x3962fdac89a09a53:0xa696c98e33dcd89f', 'data_cid': '12004003469395286175', 'reviews_link': 'https://serpapi.com/search.json?data_id=0x3962fdac89a09a53%3A0xa696c98e33dcd89f&engine=google_maps_reviews&hl=en', 'photos_link': 'https://serpapi.com/search.json?data_id=0x3962fdac89a09a53%3A0xa696c98e33dcd89f&engine=google_maps_photos&hl=en', 'gps_coordinates': {'latitude': 22.7028405, 'longitude': 75.8468702}, 'place_id_search': 'https://serpapi.com/search.json?engine=google_maps&google_domain=google.com&hl=en&place_id=ChIJU5qgiaz9YjkRn9jcM47JlqY', 'provider_id': '/g/1tg38hm9', 'rating': 4.3, 'reviews': 9247, 'unclaimed_listing': True, 'type': 'Tourist attraction', 'types': ['Tourist attraction', 'Park'], 'type_id': 'tourist_attraction', 'type_ids': ['tourist_attraction', 'park'], 'address': 'PR3W+4PQ, Lal Bagh Rd, Triveni Colony, Indore, Madhya Pradesh 452009, India', 'open_state': 'Open now', 'description': 'Large garden at Lal Bagh Palace. Sprawling garden outside Lal Bagh Palace offering walking paths amid European-style landscaping.', 'extensions': [{'service_options': ['Onsite services']}, {'highlights': ['Picnics']}, {'accessibility': ['Wheelchair accessible entrance', 'Wheelchair accessible parking lot']}, {'amenities': ['Public restroom']}, {'children': ['Good for kids', 'Playground']}], 'service_options': {'onsite_services': True}, 'thumbnail': 'https://lh3.googleusercontent.com/gps-cs-s/AC9h4npnKKWmJKBb1C50gpHR9whl4noTsDUfyeMRnIlk3X85R8j2Vk8Lw7K8oZHmlxPJOUXNqIoDTL3QYnJU9eiaj6vG9L1q0F_TfPl2QbeC_erNDmj-uDdKIgHUZv-XH6yvIUqp0Brj=w122-h92-k-no', 'serpapi_thumbnail': 'https://serpapi.com/images/url/hVc9zHicBcFLcoIwAADQE0UgqCWd6UJhWiD4Y0iLbhilMRFCEgiCHNBDeBvfez1532vzaVmCuzOmFBP0bmhXKtlT2c9K1VhMG1AaYKyVj_hcaonxXxPj9cXxFzbTYYpGLuZSZSYg14luUhmJ2s29RepV8Lf2kvEDe-oUNuKxj3ck37aRCrLEPRxlTBC9navl8IMSp7W_i-y6F_BwoX5Bu23QVOAe_OOIheQ0gDxcTkNEWm2vu-prdCAEHEFQA6nel-ZEBg'}, {'position': 14, 'title': \"St. Ann's Church (White Church) – Indore\", 'place_id': 'ChIJ7Xm3XST9YjkRtFNGfyTXAOc', 'data_id': '0x3962fd245db779ed:0xe700d7247f4653b4', 'data_cid': '16645540774515463092', 'reviews_link': 'https://serpapi.com/search.json?data_id=0x3962fd245db779ed%3A0xe700d7247f4653b4&engine=google_maps_reviews&hl=en', 'photos_link': 'https://serpapi.com/search.json?data_id=0x3962fd245db779ed%3A0xe700d7247f4653b4&engine=google_maps_photos&hl=en', 'gps_coordinates': {'latitude': 22.7107316, 'longitude': 75.8838243}, 'place_id_search': 'https://serpapi.com/search.json?engine=google_maps&google_domain=google.com&hl=en&place_id=ChIJ7Xm3XST9YjkRtFNGfyTXAOc', 'provider_id': '/g/1tg5sgd8', 'rating': 4.2, 'reviews': 807, 'type': 'Tourist attraction', 'types': ['Tourist attraction', 'Church'], 'type_id': 'tourist_attraction', 'type_ids': ['tourist_attraction', 'church'], 'address': 'Pipliyahana Rd, White Church Colony, Residency Area, Indore, Madhya Pradesh 452001, India', 'open_state': 'Closed ⋅ Opens 9\\u202fAM Sat', 'hours': 'Closed ⋅ Opens 9\\u202fAM Sat', 'operating_hours': {'friday': '9\\u202fAM–12\\u202fPM', 'saturday': '9\\u202fAM–12\\u202fPM', 'sunday': '9\\u202fAM–12\\u202fPM', 'monday': '9\\u202fAM–12\\u202fPM', 'tuesday': '9\\u202fAM–12\\u202fPM', 'wednesday': '9\\u202fAM–12\\u202fPM', 'thursday': '9\\u202fAM–12\\u202fPM'}, 'description': 'Colonial-era church with white facades. Landmark church from 1858, with ornate, split-level facades & spires topped by red-tiled roofs.', 'extensions': [{'accessibility': ['Wheelchair accessible entrance', 'Wheelchair accessible parking lot']}, {'amenities': ['Restroom']}], 'user_review': '\"Serene and peaceful.\"', 'thumbnail': 'https://lh3.googleusercontent.com/gps-cs-s/AC9h4nqhKQX3Dm_TCJrBNvH8sRzJ_Axm8318uPSq8m-BrzcNPWXj1NRVbR_ZYnR5pQKPQUqsfNdRTPMm2FcTFK-KcgAdPFm9pMHoqSjjt7Hj4DrKXU-yxVcBZLblwwwbM73g0jFQ7bc=w80-h127-k-no', 'serpapi_thumbnail': 'https://serpapi.com/images/url/mW-Vm3icBcFRDoIgAADQE5GZNamtD7U5F-mQrKwfN8lgJKBCWZ2vS3Sb3vt9ubWdWTlOy70J05q1zcM0A9XKNspOqJYO6wygBhgniJZ8rnqO8tLbyKqItkOYPRNoyGdbBS8JPRc-8L6HEoTDh2b4VAo3I8eaVJezIosuRzg_9OaWXUmBUzmLaREjgCgLrjiWyy5NdL8XwvqJmG8GVB7A-3Wk4WVXt-M41qnvsamIc7-m6xFOAXdnPrgDpf9vNEQM'}, {'position': 15, 'title': 'Shree Atal Bihari Vajpayee Kshetriya Udyan', 'place_id': 'ChIJE9rsw_T8YjkRu8EylMteGJ0', 'data_id': '0x3962fcf4c3ecda13:0x9d185ecb9432c1bb', 'data_cid': '11319901891853468091', 'reviews_link': 'https://serpapi.com/search.json?data_id=0x3962fcf4c3ecda13%3A0x9d185ecb9432c1bb&engine=google_maps_reviews&hl=en', 'photos_link': 'https://serpapi.com/search.json?data_id=0x3962fcf4c3ecda13%3A0x9d185ecb9432c1bb&engine=google_maps_photos&hl=en', 'gps_coordinates': {'latitude': 22.677488, 'longitude': 75.8569905}, 'place_id_search': 'https://serpapi.com/search.json?engine=google_maps&google_domain=google.com&hl=en&place_id=ChIJE9rsw_T8YjkRu8EylMteGJ0', 'provider_id': '/g/11c67q0dzf', 'rating': 4.2, 'reviews': 8350, 'unclaimed_listing': True, 'type': 'Tourist attraction', 'types': ['Tourist attraction', 'Park'], 'type_id': 'tourist_attraction', 'type_ids': ['tourist_attraction', 'park'], 'address': 'MVG4+XQX, Indore, Madhya Pradesh 452001, India', 'open_state': 'Open ⋅ Closes 9\\u202fPM', 'hours': 'Open ⋅ Closes 9\\u202fPM', 'operating_hours': {'friday': '11\\u202fAM–9\\u202fPM', 'saturday': '11\\u202fAM–9\\u202fPM', 'sunday': '11\\u202fAM–9\\u202fPM', 'monday': 'Closed', 'tuesday': '11\\u202fAM–9\\u202fPM', 'wednesday': '11\\u202fAM–9\\u202fPM', 'thursday': '11\\u202fAM–9\\u202fPM'}, 'phone': '+91 98936 99113', 'description': 'Park with boating, fountains & gardens. Spacious park with a lake, canal & gardens offering boating, fountains, a maze & an amphitheater.', 'extensions': [{'service_options': ['Onsite services']}, {'highlights': ['Picnics']}, {'accessibility': ['Wheelchair accessible entrance', 'Wheelchair accessible parking lot']}, {'activities': ['Hiking']}, {'amenities': ['Picnic tables', 'Public restroom', 'Skateboarding area', 'Slides', 'Swings']}, {'children': ['Good for kids', 'Good for kids birthday', 'Kid-friendly hikes', 'Playground']}, {'pets': ['Dog park']}], 'service_options': {'onsite_services': True}, 'thumbnail': 'https://lh3.googleusercontent.com/gps-cs-s/AC9h4nqdpanBg6Aesw2b9uuxOznlTFfWVc_omak7BcRZFflfR4ekZHXWfl7SsrlkKapYVKc0Doe3MTRNUuuqWynLffYKRKJjhoOt3yax_HuhdNuCPnfBZrTdL2CZ3DOb5SkIlh4KpAbD=w204-h92-k-no', 'serpapi_thumbnail': 'https://serpapi.com/images/url/sUFI73icBcHbDoIgAADQLyKbWs22HrzMWVQ2My1fmiLIgoAE1uX_-oj-pnN-X2qM0kvH4dSbDFIOHFuNRySFwcJMkLw7g9IAaaCdMA6oLx69akU0zEOsn24XWPvKP4KXKakrdJX3li0iVDQp4aTwMWuyc0344qhHzmCrLhVE00Rib1cW-5O1j_ottoRcYAE3Nypz473b1zWztN_b-CBI1Ixlv3XjxkvybnZka059qMIuWT3dqQ9o4AIGhPwDwXxGwg'}, {'position': 16, 'title': 'Lal Bagh Palace', 'place_id': 'ChIJ4Zpzpaz9YjkRkXq3Lr34lk0', 'data_id': '0x3962fdaca5739ae1:0x4d96f8bd2eb77a91', 'data_cid': '5590929478843333265', 'reviews_link': 'https://serpapi.com/search.json?data_id=0x3962fdaca5739ae1%3A0x4d96f8bd2eb77a91&engine=google_maps_reviews&hl=en', 'photos_link': 'https://serpapi.com/search.json?data_id=0x3962fdaca5739ae1%3A0x4d96f8bd2eb77a91&engine=google_maps_photos&hl=en', 'gps_coordinates': {'latitude': 22.7000545, 'longitude': 75.8470942}, 'place_id_search': 'https://serpapi.com/search.json?engine=google_maps&google_domain=google.com&hl=en&place_id=ChIJ4Zpzpaz9YjkRkXq3Lr34lk0', 'provider_id': '/g/1tm__mp7', 'rating': 4.3, 'reviews': 7105, 'unclaimed_listing': True, 'type': 'Historical place museum', 'types': ['Historical place museum', 'Museum'], 'type_id': 'historical_place_museum', 'type_ids': ['historical_place_museum', 'museum'], 'address': 'PR2W+2RH, Nai Duniya, Revenue Colony, Indira Gandhi Nagar, Indore, Madhya Pradesh 452009, India', 'open_state': 'Closed ⋅ Opens 10:15\\u202fAM Sat', 'hours': 'Closed ⋅ Opens 10:15\\u202fAM Sat', 'operating_hours': {'friday': '10:15\\u202fAM–5\\u202fPM', 'saturday': '10:15\\u202fAM–5\\u202fPM', 'sunday': '10:15\\u202fAM–5\\u202fPM', 'monday': 'Closed', 'tuesday': '10:15\\u202fAM–5\\u202fPM', 'wednesday': '10:15\\u202fAM–5\\u202fPM', 'thursday': '10:15\\u202fAM–5\\u202fPM'}, 'description': 'Opulent European-style royal residence. Lavish 19th-century palace of the Holkar dynasty, in a mix of baroque, rococo & neoclassical styles.', 'extensions': [{'service_options': ['Onsite services']}, {'accessibility': ['Wheelchair accessible entrance', 'Wheelchair accessible parking lot', 'Wheelchair accessible restroom']}, {'amenities': ['Restroom']}, {'children': ['Good for kids']}], 'unsupported_extensions': [{'amenities': ['Restaurant']}], 'service_options': {'onsite_services': True}, 'thumbnail': 'https://lh3.googleusercontent.com/gps-cs-s/AC9h4nrPOhDc61toAHzoCLfgrrPcsKSPzkrbwikHTo_wjAOiDp1C3D4QiXbaPNJt0RJ7AfTLJr01kMjPzWdq70T2CvrCpR8T3iFOFWgJpKlKzQV2OqUPUQ4eP0NtOferH24T5dQf9NCG=w109-h92-k-no', 'serpapi_thumbnail': 'https://serpapi.com/images/url/Vl7RjHicBcHbboMgAADQL0Lxsjmb7MFgOqNWsKOXt2alCF4qFFhN_L99xP6m5_z_See03fj-JCNPKCUm_mu5YWp2fHYeU3dfaAuYBdbPUCrj2RAsc_YeOJUVq0J1J4whzFbfZB3NdenHgqrLMmS4z3WAojxu-_P1hzSlg_syyTpalwYG424g6-n2SCAN0dMgvf-gUb_F25ModTVVa3sM8eNADm3MCWwc7rgpwpi-3doubdDX5xLAFMg0BCOY1Qv1NEQC'}, {'position': 17, 'title': 'Gommatgiri Digambar Jain Mandir', 'place_id': 'ChIJOdA1ItoBYzkRn0tyqVi-_5o', 'data_id': '0x396301da2235d039:0x9affbe58a9724b9f', 'data_cid': '11168854888911358879', 'reviews_link': 'https://serpapi.com/search.json?data_id=0x396301da2235d039%3A0x9affbe58a9724b9f&engine=google_maps_reviews&hl=en', 'photos_link': 'https://serpapi.com/search.json?data_id=0x396301da2235d039%3A0x9affbe58a9724b9f&engine=google_maps_photos&hl=en', 'gps_coordinates': {'latitude': 22.7457295, 'longitude': 75.7732671}, 'place_id_search': 'https://serpapi.com/search.json?engine=google_maps&google_domain=google.com&hl=en&place_id=ChIJOdA1ItoBYzkRn0tyqVi-_5o', 'provider_id': '/g/1tkrk60q', 'rating': 4.6, 'reviews': 3160, 'unclaimed_listing': True, 'type': 'Tourist attraction', 'types': ['Tourist attraction', 'Jain temple'], 'type_id': 'tourist_attraction', 'type_ids': ['tourist_attraction', 'jain_temple'], 'address': 'PQWF+78R, Major District Rd, Nainod Village, Indore, Madhya Pradesh 257112, India', 'description': 'Hilltop Hindu temple with scenic views. Hindu temple with statues on a serene hilltop offering scenic views of the city.', 'extensions': [{'service_options': ['Onsite services']}, {'accessibility': ['Wheelchair accessible entrance', 'Wheelchair accessible parking lot']}, {'amenities': ['Restroom']}], 'service_options': {'onsite_services': True}, 'thumbnail': 'https://lh3.googleusercontent.com/gps-cs-s/AC9h4nq7yf5mC5bGVZL0mCxCJgEUocretMbTdd0xpLOZJoaq4V-X5x0dBf2cYXny8Axd8kusBc4WFsZ2PpH-3b7wSyXOr-DHWiJMNH0arVp1VzlDXFRRK4Zb7L43ewiNo3O11HaTLz5e=w80-h106-k-no', 'serpapi_thumbnail': 'https://serpapi.com/images/url/i0ooDnicBcHbEkJAAADQL1oWK2qmB1EZuTRdJG-sjSZ2l90G_V8f0d90zu_bSMnFSlXbxlBqxuqWvAUZMKOSUKlg1qk1FwALIFTHXTaI9tb8MDvXLPdpHsLOndyg3l4ZHoiMyktVwYmHSR6wokcpyMwJVpuHju8ZnW1nquzXW2wwuu1Erh-5D4zSGs9zlgzA82_PIIp9WAwp19JP62W70-mA8tIKkUHGZ8yMRNP84hJ-TLIebQgaDS7AC1D2B7FxQ4w'}, {'position': 18, 'title': 'I Love Indore Selfie Point', 'place_id': 'ChIJQSWMOzj9YjkRb89T9I59Cts', 'data_id': '0x3962fd383b8c2541:0xdb0a7d8ef453cf6f', 'data_cid': '15783565897011285871', 'reviews_link': 'https://serpapi.com/search.json?data_id=0x3962fd383b8c2541%3A0xdb0a7d8ef453cf6f&engine=google_maps_reviews&hl=en', 'photos_link': 'https://serpapi.com/search.json?data_id=0x3962fd383b8c2541%3A0xdb0a7d8ef453cf6f&engine=google_maps_photos&hl=en', 'gps_coordinates': {'latitude': 22.7242624, 'longitude': 75.8872726}, 'place_id_search': 'https://serpapi.com/search.json?engine=google_maps&google_domain=google.com&hl=en&place_id=ChIJQSWMOzj9YjkRb89T9I59Cts', 'provider_id': '/g/11hbv9v4f4', 'rating': 4.5, 'reviews': 1283, 'unclaimed_listing': True, 'type': 'Tourist attraction', 'types': ['Tourist attraction'], 'type_id': 'tourist_attraction', 'type_ids': ['tourist_attraction'], 'address': 'PVFP+PW2, New Palasia, Indore, Madhya Pradesh 452018, India', 'open_state': 'Open 24 hours', 'hours': 'Open 24 hours', 'operating_hours': {'friday': 'Open 24 hours', 'saturday': 'Open 24 hours', 'sunday': 'Open 24 hours', 'monday': 'Open 24 hours', 'tuesday': 'Open 24 hours', 'wednesday': 'Open 24 hours', 'thursday': 'Open 24 hours'}, 'phone': '+91 755 278 0600', 'extensions': [{'accessibility': ['Wheelchair accessible entrance', 'Wheelchair accessible parking lot']}, {'children': ['Good for kids']}], 'user_review': '\"It feels safe and spacious even in the middle of the city.\"', 'thumbnail': 'https://lh3.googleusercontent.com/gps-cs-s/AC9h4noTiAH0v3sJWi9VHI7TPbA0vpORG6AnE7KYxQSL-Ck33_naKihdl27kdygXluL0asMP4QvcUiOnq1yhpzMJMNv-FWC-5C6vlJ9-FTszK7HHeiLpu-YFkJzbxFyPArGxOmNefQ=w160-h92-k-no', 'serpapi_thumbnail': 'https://serpapi.com/images/url/Lxs9dHicBcFLDoIwFADAEz1BUQgmLhoiIh8Bxd_KKFbaUNtqoQLX8xTexpnflzSNVHPDYMQaVUJUDLcKv0vBG8ybUSmeRiUVlAqUgTyXTLkoKApMbanwSN1DsHaK7IZMLdPtykZ86UTnLt_F4NWWdeHXiJI7mzj1va9OrI3Nq0qyaa7LPU35a9wTOSRhstHgHz2YebZmoQt-oYbICQJMY9nC2a_D4db5fYbeqy59bvAjX3zGtgnEnUANXPwB6nxDaQ'}, {'position': 19, 'title': 'Shree Bijasan Mata Mandir Indore', 'place_id': 'ChIJz0VrnQX-YjkRy-Kd98ZjiSg', 'data_id': '0x3962fe059d6b45cf:0x288963c6f79de2cb', 'data_cid': '2920975539535471307', 'reviews_link': 'https://serpapi.com/search.json?data_id=0x3962fe059d6b45cf%3A0x288963c6f79de2cb&engine=google_maps_reviews&hl=en', 'photos_link': 'https://serpapi.com/search.json?data_id=0x3962fe059d6b45cf%3A0x288963c6f79de2cb&engine=google_maps_photos&hl=en', 'gps_coordinates': {'latitude': 22.730383999999997, 'longitude': 75.7982708}, 'place_id_search': 'https://serpapi.com/search.json?engine=google_maps&google_domain=google.com&hl=en&place_id=ChIJz0VrnQX-YjkRy-Kd98ZjiSg', 'provider_id': '/m/09k65hw', 'rating': 4.6, 'reviews': 6963, 'type': 'Tourist attraction', 'types': ['Tourist attraction', 'Hindu temple'], 'type_id': 'tourist_attraction', 'type_ids': ['tourist_attraction', 'hindu_temple'], 'address': 'Devi Ahillyabai Holkar Airport Area, Indore, Madhya Pradesh 452005, India', 'open_state': 'Open ⋅ Closes 10:30\\u202fPM', 'hours': 'Open ⋅ Closes 10:30\\u202fPM', 'operating_hours': {'friday': '5:30\\u202fAM–10:30\\u202fPM', 'saturday': '5:30\\u202fAM–11\\u202fPM', 'sunday': '5:30\\u202fAM–11\\u202fPM', 'monday': '5:30\\u202fAM–10:30\\u202fPM', 'tuesday': '5:30\\u202fAM–10:30\\u202fPM', 'wednesday': '5:30\\u202fAM–10:30\\u202fPM', 'thursday': '5:30\\u202fAM–10:30\\u202fPM'}, 'description': 'Bright Hindu temple atop a hill. Hilltop temple with street stalls, lion statues & colorful renderings of Hindu deities.', 'extensions': [{'service_options': ['Onsite services']}, {'accessibility': ['Wheelchair accessible entrance', 'Wheelchair accessible parking lot']}, {'amenities': ['Restroom']}, {'payments': ['Google Pay']}], 'service_options': {'onsite_services': True}, 'thumbnail': 'https://lh3.googleusercontent.com/gps-cs-s/AC9h4nrY90yGOOQMQgCRRiydUcpUEWwXX8wEoU7lgAWBonr3Bi1v18Ti1_824Vj4j26sYjTxEW1NRgXQAH9f_pdjPhefYiYF7r7bXhMggUyLPYexadaP_RVhO9C5Zthu42QVGKApdhFpqw=w122-h92-k-no', 'serpapi_thumbnail': 'https://serpapi.com/images/url/9iobenicBcFbcoIwFADQFUWaSAvpjB_AoJ1plcfII_1hLMRcKCYpiSIrdA3upuc8H2CtNu-OM8J6JZQSI78aPrVKWi7tqlUXR2iDWoOME0QUXDkx-rLskiTbZyLK837pilYXcTXXtT_HqvBGEVShktM67PEN-8ceNz5xy8EdyJthw_EeV_iQizoLPui50d2QAj-znm29yfupYS9EsXyljN9P3Slt8hISGr1-W7i6JCt3n4HuYKv_5s2MCUFACfpFUv0DQupFUA'}, {'position': 20, 'title': 'Shree Sitlamata Mandir', 'place_id': 'ChIJrTcuM6H9YjkRBjwYITO5-5Y', 'data_id': '0x3962fda1332e37ad:0x96fbb93321183c06', 'data_cid': '10879492954093272070', 'reviews_link': 'https://serpapi.com/search.json?data_id=0x3962fda1332e37ad%3A0x96fbb93321183c06&engine=google_maps_reviews&hl=en', 'photos_link': 'https://serpapi.com/search.json?data_id=0x3962fda1332e37ad%3A0x96fbb93321183c06&engine=google_maps_photos&hl=en', 'gps_coordinates': {'latitude': 22.7190914, 'longitude': 75.8499169}, 'place_id_search': 'https://serpapi.com/search.json?engine=google_maps&google_domain=google.com&hl=en&place_id=ChIJrTcuM6H9YjkRBjwYITO5-5Y', 'provider_id': '/g/1hm4yt5p8', 'rating': 4.4, 'reviews': 1596, 'unclaimed_listing': True, 'type': 'Tourist attraction', 'types': ['Tourist attraction', 'Hindu temple'], 'type_id': 'tourist_attraction', 'type_ids': ['tourist_attraction', 'hindu_temple'], 'address': 'PR9X+JXM, Sitlamata Bazar Main Rd, Gorakund, M.T Cloth Market, Maharaja Tukoji Rao Holker Cloth Market, Indore, Madhya Pradesh 452002, India', 'open_state': 'Open ⋅ Closes 10\\u202fPM', 'hours': 'Open ⋅ Closes 10\\u202fPM', 'operating_hours': {'friday': '6\\u202fAM–10\\u202fPM', 'saturday': '6\\u202fAM–10\\u202fPM', 'sunday': '6\\u202fAM–10\\u202fPM', 'monday': '6\\u202fAM–10\\u202fPM', 'tuesday': '6\\u202fAM–10\\u202fPM', 'wednesday': '6\\u202fAM–10\\u202fPM', 'thursday': '6\\u202fAM–10\\u202fPM'}, 'phone': '+91 90091 35420', 'extensions': [{'service_options': ['Onsite services']}, {'accessibility': ['Wheelchair accessible parking lot']}], 'service_options': {'onsite_services': True}, 'thumbnail': 'https://lh3.googleusercontent.com/gps-cs-s/AC9h4nr83cbdjOElaAivv7g0zo7GuYzG_pNwcZrlYFCn2mkJ5_j6L5tx69Q1t0ut9k6jaAfNmIdtDwCaPWTfpMkzIn7KoGcUD9si3761AeSNI1WuJbjUU4tx4IGXBzyb8Qk0zhRm7Iva=w122-h92-k-no', 'serpapi_thumbnail': 'https://serpapi.com/images/url/J1Z_5HicBcFbcoIwFADQFUWeEuOMH4iWiW3xURkfPw5EJBJIGHIBm_11Ed2N5_z_cYBWzy2r5t6kVKqsi14XHVMSCgkTphqrbDViGmkrjAj3ZTfzWH6vtus6C5_DgEvbKBz3FxPf2mRk166-fETSbcRmequCrym8ArJ3wO6BiKDKwkfS0DusxijbnY6P9lsYKvGnilm6Ivrp4cAJi5-EOqd-k1dp6sPLp_F5aX7z2V7Yhh8aTIdsMTquizhxkUBSvQEPeET0'}]\n"
     ]
    }
   ],
   "source": [
    "result = tools[0].run(\n",
    "    {\n",
    "        \"place\": \"indore\"\n",
    "    }\n",
    ")"
   ]
  },
  {
   "cell_type": "code",
   "execution_count": 25,
   "id": "0dea4644",
   "metadata": {},
   "outputs": [
    {
     "data": {
      "text/plain": [
       "'Following are the attraction after  google search results of indore as suggested by google: [{\\'position\\': 1, \\'title\\': \\'Shri Annapurna Temple, Indore\\', \\'place_id\\': \\'ChIJ2ye35U78YjkR15LG9w1NFzo\\', \\'data_id\\': \\'0x3962fc4ee5b727db:0x3a174d0df7c692d7\\', \\'data_cid\\': \\'4185899101051065047\\', \\'reviews_link\\': \\'https://serpapi.com/search.json?data_id=0x3962fc4ee5b727db%3A0x3a174d0df7c692d7&engine=google_maps_reviews&hl=en\\', \\'photos_link\\': \\'https://serpapi.com/search.json?data_id=0x3962fc4ee5b727db%3A0x3a174d0df7c692d7&engine=google_maps_photos&hl=en\\', \\'gps_coordinates\\': {\\'latitude\\': 22.6901679, \\'longitude\\': 75.8381847}, \\'place_id_search\\': \\'https://serpapi.com/search.json?engine=google_maps&google_domain=google.com&hl=en&place_id=ChIJ2ye35U78YjkR15LG9w1NFzo\\', \\'provider_id\\': \\'/g/1w6_m6tc\\', \\'rating\\': 4.7, \\'reviews\\': 15069, \\'type\\': \\'Tourist attraction\\', \\'types\\': [\\'Tourist attraction\\', \\'Scenic spot\\', \\'Hindu temple\\'], \\'type_id\\': \\'tourist_attraction\\', \\'type_ids\\': [\\'tourist_attraction\\', \\'scenic_spot\\', \\'hindu_temple\\'], \\'address\\': \\'Annapurna Rd, Annapurna Mandir, Kranti Kriplani Nagar, Indore, Madhya Pradesh 452009, India\\', \\'open_state\\': \\'Open ⋅ Closes 11\\\\u202fPM\\', \\'hours\\': \\'Open ⋅ Closes 11\\\\u202fPM\\', \\'operating_hours\\': {\\'friday\\': \\'6:30\\\\u202fAM–11\\\\u202fPM\\', \\'saturday\\': \\'6:30\\\\u202fAM–11\\\\u202fPM\\', \\'sunday\\': \\'6:30\\\\u202fAM–11\\\\u202fPM\\', \\'monday\\': \\'6:30\\\\u202fAM–11\\\\u202fPM\\', \\'tuesday\\': \\'6:30\\\\u202fAM–11\\\\u202fPM\\', \\'wednesday\\': \\'6:30\\\\u202fAM–11\\\\u202fPM\\', \\'thursday\\': \\'6:30\\\\u202fAM–11\\\\u202fPM\\'}, \\'phone\\': \\'+91 731 248 2483\\', \\'website\\': \\'http://www.shriannapurna.org/\\', \\'description\\': \\'Popular Hindu temple to goddess of food. Prominent temple dedicated to the Hindu goddess of food featuring an ornate gate & elephant statues.\\', \\'extensions\\': [{\\'service_options\\': [\\'Onsite services\\']}, {\\'accessibility\\': [\\'Wheelchair accessible entrance\\', \\'Wheelchair accessible parking lot\\', \\'Wheelchair accessible restroom\\', \\'Wheelchair accessible seating\\']}, {\\'amenities\\': [\\'Gender-neutral restroom\\', \\'Restroom\\']}, {\\'crowd\\': [\\'LGBTQ+ friendly\\']}, {\\'payments\\': [\\'Google Pay\\']}, {\\'deities_represented\\': [\\'Durga\\', \\'Hanuman\\', \\'Krishna\\', \\'Rama\\', \\'Shiva\\', \\'Vishnu\\']}], \\'service_options\\': {\\'onsite_services\\': True}, \\'thumbnail\\': \\'https://lh3.googleusercontent.com/gps-cs-s/AC9h4nraiskDJW0Urhm4fQW8m9NLIECShnNeNN14z-st40rUjMM_8B9NEOI4ng8r5wl9mLRJOtbMa_9XlcMMSOfPy5DNaGEGRx0Z-Pf7JUwmPoN_35FKn3rzXx-prDhCYyDq8WemLQHB=w138-h92-k-no\\', \\'serpapi_thumbnail\\': \\'https://serpapi.com/images/url/bwmAvnicBcFLjoIwAADQE1VQSmwnmcXw8YO0oIagbgiSQlXaMm0N6v08hLfxvc-bWzuYH8fpuTfplOp6djdMN0paJu2kUcLpBgMaA4zzF2IOpa4v5hYlpVtoLmC7LZHANF3H4Z5LyiidwhcwFrq6uBJSoQDTOFtD2SHtjz0W6S7J7JnUFT70DSH7rM2ffkTrZbzcPdwTyNt5UowiV7Ty_MVGevp1eIBBRzw8PqN_VDKRblfB7zj1EOB4Bm5Aqi91QEOF\\'}, {\\'position\\': 2, \\'title\\': \\'Krishna Pura Chhatri, Indore\\', \\'place_id\\': \\'ChIJ4c3QlAv9YjkRv3a56LyeWTg\\', \\'data_id\\': \\'0x3962fd0b94d0cde1:0x38599ebce8b976bf\\', \\'data_cid\\': \\'4060451073246721727\\', \\'reviews_link\\': \\'https://serpapi.com/search.json?data_id=0x3962fd0b94d0cde1%3A0x38599ebce8b976bf&engine=google_maps_reviews&hl=en\\', \\'photos_link\\': \\'https://serpapi.com/search.json?data_id=0x3962fd0b94d0cde1%3A0x38599ebce8b976bf&engine=google_maps_photos&hl=en\\', \\'gps_coordinates\\': {\\'latitude\\': 22.718780199999998, \\'longitude\\': 75.8580255}, \\'place_id_search\\': \\'https://serpapi.com/search.json?engine=google_maps&google_domain=google.com&hl=en&place_id=ChIJ4c3QlAv9YjkRv3a56LyeWTg\\', \\'provider_id\\': \\'/g/1v82_hnc\\', \\'rating\\': 4.2, \\'reviews\\': 4737, \\'type\\': \\'Tourist attraction\\', \\'types\\': [\\'Tourist attraction\\', \\'Hindu temple\\', \\'Historical place\\'], \\'type_id\\': \\'tourist_attraction\\', \\'type_ids\\': [\\'tourist_attraction\\', \\'hindu_temple\\', \\'historic_site\\'], \\'address\\': \\'PV95+G66, Mahatma Gandhi Rd, Rajwada, Maharaja Tukoji Rao Holker Cloth Market, Indore, Madhya Pradesh 452007, India\\', \\'open_state\\': \\'Closed ⋅ Opens 9\\\\u202fAM Sat\\', \\'hours\\': \\'Closed ⋅ Opens 9\\\\u202fAM Sat\\', \\'operating_hours\\': {\\'friday\\': \\'9\\\\u202fAM–5\\\\u202fPM\\', \\'saturday\\': \\'9\\\\u202fAM–5\\\\u202fPM\\', \\'sunday\\': \\'9\\\\u202fAM–5\\\\u202fPM\\', \\'monday\\': \\'9\\\\u202fAM–5\\\\u202fPM\\', \\'tuesday\\': \\'9\\\\u202fAM–5\\\\u202fPM\\', \\'wednesday\\': \\'9\\\\u202fAM–5\\\\u202fPM\\', \\'thursday\\': \\'9\\\\u202fAM–5\\\\u202fPM\\'}, \\'description\\': \\'Historic monument to Holkar rulers. Cenotaphs from the late 1800s memorializing Holkar rulers with wall carvings & statues.\\', \\'extensions\\': [{\\'service_options\\': [\\'Onsite services\\']}, {\\'accessibility\\': [\\'Wheelchair accessible parking lot\\']}, {\\'children\\': [\\'Good for kids\\']}, {\\'parking\\': [\\'Free parking lot\\']}], \\'service_options\\': {\\'onsite_services\\': True}, \\'thumbnail\\': \\'https://lh3.googleusercontent.com/gps-cs-s/AC9h4nqT8FI4xjs7-U-tHIc7k1OKkaOShsKFusg1_n6pAVvOaaTt29_FMMyTrFfyfOFoiHWfJMbSB8vqJDb8RHC7Apkm2nMEGud0jmVFXI7RBXQw0bpSLRS_QgzGTbJBGYu05zsW3VK2mw=w140-h92-k-no\\', \\'serpapi_thumbnail\\': \\'https://serpapi.com/images/url/h0m76HicBcFbcoIwFADQFYWXWMAZPwAbXjKMQNF-MUAhqUgSvUHUDbqG7qbn_L2plAI2qnqhK4VwTi79DP2t40z2TCodn1QiAHWAQHV9h5rsWto4Mh9nsNAXkmHUWaOeJWOTFRQSPAPRa_Yh3OqeNU0pDafGafosb3h4Dhnmv-FxiNO28Oz7Nd61dh76livGyWDpZzD_aOepwqfIyr3TYdFaUezzoj6QV1C2sRd8z9r6BcdVlRjTsl10U0PUMdCIGP8HKphEpg\\'}, {\\'position\\': 3, \\'title\\': \\'Central Museum, Indore\\', \\'place_id\\': \\'ChIJz9_VqyH9YjkRLe4Zo6eoMpw\\', \\'data_id\\': \\'0x3962fd21abd5dfcf:0x9c32a8a7a319ee2d\\', \\'data_cid\\': \\'11255243856701681197\\', \\'reviews_link\\': \\'https://serpapi.com/search.json?data_id=0x3962fd21abd5dfcf%3A0x9c32a8a7a319ee2d&engine=google_maps_reviews&hl=en\\', \\'photos_link\\': \\'https://serpapi.com/search.json?data_id=0x3962fd21abd5dfcf%3A0x9c32a8a7a319ee2d&engine=google_maps_photos&hl=en\\', \\'gps_coordinates\\': {\\'latitude\\': 22.7052254, \\'longitude\\': 75.87895639999999}, \\'place_id_search\\': \\'https://serpapi.com/search.json?engine=google_maps&google_domain=google.com&hl=en&place_id=ChIJz9_VqyH9YjkRLe4Zo6eoMpw\\', \\'provider_id\\': \\'/m/0n48990\\', \\'rating\\': 4, \\'reviews\\': 2337, \\'unclaimed_listing\\': True, \\'type\\': \\'Tourist attraction\\', \\'types\\': [\\'Tourist attraction\\', \\'Museum\\'], \\'type_id\\': \\'tourist_attraction\\', \\'type_ids\\': [\\'tourist_attraction\\', \\'museum\\'], \\'address\\': \\'PV4H+3HW, Near GPO Square, Residency, Navlakha, Indore, Madhya Pradesh 452001, India\\', \\'open_state\\': \\'Closed ⋅ Opens 10\\\\u202fAM Sat\\', \\'hours\\': \\'Closed ⋅ Opens 10\\\\u202fAM Sat\\', \\'operating_hours\\': {\\'friday\\': \\'10\\\\u202fAM–5\\\\u202fPM\\', \\'saturday\\': \\'10\\\\u202fAM–5\\\\u202fPM\\', \\'sunday\\': \\'10\\\\u202fAM–5\\\\u202fPM\\', \\'monday\\': \\'Closed\\', \\'tuesday\\': \\'10\\\\u202fAM–5\\\\u202fPM\\', \\'wednesday\\': \\'10\\\\u202fAM–5\\\\u202fPM\\', \\'thursday\\': \\'10\\\\u202fAM–5\\\\u202fPM\\'}, \\'phone\\': \\'+91 1800 11 1363\\', \\'description\\': \\'Galleries with historical artifacts. Small place with historical artifacts, including Parmar & medieval sculptures, plus coins & weapons.\\', \\'extensions\\': [{\\'service_options\\': [\\'Onsite services\\']}, {\\'accessibility\\': [\\'Wheelchair accessible entrance\\', \\'Wheelchair accessible parking lot\\', \\'Wheelchair accessible restroom\\']}, {\\'amenities\\': [\\'Restroom\\']}, {\\'children\\': [\\'Good for kids\\']}, {\\'parking\\': [\\'Free parking lot\\']}], \\'unsupported_extensions\\': [{\\'amenities\\': [\\'Restaurant\\']}], \\'service_options\\': {\\'onsite_services\\': True}, \\'thumbnail\\': \\'https://lh3.googleusercontent.com/gps-cs-s/AC9h4nodPBlZnQQznUWU1qk69EKRC9hYAjIAOoOaJDR9gAIpN9z8khcLUjBux1Re-qYCjZXspoSu_qb8Kxyvaxkz8PTPkiaZn_TmATLt5PwP9f5480Pd0k9n_G5W089qtDdIzS93NHXslg=w140-h92-k-no\\', \\'serpapi_thumbnail\\': \\'https://serpapi.com/images/url/L2PYx3icDclbcoIwFADQFYWHgpPrTD_iY5TiaEQYlR8GAZMSTKAJimywa-hu2vN7fn-4Ma2e23bDpxZTijVVr6vvQklTSWMV6mGzVqNCI22TJXBPqpIumlQej6NMzonbiRmsw-i_rqQOyEEd8s9VBIwE7R5GLHixS-pFP7hRhbrrsk4vulWnPutuOBzez3wQI6YxFV95KrP4QeKd8emLwt33sENLR4DMNv7ZwdCZVRmMJ5jutxfdsI-X6zmIwwQJJNUfgGlFXw\\'}, {\\'position\\': 4, \\'title\\': \\'ISKCON Radha Govind Temple\\', \\'place_id\\': \\'ChIJ19qvp2MdYzkRBWtKCGNNobs\\', \\'data_id\\': \\'0x39631d63a7afdad7:0xbba14d63084a6b05\\', \\'data_cid\\': \\'13520172644079135493\\', \\'reviews_link\\': \\'https://serpapi.com/search.json?data_id=0x39631d63a7afdad7%3A0xbba14d63084a6b05&engine=google_maps_reviews&hl=en\\', \\'photos_link\\': \\'https://serpapi.com/search.json?data_id=0x39631d63a7afdad7%3A0xbba14d63084a6b05&engine=google_maps_photos&hl=en\\', \\'gps_coordinates\\': {\\'latitude\\': 22.7564039, \\'longitude\\': 75.9312642}, \\'place_id_search\\': \\'https://serpapi.com/search.json?engine=google_maps&google_domain=google.com&hl=en&place_id=ChIJ19qvp2MdYzkRBWtKCGNNobs\\', \\'provider_id\\': \\'/g/119t_0hbk\\', \\'rating\\': 4.6, \\'reviews\\': 3502, \\'type\\': \\'Tourist attraction\\', \\'types\\': [\\'Tourist attraction\\', \\'Hindu temple\\'], \\'type_id\\': \\'tourist_attraction\\', \\'type_ids\\': [\\'tourist_attraction\\', \\'hindu_temple\\'], \\'address\\': \\'Hare Krishna Vihar, Nipania, Indore, Madhya Pradesh 452016, India\\', \\'open_state\\': \\'Open ⋅ Closes 8:45\\\\u202fPM\\', \\'hours\\': \\'Open ⋅ Closes 8:45\\\\u202fPM\\', \\'operating_hours\\': {\\'friday\\': \\'4:30\\\\u202fAM–1\\\\u202fPM, 4:30–8:45\\\\u202fPM\\', \\'saturday\\': \\'4:30\\\\u202fAM–1\\\\u202fPM, 4:30–8:45\\\\u202fPM\\', \\'sunday\\': \\'4:30\\\\u202fAM–1\\\\u202fPM, 4:30–8:45\\\\u202fPM\\', \\'monday\\': \\'4:30\\\\u202fAM–1\\\\u202fPM, 4:30–8:45\\\\u202fPM\\', \\'tuesday\\': \\'4:30\\\\u202fAM–1\\\\u202fPM, 4:30–8:45\\\\u202fPM\\', \\'wednesday\\': \\'4:30\\\\u202fAM–1\\\\u202fPM, 4:30–8:45\\\\u202fPM\\', \\'thursday\\': \\'4:30\\\\u202fAM–1\\\\u202fPM, 4:30–8:45\\\\u202fPM\\'}, \\'phone\\': \\'+91 91799 19744\\', \\'website\\': \\'http://www.iskconindore.com/\\', \\'extensions\\': [{\\'accessibility\\': [\\'Wheelchair accessible entrance\\', \\'Wheelchair accessible parking lot\\', \\'Wheelchair accessible restroom\\']}, {\\'amenities\\': [\\'Restroom\\']}], \\'user_review\\': \\'\"Serene and close to God.\"\\', \\'thumbnail\\': \\'https://lh3.googleusercontent.com/gps-cs-s/AC9h4no_krdb4_17oNiNFud4DIdwg3VWQELHGun_HGiUHv7MBQF7O6mRZjPkBB2VP3gblFl1kwwu31n7B10I-x9Rn7iW7JQzRyudB4FTCyvNy4F0yUiGBgmjEYTWAIsgRQqxA9TNA12e7g=w117-h92-k-no\\', \\'serpapi_thumbnail\\': \\'https://serpapi.com/images/url/reqpMnicBcHbDoIgAADQLyJDWcy2HsRCbWXqTFcvbl6GV6iQ1H6wb-hvOuf3rcfxIbea1tfGignB-krJ6lUIPlZ8XBVi0NhDgkICqVm2WSMusu5V5iiDWPiNT1WJ9l45MSNJw8PJdRTPXKe5um98JiHFl80Q3dugI0RPAoPlPe1hN03KgBwTuPbAbEYcNyk-hp9oUSVBNLaXt78gul6ujUPY0B5ucWp5kkXhc7bM2LegXmG2myDEoDZ10AEu_vyaQ9k\\'}, {\\'position\\': 5, \\'title\\': \\'Meghdoot Garden\\', \\'place_id\\': \\'ChIJCRnsMqYCYzkROEnVV_OWvsA\\', \\'data_id\\': \\'0x396302a632ec1909:0xc0be96f357d54938\\', \\'data_cid\\': \\'13888704272752003384\\', \\'reviews_link\\': \\'https://serpapi.com/search.json?data_id=0x396302a632ec1909%3A0xc0be96f357d54938&engine=google_maps_reviews&hl=en\\', \\'photos_link\\': \\'https://serpapi.com/search.json?data_id=0x396302a632ec1909%3A0xc0be96f357d54938&engine=google_maps_photos&hl=en\\', \\'gps_coordinates\\': {\\'latitude\\': 22.7523026, \\'longitude\\': 75.88720289999999}, \\'place_id_search\\': \\'https://serpapi.com/search.json?engine=google_maps&google_domain=google.com&hl=en&place_id=ChIJCRnsMqYCYzkROEnVV_OWvsA\\', \\'provider_id\\': \\'/g/1tffmrh7\\', \\'rating\\': 4.1, \\'reviews\\': 27499, \\'unclaimed_listing\\': True, \\'type\\': \\'Tourist attraction\\', \\'types\\': [\\'Tourist attraction\\', \\'Outlet mall\\', \\'Garden\\'], \\'type_id\\': \\'tourist_attraction\\', \\'type_ids\\': [\\'tourist_attraction\\', \\'outlet_mall\\', \\'garden\\'], \\'address\\': \\'Entrance, Main Gate, Maguda Nagar, Scheme No 54, Indore, Madhya Pradesh 452010, India\\', \\'open_state\\': \\'Open ⋅ Closes 8:30\\\\u202fPM\\', \\'hours\\': \\'Open ⋅ Closes 8:30\\\\u202fPM\\', \\'operating_hours\\': {\\'friday\\': \\'9:30\\\\u202fAM–8:30\\\\u202fPM\\', \\'saturday\\': \\'9:30\\\\u202fAM–8:30\\\\u202fPM\\', \\'sunday\\': \\'9:30\\\\u202fAM–8:30\\\\u202fPM\\', \\'monday\\': \\'Closed\\', \\'tuesday\\': \\'9:30\\\\u202fAM–8:30\\\\u202fPM\\', \\'wednesday\\': \\'9:30\\\\u202fAM–8:30\\\\u202fPM\\', \\'thursday\\': \\'9:30\\\\u202fAM–8:30\\\\u202fPM\\'}, \\'website\\': \\'https://www.digishalanews.com/2024/08/meghdoot-garden-best-parks-in-indore.html\\', \\'description\\': \\'Landscaped park with camels & peacocks. Popular spot for running, yoga & cricket amid greenery, plus camel rides & roaming peacocks.\\', \\'extensions\\': [{\\'service_options\\': [\\'Onsite services\\']}, {\\'highlights\\': [\\'Picnics\\']}, {\\'accessibility\\': [\\'Wheelchair accessible entrance\\', \\'Wheelchair accessible parking lot\\']}, {\\'amenities\\': [\\'Picnic tables\\', \\'Public restroom\\', \\'Slides\\', \\'Swings\\']}, {\\'payments\\': [\\'NFC mobile payments\\']}, {\\'children\\': [\\'Good for kids\\', \\'Good for kids birthday\\', \\'Playground\\']}], \\'service_options\\': {\\'onsite_services\\': True}, \\'thumbnail\\': \\'https://lh3.googleusercontent.com/gps-cs-s/AC9h4nreBAxsSvj91FYnO2P6dX2BZCI3m_q5CLfioTducvlqaNJDAIET0AZAy6aTGpFbU_FHRdxlEt6jl0bFl1HUPncuRjx-HY6Rw-dOshj82-uR3CYJPKO7wFDbSkCUoXHcWFYFPWn5=w163-h92-k-no\\', \\'serpapi_thumbnail\\': \\'https://serpapi.com/images/url/A0iKV3icBcH_EoEwAADgJ1o_Gbnzx4wpnLrUJf84rTSZLbaUB_QQ3sb3_b5M61bNTJMz16ilrHnVqepFpdCV0AaVD7NuFaAKKBNhj43Eq1qgQR3ejWeTXIROBMujszjhwH2cn2O8u95kUnb0zZ-X_WaJglVioRP6wEuybkmRnokflwNfadhwqyDc9tNI0C5uBuDnMO5BGSrWTB3QxS7ON9E2nPRkWRzuOJVHn2YkJ1EmxvPehi5gngPuQMg_kptDjQ\\'}, {\\'position\\': 6, \\'title\\': \\'Rajwada Palace\\', \\'place_id\\': \\'ChIJoSIkPAr9YjkRWIFwYhs6z7g\\', \\'data_id\\': \\'0x3962fd0a3c2422a1:0xb8cf3a1b62708158\\', \\'data_cid\\': \\'13316926512447914328\\', \\'reviews_link\\': \\'https://serpapi.com/search.json?data_id=0x3962fd0a3c2422a1%3A0xb8cf3a1b62708158&engine=google_maps_reviews&hl=en\\', \\'photos_link\\': \\'https://serpapi.com/search.json?data_id=0x3962fd0a3c2422a1%3A0xb8cf3a1b62708158&engine=google_maps_photos&hl=en\\', \\'gps_coordinates\\': {\\'latitude\\': 22.718414499999998, \\'longitude\\': 75.85518119999999}, \\'place_id_search\\': \\'https://serpapi.com/search.json?engine=google_maps&google_domain=google.com&hl=en&place_id=ChIJoSIkPAr9YjkRWIFwYhs6z7g\\', \\'provider_id\\': \\'/m/0bmg3p4\\', \\'rating\\': 4.4, \\'reviews\\': 70003, \\'type\\': \\'Historical landmark\\', \\'types\\': [\\'Historical landmark\\', \\'Historical place museum\\'], \\'type_id\\': \\'historical_landmark\\', \\'type_ids\\': [\\'historical_landmark\\', \\'historical_place_museum\\'], \\'address\\': \\'Rajwada, Indore, Madhya Pradesh 452002, India\\', \\'open_state\\': \\'Closes soon ⋅ 7\\\\u202fPM ⋅ Opens 11\\\\u202fAM Sat\\', \\'hours\\': \\'Closes soon ⋅ 7\\\\u202fPM ⋅ Opens 11\\\\u202fAM Sat\\', \\'operating_hours\\': {\\'friday\\': \\'11\\\\u202fAM–7\\\\u202fPM\\', \\'saturday\\': \\'11\\\\u202fAM–7\\\\u202fPM\\', \\'sunday\\': \\'11\\\\u202fAM–7\\\\u202fPM\\', \\'monday\\': \\'Closed\\', \\'tuesday\\': \\'11\\\\u202fAM–7\\\\u202fPM\\', \\'wednesday\\': \\'11\\\\u202fAM–7\\\\u202fPM\\', \\'thursday\\': \\'11\\\\u202fAM–7\\\\u202fPM\\'}, \\'description\\': \\'Elaborate 18th-century royal residence. Imposing 1700s 7-storey palace from the Holkar dynasty, with a blend of Maratha & European styles.\\', \\'extensions\\': [{\\'service_options\\': [\\'Onsite services\\']}, {\\'accessibility\\': [\\'Wheelchair accessible entrance\\', \\'Wheelchair accessible parking lot\\']}, {\\'children\\': [\\'Good for kids\\']}], \\'service_options\\': {\\'onsite_services\\': True}, \\'thumbnail\\': \\'https://lh3.googleusercontent.com/gps-cs-s/AC9h4np5sBwd8w3OSde5dzoYCKYhHReEXO2-CJvbgQhrsAW1zddD19CMLAp_kof12f4VZu9rjFjyPIFhWMdM12kMfeIS-oE8Md4vB0eW0MPMBIjhp7rhcfSlJEAdHOUuZFltQsyMZk4=w163-h92-k-no\\', \\'serpapi_thumbnail\\': \\'https://serpapi.com/images/url/AHcyy3icBcFLDoIwFADAE1UoHxUTF4AQURtQoggbE2nhBZA2tED0fF7C2zjz-4JSQm40rQNzUXNed2yUbCh5r1ivFiV_abWQqJRIaq7vgNULW3ozXc9mnFJm0w_P_WMO-wsL7rGB_MP0rM8wSDfDH0p32PHJyRWPllfYqKxbMTpDEzbvJAohI5RgoyUVi1LEgzWh1uTpLNNJQryoAbEaoKzS7hC4dB9fxyLs1Fm-SdFa2xkvTQSOgVrU8z9cIUPB\\'}, {\\'position\\': 7, \\'title\\': \\'Kamla Nehru Zoo\\', \\'place_id\\': \\'ChIJ0-fQgSD9YjkRmHHQwdot73I\\', \\'data_id\\': \\'0x3962fd2081d0e7d3:0x72ef2ddac1d07198\\', \\'data_cid\\': \\'8281888657335415192\\', \\'reviews_link\\': \\'https://serpapi.com/search.json?data_id=0x3962fd2081d0e7d3%3A0x72ef2ddac1d07198&engine=google_maps_reviews&hl=en\\', \\'photos_link\\': \\'https://serpapi.com/search.json?data_id=0x3962fd2081d0e7d3%3A0x72ef2ddac1d07198&engine=google_maps_photos&hl=en\\', \\'gps_coordinates\\': {\\'latitude\\': 22.7041708, \\'longitude\\': 75.8778976}, \\'place_id_search\\': \\'https://serpapi.com/search.json?engine=google_maps&google_domain=google.com&hl=en&place_id=ChIJ0-fQgSD9YjkRmHHQwdot73I\\', \\'provider_id\\': \\'/g/11bxc5_psp\\', \\'rating\\': 4.3, \\'reviews\\': 29256, \\'type\\': \\'Tourist attraction\\', \\'types\\': [\\'Tourist attraction\\', \\'Zoo\\'], \\'type_id\\': \\'tourist_attraction\\', \\'type_ids\\': [\\'tourist_attraction\\', \\'zoo\\'], \\'address\\': \\'AB Rd, Doordarshan Kendra, Navlakha, Indore, Madhya Pradesh 452001, India\\', \\'open_state\\': \\'Closed ⋅ Opens 10\\\\u202fAM Sat\\', \\'hours\\': \\'Closed ⋅ Opens 10\\\\u202fAM Sat\\', \\'operating_hours\\': {\\'friday\\': \\'10\\\\u202fAM–6\\\\u202fPM\\', \\'saturday\\': \\'10\\\\u202fAM–6\\\\u202fPM\\', \\'sunday\\': \\'10\\\\u202fAM–6\\\\u202fPM\\', \\'monday\\': \\'Closed\\', \\'tuesday\\': \\'10\\\\u202fAM–6\\\\u202fPM\\', \\'wednesday\\': \\'10\\\\u202fAM–6\\\\u202fPM\\', \\'thursday\\': \\'10\\\\u202fAM–6\\\\u202fPM\\'}, \\'phone\\': \\'+91 74404 42236\\', \\'description\\': \\'51-acre zoo & garden with exotic animals. Large, lush zoological garden featuring white tigers, Himalayan bears & white peacocks.\\', \\'extensions\\': [{\\'service_options\\': [\\'Onsite services\\']}, {\\'accessibility\\': [\\'Wheelchair accessible entrance\\', \\'Wheelchair accessible parking lot\\']}, {\\'payments\\': [\\'NFC mobile payments\\']}, {\\'children\\': [\\'Good for kids\\', \\'Good for kids birthday\\', \\'Playground\\']}], \\'service_options\\': {\\'onsite_services\\': True}, \\'thumbnail\\': \\'https://lh3.googleusercontent.com/gps-cs-s/AC9h4npRCx-9wW1_WeEyY3xXObl_QfGc2r_51Ny3czn70rPDaLFuvspoxTZgkp17LWWpcHc6W12TFndi-DrJAzj-NHl9O2r6KqFcppRcCYwYPnXH72nf41irxn8oMoE2ESgBFp0IXU96=w163-h92-k-no\\', \\'serpapi_thumbnail\\': \\'https://serpapi.com/images/url/EDRP53icBcFRcoIwEADQE0VMUGic6YcilFqr1uoE_GHsFoNKN9sEC3q_HsLb-N79v2oaciPPqyu_p43RdXlxpQWDTYlND8yPp8kxcMx540hWA6R11DHZKl6oMr7mfpctv-ri4_ACwhZDvrj6cMOwb1fT_Ty5_Dky3Wanz8TDuVIEKQSKi02C30c2tbPx7cQWaS2XwgZvvwkQrSHK23yFWRoKPAz40Xb4ZN5NLOJPPUmo_5ptZfDc8sBnlRTszNA8AM6kRAE\\'}, {\\'position\\': 8, \\'title\\': \\'Regional Park Indore\\', \\'place_id\\': \\'ChIJT-SDD_X8YjkR0f5aI6L51Vg\\', \\'data_id\\': \\'0x3962fcf50f83e44f:0x58d5f9a2235afed1\\', \\'data_cid\\': \\'6401296920150212305\\', \\'reviews_link\\': \\'https://serpapi.com/search.json?data_id=0x3962fcf50f83e44f%3A0x58d5f9a2235afed1&engine=google_maps_reviews&hl=en\\', \\'photos_link\\': \\'https://serpapi.com/search.json?data_id=0x3962fcf50f83e44f%3A0x58d5f9a2235afed1&engine=google_maps_photos&hl=en\\', \\'gps_coordinates\\': {\\'latitude\\': 22.6776303, \\'longitude\\': 75.8558338}, \\'place_id_search\\': \\'https://serpapi.com/search.json?engine=google_maps&google_domain=google.com&hl=en&place_id=ChIJT-SDD_X8YjkR0f5aI6L51Vg\\', \\'provider_id\\': \\'/g/11gf3nvs2c\\', \\'rating\\': 4.2, \\'reviews\\': 7557, \\'type\\': \\'Tourist attraction\\', \\'types\\': [\\'Tourist attraction\\', \\'Park\\'], \\'type_id\\': \\'tourist_attraction\\', \\'type_ids\\': [\\'tourist_attraction\\', \\'park\\'], \\'address\\': \\'Regional Park Rd, Kasturba Gram, Indore, Madhya Pradesh 452001, India\\', \\'open_state\\': \\'Open ⋅ Closes 9\\\\u202fPM\\', \\'hours\\': \\'Open ⋅ Closes 9\\\\u202fPM\\', \\'operating_hours\\': {\\'friday\\': \\'10\\\\u202fAM–9\\\\u202fPM\\', \\'saturday\\': \\'10\\\\u202fAM–9\\\\u202fPM\\', \\'sunday\\': \\'10\\\\u202fAM–9\\\\u202fPM\\', \\'monday\\': \\'10\\\\u202fAM–9\\\\u202fPM\\', \\'tuesday\\': \\'10\\\\u202fAM–9\\\\u202fPM\\', \\'wednesday\\': \\'10\\\\u202fAM–9\\\\u202fPM\\', \\'thursday\\': \\'10\\\\u202fAM–9\\\\u202fPM\\'}, \\'extensions\\': [{\\'service_options\\': [\\'Onsite services\\']}, {\\'highlights\\': [\\'Picnics\\']}, {\\'accessibility\\': [\\'Wheelchair accessible entrance\\', \\'Wheelchair accessible parking lot\\']}, {\\'amenities\\': [\\'Picnic tables\\', \\'Public restroom\\', \\'Slides\\', \\'Swings\\']}, {\\'children\\': [\\'Good for kids\\', \\'Good for kids birthday\\', \\'Playground\\']}], \\'service_options\\': {\\'onsite_services\\': True}, \\'thumbnail\\': \\'https://lh3.googleusercontent.com/gps-cs-s/AC9h4nqHrAKkH2dXIqmlE7vcZMlJJ2pZLulw6DluuqbABElaFTuBVbxmeOVL21EUoQyClKKDS1C8RFCLJXc2NmtlKFuQEpjTF31-PSGwCocMo8amrghePnDsWuXpJ5YjXMUgmpmPM6Kt=w122-h92-k-no\\', \\'serpapi_thumbnail\\': \\'https://serpapi.com/images/url/fhhc-nicBcFbcoIwFADQFUWGaH10xg8MoCVQ8Vnqn6aZZPTmAUlEF-gi3E3Peb-k99Z9RhHI4UAYI4AHxztmtOfaD5hRkbAOMYdclJCZHOl21SX0tsJ_zVerIJvc2amCosD2VAboxymE0F6SRQbnfB8Wx8tD8fWxxHF2MJsnAUrTXUym25yURcPwt_JA87DJ7HWfD2NU75Y9Mawy07PqhOS1Tt1PaGzx8XttqoNQVtXVmPp5H2OM5AyjG9LmH-2_RQE\\'}, {\\'position\\': 9, \\'title\\': \\'Gandhi Hall\\', \\'place_id\\': \\'ChIJCzGuRhL9YjkRB0S7W2FE9Ss\\', \\'data_id\\': \\'0x3962fd1246ae310b:0x2bf544615bbb4407\\', \\'data_cid\\': \\'3167513097866527751\\', \\'reviews_link\\': \\'https://serpapi.com/search.json?data_id=0x3962fd1246ae310b%3A0x2bf544615bbb4407&engine=google_maps_reviews&hl=en\\', \\'photos_link\\': \\'https://serpapi.com/search.json?data_id=0x3962fd1246ae310b%3A0x2bf544615bbb4407&engine=google_maps_photos&hl=en\\', \\'gps_coordinates\\': {\\'latitude\\': 22.720277799999998, \\'longitude\\': 75.8669444}, \\'place_id_search\\': \\'https://serpapi.com/search.json?engine=google_maps&google_domain=google.com&hl=en&place_id=ChIJCzGuRhL9YjkRB0S7W2FE9Ss\\', \\'provider_id\\': \\'/g/1v_z2r2w\\', \\'rating\\': 4.2, \\'reviews\\': 4141, \\'unclaimed_listing\\': True, \\'type\\': \\'Tourist attraction\\', \\'types\\': [\\'Tourist attraction\\', \\'Historical landmark\\'], \\'type_id\\': \\'tourist_attraction\\', \\'type_ids\\': [\\'tourist_attraction\\', \\'historical_landmark\\'], \\'address\\': \\'51, Mahatma Gandhi Rd, Shastri Market, New Siyaganj, Indore, Madhya Pradesh 452007, India\\', \\'open_state\\': \\'Closed ⋅ Opens 10\\\\u202fAM Sat\\', \\'hours\\': \\'Closed ⋅ Opens 10\\\\u202fAM Sat\\', \\'operating_hours\\': {\\'friday\\': \\'10\\\\u202fAM–5\\\\u202fPM\\', \\'saturday\\': \\'10\\\\u202fAM–5\\\\u202fPM\\', \\'sunday\\': \\'Closed\\', \\'monday\\': \\'10\\\\u202fAM–5\\\\u202fPM\\', \\'tuesday\\': \\'10\\\\u202fAM–5\\\\u202fPM\\', \\'wednesday\\': \\'10\\\\u202fAM–5\\\\u202fPM\\', \\'thursday\\': \\'10\\\\u202fAM–5\\\\u202fPM\\'}, \\'phone\\': \\'+91 1800 11 1363\\', \\'description\\': \\'Ornate Indo-Gothic hall & cultural space. Art & culture exhibitions in a 1904 hall with elaborate Indo-Gothic windows, minarets & domes.\\', \\'extensions\\': [{\\'service_options\\': [\\'Onsite services\\']}, {\\'accessibility\\': [\\'Wheelchair accessible entrance\\', \\'Wheelchair accessible parking lot\\', \\'Wheelchair accessible restroom\\']}, {\\'amenities\\': [\\'Restroom\\']}, {\\'children\\': [\\'Good for kids\\']}], \\'service_options\\': {\\'onsite_services\\': True}, \\'user_review\\': \\'\"Beautiful building with nice ambience outside - there\\\\\\'s clean spaces to sit.\"\\', \\'thumbnail\\': \\'https://lh3.googleusercontent.com/gps-cs-s/AC9h4nqYOZ2gmz0fzPIBjtNPUNGA3W6BhUtXcYH2p4tyW1vwvoFCJ3CjWMf0gZdFRf_wLoYOG_bpexMco52A1S3yuLo_H_gyviust4S0aud62qY74E2wgngqSQHl1M7FdKp9nQ7tqBDc=w163-h92-k-no\\', \\'serpapi_thumbnail\\': \\'https://serpapi.com/images/url/rEQy2HicBcFbUoMwFADQFaVAgjA44wegFGvpi-kg_WE0QNJKc4O5gHR_XUR34zmPu0TU5tmyOskWAkB0zWCaXw4KG4ULDldLaEO4IcYK40C6qi-3JyquN7u97d6jC252x80yZIUXySN-8jKl2sW5cMZphCResfhSZK0tTnVyaKtpDeV2WX3r5i_j8ERDJ2fzsIYqrcQ8ngeDbm5_DbVH-9J33-gklOjzfdo5mZ_UHzpQex_76JW_TI7HiAwo-SEK_gH3eUT0\\'}, {\\'position\\': 10, \\'title\\': \\'Sirpur lake\\', \\'place_id\\': \\'ChIJaSDtArn9YjkRPcQGnsTw2qQ\\', \\'data_id\\': \\'0x3962fdb902ed2069:0xa4daf0c49e06c43d\\', \\'data_cid\\': \\'11879071694398604349\\', \\'reviews_link\\': \\'https://serpapi.com/search.json?data_id=0x3962fdb902ed2069%3A0xa4daf0c49e06c43d&engine=google_maps_reviews&hl=en\\', \\'photos_link\\': \\'https://serpapi.com/search.json?data_id=0x3962fdb902ed2069%3A0xa4daf0c49e06c43d&engine=google_maps_photos&hl=en\\', \\'gps_coordinates\\': {\\'latitude\\': 22.7027474, \\'longitude\\': 75.8121151}, \\'place_id_search\\': \\'https://serpapi.com/search.json?engine=google_maps&google_domain=google.com&hl=en&place_id=ChIJaSDtArn9YjkRPcQGnsTw2qQ\\', \\'provider_id\\': \\'/g/11q35jd6t3\\', \\'rating\\': 4.3, \\'reviews\\': 1097, \\'unclaimed_listing\\': True, \\'type\\': \\'Tourist attraction\\', \\'types\\': [\\'Tourist attraction\\'], \\'type_id\\': \\'tourist_attraction\\', \\'type_ids\\': [\\'tourist_attraction\\'], \\'address\\': \\'PR36+3RX, Sirpur, Indore, Madhya Pradesh 452002, India\\', \\'open_state\\': \\'Open 24 hours\\', \\'hours\\': \\'Open 24 hours\\', \\'operating_hours\\': {\\'friday\\': \\'Open 24 hours\\', \\'saturday\\': \\'Open 24 hours\\', \\'sunday\\': \\'Open 24 hours\\', \\'monday\\': \\'Open 24 hours\\', \\'tuesday\\': \\'Open 24 hours\\', \\'wednesday\\': \\'Open 24 hours\\', \\'thursday\\': \\'Open 24 hours\\'}, \\'phone\\': \\'+91 1800 233 7777\\', \\'extensions\\': [{\\'accessibility\\': [\\'Wheelchair accessible entrance\\', \\'Wheelchair accessible parking lot\\']}, {\\'children\\': [\\'Good for kids\\', \\'Good for kids birthday\\']}], \\'user_review\\': \\'\"It’s a great location for a morning walk or a quiet time by the water.\"\\', \\'thumbnail\\': \\'https://lh3.googleusercontent.com/gps-cs-s/AC9h4noNrPK2TEtRuLXJWJxoYHbmd9YWPqVC8KVNbXcrFJ44tQ5AMTWngM5Pg5JC3j2fX-R4uVanqALw6xpvSss8DdEvtmLl5Zzhu5eTADM0WIIfQ8AEBLS3lXMjGfaEB7YOcyaMNkxKJQ=w122-h92-k-no\\', \\'serpapi_thumbnail\\': \\'https://serpapi.com/images/url/5ZD_lnicBcFLcoIwAADQE0XaQBQ600VE_ARCQRk-3WGEZBQSJEGxF-wZepu-9_crjBn0h2V1wl5wpXjXTLoZmZKmkWbBVG_xQQOmgbaw7wlHqnhMQpgF5jhFJSnIrKr9ub94VZHcc98N8_hcsnFLHMekCNOskJyihCPi21fYluDoTHkt7zh6LufhcdLa3VyCh-mjDn3_iAk1Gd7Qt-JwaFMXB-voZHclve7aOlivqi_2qml8m0OSfj7fIQTCg-AGpPoHJ3tEeA\\'}]'"
      ]
     },
     "execution_count": 25,
     "metadata": {},
     "output_type": "execute_result"
    }
   ],
   "source": [
    "result"
   ]
  },
  {
   "cell_type": "markdown",
   "id": "8c8a1c9a",
   "metadata": {},
   "source": [
    "\"Following are the attraction after  google search results of indore as suggested by Tavily results: Indore, located in the heart of Madhya Pradesh, offers numerous attractive places to visit both within the city and in surrounding areas. The city's most famous attraction is Sarafa Bazaar and Chappan Dukan, renowned for exceptional street food and considered essential for any Indore visit. Key temples include the beautiful Annapurna Temple, one of the oldest in the city, and Bada Ganpati, as Indore is particularly known for its divine Ganesh temples. The historic Rajwada palace and Chhataris are significant architectural attractions, while Lal Bagh Palace showcases the city's royal heritage. For day trips from Indore, Ujjain with its famous Mahakaleshwar Temple is a popular destination, and Maheshwar offers historical and cultural experiences. The city provides natural escapes for wildlife enthusiasts and nature lovers seeking respite from urban life. Indore has earned recognition as India's cleanest city for six consecutive years from 2017 to 2022, and uniquely houses both an IIT and IIM, making it the only Indian city with this distinction. The city perfectly blends its big city image with mixed cultural vibes, offering visitors a combination of historical charm, spiritual significance, culinary delights, and modern amenities.\""
   ]
  },
  {
   "cell_type": "code",
   "execution_count": 26,
   "id": "780155a0",
   "metadata": {},
   "outputs": [],
   "source": [
    "from utils.palce import GooglePlaceSearchTool\n",
    "from dotenv import load_dotenv\n",
    "import os \n",
    "load_dotenv()\n",
    "google_api_key = os.environ.get(\"GPLACE_API_KEY\")\n",
    "google_search = GooglePlaceSearchTool(api_key=google_api_key)\n"
   ]
  },
  {
   "cell_type": "code",
   "execution_count": null,
   "id": "7ce008b3",
   "metadata": {},
   "outputs": [],
   "source": [
    "search_results = google_search.google_search_attractions(place=\"mumbai\")"
   ]
  },
  {
   "cell_type": "code",
   "execution_count": null,
   "id": "7b3fa388",
   "metadata": {},
   "outputs": [],
   "source": [
    "from serpapi import GoogleSearch\n",
    "import os\n",
    "from dotenv import load_dotenv\n",
    "load_dotenv()\n",
    "params = {\n",
    "  \"api_key\": os.getenv(\"SERPAPI_KEY\"),\n",
    "  \"engine\": \"google_maps\",\n",
    "  \"q\": \"attractions in indore with highest ratings\",\n",
    "  \"google_domain\": \"google.com\",\n",
    "  # \"ll\": \"@40.7455096,-74.0083012,14z\",\n",
    "  \"type\": \"search\",\n",
    "  \"hl\": \"en\"\n",
    "}\n",
    "\n",
    "search = GoogleSearch(params)\n",
    "results = search.get_dict()"
   ]
  },
  {
   "cell_type": "code",
   "execution_count": null,
   "id": "ff160a14",
   "metadata": {},
   "outputs": [
    {
     "name": "stdout",
     "output_type": "stream",
     "text": [
      "{'search_metadata': {'id': '6894923514537b98a0371696', 'status': 'Success', 'json_endpoint': 'https://serpapi.com/searches/2dcff0fee50a05d5/6894923514537b98a0371696.json', 'created_at': '2025-08-07 11:47:01 UTC', 'processed_at': '2025-08-07 11:47:01 UTC', 'google_maps_url': 'https://www.google.com/maps/search/attractions+in+indore+with+highest+ratings?hl=en', 'raw_html_file': 'https://serpapi.com/searches/2dcff0fee50a05d5/6894923514537b98a0371696.html', 'total_time_taken': 3.97}, 'search_parameters': {'engine': 'google_maps', 'type': 'search', 'q': 'attractions in indore with highest ratings', 'google_domain': 'google.com', 'hl': 'en'}, 'search_information': {'local_results_state': 'Results for exact spelling', 'query_displayed': 'attractions in indore with highest ratings'}, 'local_results': [{'position': 1, 'title': 'Central Museum, Indore', 'place_id': 'ChIJz9_VqyH9YjkRLe4Zo6eoMpw', 'data_id': '0x3962fd21abd5dfcf:0x9c32a8a7a319ee2d', 'data_cid': '11255243856701681197', 'reviews_link': 'https://serpapi.com/search.json?data_id=0x3962fd21abd5dfcf%3A0x9c32a8a7a319ee2d&engine=google_maps_reviews&hl=en', 'photos_link': 'https://serpapi.com/search.json?data_id=0x3962fd21abd5dfcf%3A0x9c32a8a7a319ee2d&engine=google_maps_photos&hl=en', 'gps_coordinates': {'latitude': 22.7052254, 'longitude': 75.87895639999999}, 'place_id_search': 'https://serpapi.com/search.json?engine=google_maps&google_domain=google.com&hl=en&place_id=ChIJz9_VqyH9YjkRLe4Zo6eoMpw', 'provider_id': '/m/0n48990', 'rating': 4, 'reviews': 2337, 'unclaimed_listing': True, 'type': 'Tourist attraction', 'types': ['Tourist attraction', 'Museum'], 'type_id': 'tourist_attraction', 'type_ids': ['tourist_attraction', 'museum'], 'address': 'PV4H+3HW, Near GPO Square, Residency, Navlakha, Indore, Madhya Pradesh 452001, India', 'open_state': 'Closed ⋅ Opens 10\\u202fAM Fri', 'hours': 'Closed ⋅ Opens 10\\u202fAM Fri', 'operating_hours': {'thursday': '10\\u202fAM–5\\u202fPM', 'friday': '10\\u202fAM–5\\u202fPM', 'saturday': '10\\u202fAM–5\\u202fPM', 'sunday': '10\\u202fAM–5\\u202fPM', 'monday': 'Closed', 'tuesday': '10\\u202fAM–5\\u202fPM', 'wednesday': '10\\u202fAM–5\\u202fPM'}, 'phone': '+91 1800 11 1363', 'description': 'Galleries with historical artifacts. Small place with historical artifacts, including Parmar & medieval sculptures, plus coins & weapons.', 'extensions': [{'service_options': ['Onsite services']}, {'accessibility': ['Wheelchair accessible entrance', 'Wheelchair accessible parking lot', 'Wheelchair accessible restroom']}, {'amenities': ['Restroom']}, {'children': ['Good for kids']}, {'parking': ['Free parking lot']}], 'unsupported_extensions': [{'amenities': ['Restaurant']}], 'service_options': {'onsite_services': True}, 'user_review': '\"🌟 Engaging exhibits showcasing local culture and heritage.\"', 'thumbnail': 'https://lh3.googleusercontent.com/gps-cs-s/AC9h4npxhnGpOUrg8GjPdVWiGtf_ym928mKd364vypmhAnSB2GACDW-tnQMI0G9Y2L75ql-91i0i4BS3bx7zlYb3rnHo4ej1b8wreKUK_UY5AURI1UxXstFiYGKft3hGvgDD6J51JUVu2Q=w137-h92-k-no', 'serpapi_thumbnail': 'https://serpapi.com/images/url/JJxyrHicBcFtDoIgAADQE5EBmtLWD8tFZa2vYfmrTSOwFEiorAt2hm7Te7-vdM7YoefVEveE1qLmD8vbUivHleuVuvGEsaC0wHrxhEhfmU4qatasFRG9bs7ZoaLucno3BEVNesYD__k2jYzVfoxoPEkOwKntat6nJEfLMLjXgMCqX_njPS668FPnBW7VTPv8Covo1fKUpSeWBzHbzSHrjtZNq5ymF4clfYokGSwCuGDZA21HL4hDIAkCN6D0Hx1AQ9s'}, {'position': 2, 'title': 'Gandhi Hall', 'place_id': 'ChIJCzGuRhL9YjkRB0S7W2FE9Ss', 'data_id': '0x3962fd1246ae310b:0x2bf544615bbb4407', 'data_cid': '3167513097866527751', 'reviews_link': 'https://serpapi.com/search.json?data_id=0x3962fd1246ae310b%3A0x2bf544615bbb4407&engine=google_maps_reviews&hl=en', 'photos_link': 'https://serpapi.com/search.json?data_id=0x3962fd1246ae310b%3A0x2bf544615bbb4407&engine=google_maps_photos&hl=en', 'gps_coordinates': {'latitude': 22.720277799999998, 'longitude': 75.8669444}, 'place_id_search': 'https://serpapi.com/search.json?engine=google_maps&google_domain=google.com&hl=en&place_id=ChIJCzGuRhL9YjkRB0S7W2FE9Ss', 'provider_id': '/g/1v_z2r2w', 'rating': 4.2, 'reviews': 4140, 'unclaimed_listing': True, 'type': 'Tourist attraction', 'types': ['Tourist attraction', 'Historical landmark'], 'type_id': 'tourist_attraction', 'type_ids': ['tourist_attraction', 'historical_landmark'], 'address': '51, Mahatma Gandhi Rd, Shastri Market, New Siyaganj, Indore, Madhya Pradesh 452007, India', 'open_state': 'Closed ⋅ Opens 10\\u202fAM Fri', 'hours': 'Closed ⋅ Opens 10\\u202fAM Fri', 'operating_hours': {'thursday': '10\\u202fAM–5\\u202fPM', 'friday': '10\\u202fAM–5\\u202fPM', 'saturday': '10\\u202fAM–5\\u202fPM', 'sunday': 'Closed', 'monday': '10\\u202fAM–5\\u202fPM', 'tuesday': '10\\u202fAM–5\\u202fPM', 'wednesday': '10\\u202fAM–5\\u202fPM'}, 'phone': '+91 1800 11 1363', 'description': 'Ornate Indo-Gothic hall & cultural space. Art & culture exhibitions in a 1904 hall with elaborate Indo-Gothic windows, minarets & domes.', 'extensions': [{'service_options': ['Onsite services']}, {'accessibility': ['Wheelchair accessible entrance', 'Wheelchair accessible parking lot', 'Wheelchair accessible restroom']}, {'amenities': ['Restroom']}, {'children': ['Good for kids']}], 'service_options': {'onsite_services': True}, 'user_review': '\"No tickets required to enter the place.\"', 'thumbnail': 'https://lh3.googleusercontent.com/gps-cs-s/AC9h4nopEx4XK9dhQG2dSVZ8GzBEgh8LbKAr19_dU7DGfJIGBaQe6EDTgKL6slU13lZMU1--xKzYfGUc4-K1QyRJOvpGSF4fNNGkajlf5zf0v_TYDDK9JKYykkpa3FOtBsceRuKruX10=w122-h92-k-no', 'serpapi_thumbnail': 'https://serpapi.com/images/url/DSbED3icBcFdboIwAADgE1UsMLVL9gADm1GnQcUIL4SV_kQqbWhxyv08hLfx-15P6Zyxn56nZDATWgvFRssGqnvHejej-uoJYwG1wHrRN5Jhr016D88EtTLHfns4VSs8xamQq80fiQaI6rZYJphnPzhucrZIk6Mgm4VVBQxU9VtAAO5kKjkuaAgIzB_7bHcz-LAO-XaLu-ai-MfE57f6WCYJQRkpH11nmmC9c7GlbD-SYTzD-dc_9H0gkQ860Os3G6tC7w'}, {'position': 3, 'title': 'Kamla Nehru Zoo', 'place_id': 'ChIJ0-fQgSD9YjkRmHHQwdot73I', 'data_id': '0x3962fd2081d0e7d3:0x72ef2ddac1d07198', 'data_cid': '8281888657335415192', 'reviews_link': 'https://serpapi.com/search.json?data_id=0x3962fd2081d0e7d3%3A0x72ef2ddac1d07198&engine=google_maps_reviews&hl=en', 'photos_link': 'https://serpapi.com/search.json?data_id=0x3962fd2081d0e7d3%3A0x72ef2ddac1d07198&engine=google_maps_photos&hl=en', 'gps_coordinates': {'latitude': 22.7041708, 'longitude': 75.8778976}, 'place_id_search': 'https://serpapi.com/search.json?engine=google_maps&google_domain=google.com&hl=en&place_id=ChIJ0-fQgSD9YjkRmHHQwdot73I', 'provider_id': '/g/11bxc5_psp', 'rating': 4.3, 'reviews': 29257, 'type': 'Tourist attraction', 'types': ['Tourist attraction', 'Zoo'], 'type_id': 'tourist_attraction', 'type_ids': ['tourist_attraction', 'zoo'], 'address': 'AB Rd, Doordarshan Kendra, Navlakha, Indore, Madhya Pradesh 452001, India', 'open_state': 'Closes soon ⋅ 6\\u202fPM ⋅ Opens 10\\u202fAM Fri', 'hours': 'Closes soon ⋅ 6\\u202fPM ⋅ Opens 10\\u202fAM Fri', 'operating_hours': {'thursday': '10\\u202fAM–6\\u202fPM', 'friday': '10\\u202fAM–6\\u202fPM', 'saturday': '10\\u202fAM–6\\u202fPM', 'sunday': '10\\u202fAM–6\\u202fPM', 'monday': 'Closed', 'tuesday': '10\\u202fAM–6\\u202fPM', 'wednesday': '10\\u202fAM–6\\u202fPM'}, 'phone': '+91 74404 42236', 'description': '51-acre zoo & garden with exotic animals. Large, lush zoological garden featuring white tigers, Himalayan bears & white peacocks.', 'extensions': [{'service_options': ['Onsite services']}, {'accessibility': ['Wheelchair accessible entrance', 'Wheelchair accessible parking lot']}, {'payments': ['NFC mobile payments']}, {'children': ['Good for kids', 'Good for kids birthday', 'Playground']}], 'service_options': {'onsite_services': True}, 'user_review': '\"It offers a perfect balance of entertainment, education, and relaxation.\"', 'thumbnail': 'https://lh3.googleusercontent.com/gps-cs-s/AC9h4npRCx-9wW1_WeEyY3xXObl_QfGc2r_51Ny3czn70rPDaLFuvspoxTZgkp17LWWpcHc6W12TFndi-DrJAzj-NHl9O2r6KqFcppRcCYwYPnXH72nf41irxn8oMoE2ESgBFp0IXU96=w163-h92-k-no', 'serpapi_thumbnail': 'https://serpapi.com/images/url/EDRP53icBcFRcoIwEADQE0VMUGic6YcilFqr1uoE_GHsFoNKN9sEC3q_HsLb-N79v2oaciPPqyu_p43RdXlxpQWDTYlND8yPp8kxcMx540hWA6R11DHZKl6oMr7mfpctv-ri4_ACwhZDvrj6cMOwb1fT_Ty5_Dky3Wanz8TDuVIEKQSKi02C30c2tbPx7cQWaS2XwgZvvwkQrSHK23yFWRoKPAz40Xb4ZN5NLOJPPUmo_5ptZfDc8sBnlRTszNA8AM6kRAE'}, {'position': 4, 'title': 'Meghdoot Garden', 'place_id': 'ChIJCRnsMqYCYzkROEnVV_OWvsA', 'data_id': '0x396302a632ec1909:0xc0be96f357d54938', 'data_cid': '13888704272752003384', 'reviews_link': 'https://serpapi.com/search.json?data_id=0x396302a632ec1909%3A0xc0be96f357d54938&engine=google_maps_reviews&hl=en', 'photos_link': 'https://serpapi.com/search.json?data_id=0x396302a632ec1909%3A0xc0be96f357d54938&engine=google_maps_photos&hl=en', 'gps_coordinates': {'latitude': 22.7523026, 'longitude': 75.88720289999999}, 'place_id_search': 'https://serpapi.com/search.json?engine=google_maps&google_domain=google.com&hl=en&place_id=ChIJCRnsMqYCYzkROEnVV_OWvsA', 'provider_id': '/g/1tffmrh7', 'rating': 4.1, 'reviews': 27498, 'unclaimed_listing': True, 'type': 'Tourist attraction', 'types': ['Tourist attraction', 'Outlet mall', 'Garden'], 'type_id': 'tourist_attraction', 'type_ids': ['tourist_attraction', 'outlet_mall', 'garden'], 'address': 'Entrance, Main Gate, Maguda Nagar, Scheme No 54, Indore, Madhya Pradesh 452010, India', 'open_state': 'Open ⋅ Closes 8:30\\u202fPM', 'hours': 'Open ⋅ Closes 8:30\\u202fPM', 'operating_hours': {'thursday': '9:30\\u202fAM–8:30\\u202fPM', 'friday': '9:30\\u202fAM–8:30\\u202fPM', 'saturday': '9:30\\u202fAM–8:30\\u202fPM', 'sunday': '9:30\\u202fAM–8:30\\u202fPM', 'monday': 'Closed', 'tuesday': '9:30\\u202fAM–8:30\\u202fPM', 'wednesday': '9:30\\u202fAM–8:30\\u202fPM'}, 'website': 'https://www.digishalanews.com/2024/08/meghdoot-garden-best-parks-in-indore.html', 'description': 'Landscaped park with camels & peacocks. Popular spot for running, yoga & cricket amid greenery, plus camel rides & roaming peacocks.', 'extensions': [{'service_options': ['Onsite services']}, {'highlights': ['Picnics']}, {'accessibility': ['Wheelchair accessible entrance', 'Wheelchair accessible parking lot']}, {'amenities': ['Picnic tables', 'Public restroom', 'Slides', 'Swings']}, {'payments': ['NFC mobile payments']}, {'children': ['Good for kids', 'Good for kids birthday', 'Playground']}], 'service_options': {'onsite_services': True}, 'user_review': '\"There is some charges for the entrance but it\\'s worth.\"', 'thumbnail': 'https://lh3.googleusercontent.com/gps-cs-s/AC9h4noD9eVtPaaLX6C0Yx-DZfSqtOAacdLWt1EQLMnDFLFRpxIxYD_M10iAnGZVFZ0GxeDZdVWd4XEGXxcGeRCOdcdO_hNxuB9-srSxFmqE51u8_4qcGwXUfUAPx6v-8l5a_fhL1og=w122-h92-k-no', 'serpapi_thumbnail': 'https://serpapi.com/images/url/SQ6NHnicBcFtDoIgAADQE6Fi5rKtHybK2ij7WGr-cQ5QWgYaWBywS3Sb3vt9hTGjXrvuIBZOr1Q_8FnzF1XScGkcqp5uP2pANdBunEQikApFvDDHtiVVmHg3C1DdXSaTxy1lpDQwPZG9RBnJzqPd2Rtq9tC7xxLXRVZ72HJUs6JkQZXiylLMz0nOKMsbcbDzNgL6dbHZc0qXcF41wUTxp7p21_howzdYDcu26QSBqt98oO8DEfngAaT6A1GcQ7s'}, {'position': 5, 'title': 'Regional Park Indore', 'place_id': 'ChIJT-SDD_X8YjkR0f5aI6L51Vg', 'data_id': '0x3962fcf50f83e44f:0x58d5f9a2235afed1', 'data_cid': '6401296920150212305', 'reviews_link': 'https://serpapi.com/search.json?data_id=0x3962fcf50f83e44f%3A0x58d5f9a2235afed1&engine=google_maps_reviews&hl=en', 'photos_link': 'https://serpapi.com/search.json?data_id=0x3962fcf50f83e44f%3A0x58d5f9a2235afed1&engine=google_maps_photos&hl=en', 'gps_coordinates': {'latitude': 22.6776303, 'longitude': 75.8558338}, 'place_id_search': 'https://serpapi.com/search.json?engine=google_maps&google_domain=google.com&hl=en&place_id=ChIJT-SDD_X8YjkR0f5aI6L51Vg', 'provider_id': '/g/11gf3nvs2c', 'rating': 4.2, 'reviews': 7555, 'type': 'Tourist attraction', 'types': ['Tourist attraction', 'Park'], 'type_id': 'tourist_attraction', 'type_ids': ['tourist_attraction', 'park'], 'address': 'Regional Park Rd, Kasturba Gram, Indore, Madhya Pradesh 452001, India', 'open_state': 'Open ⋅ Closes 9\\u202fPM', 'hours': 'Open ⋅ Closes 9\\u202fPM', 'operating_hours': {'thursday': '10\\u202fAM–9\\u202fPM', 'friday': '10\\u202fAM–9\\u202fPM', 'saturday': '10\\u202fAM–9\\u202fPM', 'sunday': '10\\u202fAM–9\\u202fPM', 'monday': '10\\u202fAM–9\\u202fPM', 'tuesday': '10\\u202fAM–9\\u202fPM', 'wednesday': '10\\u202fAM–9\\u202fPM'}, 'extensions': [{'service_options': ['Onsite services']}, {'highlights': ['Picnics']}, {'accessibility': ['Wheelchair accessible entrance', 'Wheelchair accessible parking lot']}, {'amenities': ['Picnic tables', 'Public restroom', 'Slides', 'Swings']}, {'children': ['Good for kids', 'Good for kids birthday', 'Playground']}], 'service_options': {'onsite_services': True}, 'user_review': '\"There is a boat club and light and sound show as well.\"', 'thumbnail': 'https://lh3.googleusercontent.com/gps-cs-s/AC9h4nrKKmL6RXRStmqcYCWhdmOaH9q2jG7MQyo_VQWYiOgzTY-KuLkRTtSSH-T7rFISFrc3eNH0RGJSXgVe6gXyB5MD-UxT4EE4nLHSH5BB0zWsApf_1skQtiNrOENJ6fu_lkPKuFo49Q=w122-h92-k-no', 'serpapi_thumbnail': 'https://serpapi.com/images/url/l8tqxHicBcFtDoIgAADQE5FlZrOtH2kapWmKpf5yjQhKBQNcHxfsDN2m935fpnWvFobRsumICkFbMigiseCacD3CojNorwBWQBkrz2EWl2HYRXZWZkh3D1x5Bbt0yRk6D_O-me_Tt6hPaVHdEvrJKxAOUZPlGiEI8rkMtiiQeEpiOM42O1TSE7Fp-XZn-zU4vnLL9y0eQQRnrjv-FGrVX-uJalJ9i2Xixzv7OtRtcwiHQFhOunxOTBMwxwQN4OIPN79EcQ'}, {'position': 6, 'title': 'Sirpur lake', 'place_id': 'ChIJaSDtArn9YjkRPcQGnsTw2qQ', 'data_id': '0x3962fdb902ed2069:0xa4daf0c49e06c43d', 'data_cid': '11879071694398604349', 'reviews_link': 'https://serpapi.com/search.json?data_id=0x3962fdb902ed2069%3A0xa4daf0c49e06c43d&engine=google_maps_reviews&hl=en', 'photos_link': 'https://serpapi.com/search.json?data_id=0x3962fdb902ed2069%3A0xa4daf0c49e06c43d&engine=google_maps_photos&hl=en', 'gps_coordinates': {'latitude': 22.7027474, 'longitude': 75.8121151}, 'place_id_search': 'https://serpapi.com/search.json?engine=google_maps&google_domain=google.com&hl=en&place_id=ChIJaSDtArn9YjkRPcQGnsTw2qQ', 'provider_id': '/g/11q35jd6t3', 'rating': 4.3, 'reviews': 1097, 'unclaimed_listing': True, 'type': 'Tourist attraction', 'types': ['Tourist attraction'], 'type_id': 'tourist_attraction', 'type_ids': ['tourist_attraction'], 'address': 'PR36+3RX, Sirpur, Indore, Madhya Pradesh 452002, India', 'open_state': 'Open 24 hours', 'hours': 'Open 24 hours', 'operating_hours': {'thursday': 'Open 24 hours', 'friday': 'Open 24 hours', 'saturday': 'Open 24 hours', 'sunday': 'Open 24 hours', 'monday': 'Open 24 hours', 'tuesday': 'Open 24 hours', 'wednesday': 'Open 24 hours'}, 'phone': '+91 1800 233 7777', 'extensions': [{'accessibility': ['Wheelchair accessible entrance', 'Wheelchair accessible parking lot']}, {'children': ['Good for kids', 'Good for kids birthday']}], 'user_review': '\"Try to go in Evening or Early Morning,you will get an Amazing experience...\"', 'thumbnail': 'https://lh3.googleusercontent.com/gps-cs-s/AC9h4nptTKMn1KBNycxjbm3vIHufPAow4bsg6jbM5VwNCFhV464bac7xmI8iMLSqHibZeB20OI5e-P5UrkW1CY1KQ6VK0BwfncM45Dc9r19UTgNQ__AzTJQB32-uDRxqNE4DXv2BoLPC2g=w147-h92-k-no', 'serpapi_thumbnail': 'https://serpapi.com/images/url/5Zb9_XicBcHbkoIgAADQLyID0dad2QfRmsx0tcy9vDQLQ9BFMMG0_cG-ob_pnOdDWtuad8e5SHcitBYX3hveMa0sV3bCdOOI1gBmgHHCKJBYtbZKMwVTkt_ZeKKNe0uW_aEI9YCpEf6JZl495NFC1tjH9I_NxiZ5O2br7XV5pL-coOln4nFQeLvu_AWjH5iWfp1OyXBQLMNezIIOBrtK5OV-H_5Xq5K4CPTxZrzmcxx_3xDR6yJC4mOAeAZkgMAZKP0CAvJDIg'}, {'position': 7, 'title': 'Lalbagh Garden', 'place_id': 'ChIJU5qgiaz9YjkRn9jcM47JlqY', 'data_id': '0x3962fdac89a09a53:0xa696c98e33dcd89f', 'data_cid': '12004003469395286175', 'reviews_link': 'https://serpapi.com/search.json?data_id=0x3962fdac89a09a53%3A0xa696c98e33dcd89f&engine=google_maps_reviews&hl=en', 'photos_link': 'https://serpapi.com/search.json?data_id=0x3962fdac89a09a53%3A0xa696c98e33dcd89f&engine=google_maps_photos&hl=en', 'gps_coordinates': {'latitude': 22.7028405, 'longitude': 75.8468702}, 'place_id_search': 'https://serpapi.com/search.json?engine=google_maps&google_domain=google.com&hl=en&place_id=ChIJU5qgiaz9YjkRn9jcM47JlqY', 'provider_id': '/g/1tg38hm9', 'rating': 4.3, 'reviews': 9247, 'unclaimed_listing': True, 'type': 'Tourist attraction', 'types': ['Tourist attraction', 'Park'], 'type_id': 'tourist_attraction', 'type_ids': ['tourist_attraction', 'park'], 'address': 'PR3W+4PQ, Lal Bagh Rd, Triveni Colony, Indore, Madhya Pradesh 452009, India', 'description': 'Large garden at Lal Bagh Palace. Sprawling garden outside Lal Bagh Palace offering walking paths amid European-style landscaping.', 'extensions': [{'service_options': ['Onsite services']}, {'highlights': ['Picnics']}, {'accessibility': ['Wheelchair accessible entrance', 'Wheelchair accessible parking lot']}, {'amenities': ['Public restroom']}, {'children': ['Good for kids', 'Playground']}], 'service_options': {'onsite_services': True}, 'user_review': '\"Informative details grace every room, enhancing the exploration.\"', 'thumbnail': 'https://lh3.googleusercontent.com/gps-cs-s/AC9h4nqyqNAkAkdoR943ql8KQ-dMuGzsf5ixSmTJRr-zokwv16IZ297-WPDkrAcNFrZ3WA_FYQWn34E8PbAroTUkK8IlMJvyON8HMrdfsNJ0BkJdlYXdDt3mhvZxl1RNp6fKJ_Oh3ug=w122-h92-k-no', 'serpapi_thumbnail': 'https://serpapi.com/images/url/2M7zSXicBcFRboIwAADQExUGZQpL9tHNOSmhKGqY_JiMAjUtLbQFlfN5CW_je88Hs7Y3H64rGHRapVpRj6bWlZK2ltapVOe2vQGVAcZF3xEL5HAfCOKIU5VHARxEmOwATcff2TTvl9u-O-Bcg1nx6-Qt4tKPlqDYrrhGFVnrEhbovD7tCgmDn3D7j7Q6HHkSxiLF0z0j4SbVtDEEv31xTMXpj64s7NhU3oSXk37RJPicMTi2n1fP9wGLfMCBVC9-mkQf'}, {'position': 8, 'title': 'Sheesh Mahal', 'place_id': 'ChIJ7bzmyab9YjkRQD2lZRdDYBY', 'data_id': '0x3962fda6c9e6bced:0x1660431765a53d40', 'data_cid': '1612362434367274304', 'reviews_link': 'https://serpapi.com/search.json?data_id=0x3962fda6c9e6bced%3A0x1660431765a53d40&engine=google_maps_reviews&hl=en', 'photos_link': 'https://serpapi.com/search.json?data_id=0x3962fda6c9e6bced%3A0x1660431765a53d40&engine=google_maps_photos&hl=en', 'gps_coordinates': {'latitude': 22.7164415, 'longitude': 75.84862129999999}, 'place_id_search': 'https://serpapi.com/search.json?engine=google_maps&google_domain=google.com&hl=en&place_id=ChIJ7bzmyab9YjkRQD2lZRdDYBY', 'provider_id': '/g/11bbrh4456', 'rating': 4.2, 'reviews': 1113, 'type': 'Tourist attraction', 'types': ['Tourist attraction', 'Historical landmark', 'Heritage building'], 'type_id': 'tourist_attraction', 'type_ids': ['tourist_attraction', 'historical_landmark', 'heritage_building'], 'address': 'Hukumchand Marg, Opposite Kaanch Mandir, Itwaria Bazaar, Indore, Madhya Pradesh 452002, India', 'open_state': 'Closed ⋅ Opens 10:30\\u202fAM Fri', 'hours': 'Closed ⋅ Opens 10:30\\u202fAM Fri', 'operating_hours': {'thursday': '10:30\\u202fAM–5\\u202fPM', 'friday': '10:30\\u202fAM–5\\u202fPM', 'saturday': '10:30\\u202fAM–5\\u202fPM', 'sunday': 'Closed', 'monday': '10:30\\u202fAM–5\\u202fPM', 'tuesday': '10:30\\u202fAM–5\\u202fPM', 'wednesday': '10:30\\u202fAM–5\\u202fPM'}, 'extensions': [{'service_options': ['Onsite services']}, {'children': ['Good for kids']}], 'unsupported_extensions': [{'accessibility': ['Wheelchair accessible entrance']}], 'service_options': {'onsite_services': True}, 'user_review': '\"You would experience the history in Real Life\"', 'thumbnail': 'https://lh3.googleusercontent.com/gps-cs-s/AC9h4noYRVyvmEge71N6ds4u3zTVa4rweHMur1XhI9ViBW-30v-NiegsTqOcB8tjcve0ntrw_zXulpFKpG-ihgiW50s7q461qRsrpYW2LCUZ6Qn3H0_cYEfvkFJUXd2RO5WA6JE6mxW00A=w122-h92-k-no', 'serpapi_thumbnail': 'https://serpapi.com/images/url/SpYF4HicBcHdboIwGADQJ6qUgnWY7AIN_m1qRpTCboyptWVCW_oV2HzBPcPeZuf8_SrvLcyDoFHRRBojG9GDcNxoL7SfcNMG0gLigCBIl4mKtany4mdoMylm4YHeIO6j56m4xm4Um33vwlJtk6JeMBThAR1qIeHUHfnixX_xQWDt3Xh5ln1jV292jWolazbFMOtiGnY5OFsx8r48f9IPHW3whVfZfXisdufyRvLjlKV0l9H2m2Gcvo4hIUglBD2QNv-RYUTf'}, {'position': 9, 'title': 'Krishna Pura Chhatri, Indore', 'place_id': 'ChIJ4c3QlAv9YjkRv3a56LyeWTg', 'data_id': '0x3962fd0b94d0cde1:0x38599ebce8b976bf', 'data_cid': '4060451073246721727', 'reviews_link': 'https://serpapi.com/search.json?data_id=0x3962fd0b94d0cde1%3A0x38599ebce8b976bf&engine=google_maps_reviews&hl=en', 'photos_link': 'https://serpapi.com/search.json?data_id=0x3962fd0b94d0cde1%3A0x38599ebce8b976bf&engine=google_maps_photos&hl=en', 'gps_coordinates': {'latitude': 22.718780199999998, 'longitude': 75.8580255}, 'place_id_search': 'https://serpapi.com/search.json?engine=google_maps&google_domain=google.com&hl=en&place_id=ChIJ4c3QlAv9YjkRv3a56LyeWTg', 'provider_id': '/g/1v82_hnc', 'rating': 4.2, 'reviews': 4736, 'type': 'Tourist attraction', 'types': ['Tourist attraction', 'Hindu temple', 'Historical place'], 'type_id': 'tourist_attraction', 'type_ids': ['tourist_attraction', 'hindu_temple', 'historic_site'], 'address': 'PV95+G66, Mahatma Gandhi Rd, Rajwada, Maharaja Tukoji Rao Holker Cloth Market, Indore, Madhya Pradesh 452007, India', 'open_state': 'Closed ⋅ Opens 9\\u202fAM Fri', 'hours': 'Closed ⋅ Opens 9\\u202fAM Fri', 'operating_hours': {'thursday': '9\\u202fAM–5\\u202fPM', 'friday': '9\\u202fAM–5\\u202fPM', 'saturday': '9\\u202fAM–5\\u202fPM', 'sunday': '9\\u202fAM–5\\u202fPM', 'monday': '9\\u202fAM–5\\u202fPM', 'tuesday': '9\\u202fAM–5\\u202fPM', 'wednesday': '9\\u202fAM–5\\u202fPM'}, 'description': 'Historic monument to Holkar rulers. Cenotaphs from the late 1800s memorializing Holkar rulers with wall carvings & statues.', 'extensions': [{'service_options': ['Onsite services']}, {'accessibility': ['Wheelchair accessible parking lot']}, {'children': ['Good for kids']}, {'parking': ['Free parking lot']}], 'service_options': {'onsite_services': True}, 'user_review': '\"Their historical significance is equally compelling.\"', 'thumbnail': 'https://lh3.googleusercontent.com/gps-cs-s/AC9h4nqT8FI4xjs7-U-tHIc7k1OKkaOShsKFusg1_n6pAVvOaaTt29_FMMyTrFfyfOFoiHWfJMbSB8vqJDb8RHC7Apkm2nMEGud0jmVFXI7RBXQw0bpSLRS_QgzGTbJBGYu05zsW3VK2mw=w140-h92-k-no', 'serpapi_thumbnail': 'https://serpapi.com/images/url/h0m76HicBcFbcoIwFADQFYWXWMAZPwAbXjKMQNF-MUAhqUgSvUHUDbqG7qbn_L2plAI2qnqhK4VwTi79DP2t40z2TCodn1QiAHWAQHV9h5rsWto4Mh9nsNAXkmHUWaOeJWOTFRQSPAPRa_Yh3OqeNU0pDafGafosb3h4Dhnmv-FxiNO28Oz7Nd61dh76livGyWDpZzD_aOepwqfIyr3TYdFaUezzoj6QV1C2sRd8z9r6BcdVlRjTsl10U0PUMdCIGP8HKphEpg'}, {'position': 10, 'title': 'Shree Atal Bihari Vajpayee Kshetriya Udyan', 'place_id': 'ChIJE9rsw_T8YjkRu8EylMteGJ0', 'data_id': '0x3962fcf4c3ecda13:0x9d185ecb9432c1bb', 'data_cid': '11319901891853468091', 'reviews_link': 'https://serpapi.com/search.json?data_id=0x3962fcf4c3ecda13%3A0x9d185ecb9432c1bb&engine=google_maps_reviews&hl=en', 'photos_link': 'https://serpapi.com/search.json?data_id=0x3962fcf4c3ecda13%3A0x9d185ecb9432c1bb&engine=google_maps_photos&hl=en', 'gps_coordinates': {'latitude': 22.677488, 'longitude': 75.8569905}, 'place_id_search': 'https://serpapi.com/search.json?engine=google_maps&google_domain=google.com&hl=en&place_id=ChIJE9rsw_T8YjkRu8EylMteGJ0', 'provider_id': '/g/11c67q0dzf', 'rating': 4.2, 'reviews': 8350, 'unclaimed_listing': True, 'type': 'Tourist attraction', 'types': ['Tourist attraction', 'Park'], 'type_id': 'tourist_attraction', 'type_ids': ['tourist_attraction', 'park'], 'address': 'MVG4+XQX, Indore, Madhya Pradesh 452001, India', 'open_state': 'Open ⋅ Closes 9\\u202fPM', 'hours': 'Open ⋅ Closes 9\\u202fPM', 'operating_hours': {'thursday': '11\\u202fAM–9\\u202fPM', 'friday': '11\\u202fAM–9\\u202fPM', 'saturday': '11\\u202fAM–9\\u202fPM', 'sunday': '11\\u202fAM–9\\u202fPM', 'monday': 'Closed', 'tuesday': '11\\u202fAM–9\\u202fPM', 'wednesday': '11\\u202fAM–9\\u202fPM'}, 'phone': '+91 98936 99113', 'description': 'Park with boating, fountains & gardens. Spacious park with a lake, canal & gardens offering boating, fountains, a maze & an amphitheater.', 'extensions': [{'service_options': ['Onsite services']}, {'highlights': ['Picnics']}, {'accessibility': ['Wheelchair accessible entrance', 'Wheelchair accessible parking lot']}, {'activities': ['Hiking']}, {'amenities': ['Picnic tables', 'Public restroom', 'Skateboarding area', 'Slides', 'Swings']}, {'children': ['Good for kids', 'Good for kids birthday', 'Kid-friendly hikes', 'Playground']}, {'pets': ['Dog park']}], 'service_options': {'onsite_services': True}, 'user_review': '\"The entry ticket is 25 for adults and 10 for children\"', 'thumbnail': 'https://lh3.googleusercontent.com/gps-cs-s/AC9h4nqdpanBg6Aesw2b9uuxOznlTFfWVc_omak7BcRZFflfR4ekZHXWfl7SsrlkKapYVKc0Doe3MTRNUuuqWynLffYKRKJjhoOt3yax_HuhdNuCPnfBZrTdL2CZ3DOb5SkIlh4KpAbD=w204-h92-k-no', 'serpapi_thumbnail': 'https://serpapi.com/images/url/sUFI73icBcHbDoIgAADQLyKbWs22HrzMWVQ2My1fmiLIgoAE1uX_-oj-pnN-X2qM0kvH4dSbDFIOHFuNRySFwcJMkLw7g9IAaaCdMA6oLx69akU0zEOsn24XWPvKP4KXKakrdJX3li0iVDQp4aTwMWuyc0344qhHzmCrLhVE00Rib1cW-5O1j_ottoRcYAE3Nypz473b1zWztN_b-CBI1Ixlv3XjxkvybnZka059qMIuWT3dqQ9o4AIGhPwDwXxGwg'}, {'position': 11, 'title': 'Shri Annapurna Temple, Indore', 'place_id': 'ChIJ2ye35U78YjkR15LG9w1NFzo', 'data_id': '0x3962fc4ee5b727db:0x3a174d0df7c692d7', 'data_cid': '4185899101051065047', 'reviews_link': 'https://serpapi.com/search.json?data_id=0x3962fc4ee5b727db%3A0x3a174d0df7c692d7&engine=google_maps_reviews&hl=en', 'photos_link': 'https://serpapi.com/search.json?data_id=0x3962fc4ee5b727db%3A0x3a174d0df7c692d7&engine=google_maps_photos&hl=en', 'gps_coordinates': {'latitude': 22.6901679, 'longitude': 75.8381847}, 'place_id_search': 'https://serpapi.com/search.json?engine=google_maps&google_domain=google.com&hl=en&place_id=ChIJ2ye35U78YjkR15LG9w1NFzo', 'provider_id': '/g/1w6_m6tc', 'rating': 4.7, 'reviews': 15062, 'type': 'Tourist attraction', 'types': ['Tourist attraction', 'Scenic spot', 'Hindu temple'], 'type_id': 'tourist_attraction', 'type_ids': ['tourist_attraction', 'scenic_spot', 'hindu_temple'], 'address': 'Annapurna Rd, Annapurna Mandir, Kranti Kriplani Nagar, Indore, Madhya Pradesh 452009, India', 'open_state': 'Open ⋅ Closes 11\\u202fPM', 'hours': 'Open ⋅ Closes 11\\u202fPM', 'operating_hours': {'thursday': '6:30\\u202fAM–11\\u202fPM', 'friday': '6:30\\u202fAM–11\\u202fPM', 'saturday': '6:30\\u202fAM–11\\u202fPM', 'sunday': '6:30\\u202fAM–11\\u202fPM', 'monday': '6:30\\u202fAM–11\\u202fPM', 'tuesday': '6:30\\u202fAM–11\\u202fPM', 'wednesday': '6:30\\u202fAM–11\\u202fPM'}, 'phone': '+91 731 248 2483', 'website': 'http://www.shriannapurna.org/', 'description': 'Popular Hindu temple to goddess of food. Prominent temple dedicated to the Hindu goddess of food featuring an ornate gate & elephant statues.', 'extensions': [{'service_options': ['Onsite services']}, {'accessibility': ['Wheelchair accessible entrance', 'Wheelchair accessible parking lot', 'Wheelchair accessible restroom', 'Wheelchair accessible seating']}, {'amenities': ['Gender-neutral restroom', 'Restroom']}, {'crowd': ['LGBTQ+ friendly']}, {'payments': ['Google Pay']}, {'deities_represented': ['Durga', 'Hanuman', 'Krishna', 'Rama', 'Shiva', 'Vishnu']}], 'service_options': {'onsite_services': True}, 'user_review': '\"The height of the tower is 100 feet.\"', 'thumbnail': 'https://lh3.googleusercontent.com/gps-cs-s/AC9h4nrXof794y8gupLSPxh2T2qTL5sEvVx31BoTRqU0vmuewPMc-1PDub9m_HBkwyG44A2nUEymgogn-dFXu37E5ntDJ9ex65A5d8MC-jFBQ5psCPrxUiOCtCh_LU2550093k1ubqMc=w138-h92-k-no', 'serpapi_thumbnail': 'https://serpapi.com/images/url/7xQNsHicBcFRboIwAADQE1WgpZOa-AEFNQtkOMHwZ2LpWkVaoK3AAXeI3Wbv_f1Kawez87yXRBuhtXhxZ_jEtLJc2Q3TvScGA5gBxospkaGaGv2zJeEaCTfkl3KRsIJjlWOTva8LChJdfY-1_-4dn8uCgaBM3Z30t1PSzesxDGOo6mzthRYKtIfGoW2GlU0_CV8-cIzbqKDgeUjOeDC0nJb68UUtlbe8hhj7PkFd4O5jwfZzgCIgCQQdUPofnLdDLg'}, {'position': 12, 'title': 'Chatrapati Shivaji Maharaj Vatika', 'place_id': 'ChIJZen7gCP9YjkRPSnCkmO80rs', 'data_id': '0x3962fd2380fbe965:0xbbd2bc6392c2293d', 'data_cid': '13534086966051744061', 'reviews_link': 'https://serpapi.com/search.json?data_id=0x3962fd2380fbe965%3A0xbbd2bc6392c2293d&engine=google_maps_reviews&hl=en', 'photos_link': 'https://serpapi.com/search.json?data_id=0x3962fd2380fbe965%3A0xbbd2bc6392c2293d&engine=google_maps_photos&hl=en', 'gps_coordinates': {'latitude': 22.7109457, 'longitude': 75.8827732}, 'place_id_search': 'https://serpapi.com/search.json?engine=google_maps&google_domain=google.com&hl=en&place_id=ChIJZen7gCP9YjkRPSnCkmO80rs', 'provider_id': '/g/1tgx0f36', 'rating': 4.2, 'reviews': 4794, 'unclaimed_listing': True, 'type': 'Tourist attraction', 'types': ['Tourist attraction', 'Garden', 'Park'], 'type_id': 'tourist_attraction', 'type_ids': ['tourist_attraction', 'garden', 'park'], 'address': 'PV6M+94C, AB Rd, opp. Income Tax Office, White Church Colony, Square, Indore, Madhya Pradesh 452001, India', 'open_state': 'Open 24 hours', 'hours': 'Open 24 hours', 'operating_hours': {'thursday': 'Open 24 hours', 'friday': 'Open 24 hours', 'saturday': 'Open 24 hours', 'sunday': 'Open 24 hours', 'monday': 'Open 24 hours', 'tuesday': 'Open 24 hours', 'wednesday': 'Open 24 hours'}, 'extensions': [{'accessibility': ['Wheelchair accessible entrance', 'Wheelchair accessible parking lot']}, {'children': ['Good for kids', 'Good for kids birthday']}], 'user_review': '\"Wonderful View of Greatest warrior.\"', 'thumbnail': 'https://lh3.googleusercontent.com/gps-cs-s/AC9h4nqEtxDZTWyavMR3ttNsIIsSwnQuooUaQC9aen1397D45mctYyHTfoHzVjgewvtcIg4qMUj6r9Q1si0zNgYujuND4vfHtS2tl53kuv67vjLzfEeHl3P95MjGoWliH99lsS3FwSGxxw=w80-h106-k-no', 'serpapi_thumbnail': 'https://serpapi.com/images/url/Xr9EW3icBcFRboIwGADgE1VgBbQme1hELYmQITqjb6QpxVpbtX9b5II7w26z7_v7HQAedhlFasAzYYxQ3Fn-YkYD1zBj5h6Jh0XMIht9rciQ6ucaxuJyOL07X-0xQG3L0rZBN86YY9esSMd1gsm8SLM7g_ObHnpDpx8pePDASpE-q6PMX6RJ7DWeanF20tVF6nsK7QeoDN-cz-de7qZ-zanC3ySr5Nac1JUSomyLN6HdjmP4DIsYDUmcoxvS5h8U9EcU'}, {'position': 13, 'title': 'Lal Bagh Palace', 'place_id': 'ChIJ4Zpzpaz9YjkRkXq3Lr34lk0', 'data_id': '0x3962fdaca5739ae1:0x4d96f8bd2eb77a91', 'data_cid': '5590929478843333265', 'reviews_link': 'https://serpapi.com/search.json?data_id=0x3962fdaca5739ae1%3A0x4d96f8bd2eb77a91&engine=google_maps_reviews&hl=en', 'photos_link': 'https://serpapi.com/search.json?data_id=0x3962fdaca5739ae1%3A0x4d96f8bd2eb77a91&engine=google_maps_photos&hl=en', 'gps_coordinates': {'latitude': 22.7000545, 'longitude': 75.8470942}, 'place_id_search': 'https://serpapi.com/search.json?engine=google_maps&google_domain=google.com&hl=en&place_id=ChIJ4Zpzpaz9YjkRkXq3Lr34lk0', 'provider_id': '/g/1tm__mp7', 'rating': 4.3, 'reviews': 7104, 'unclaimed_listing': True, 'type': 'Historical place museum', 'types': ['Historical place museum', 'Museum'], 'type_id': 'historical_place_museum', 'type_ids': ['historical_place_museum', 'museum'], 'address': 'PR2W+2RH, Nai Duniya, Revenue Colony, Indira Gandhi Nagar, Indore, Madhya Pradesh 452009, India', 'open_state': 'Closed ⋅ Opens 10:15\\u202fAM Fri', 'hours': 'Closed ⋅ Opens 10:15\\u202fAM Fri', 'operating_hours': {'thursday': '10:15\\u202fAM–5\\u202fPM', 'friday': '10:15\\u202fAM–5\\u202fPM', 'saturday': '10:15\\u202fAM–5\\u202fPM', 'sunday': '10:15\\u202fAM–5\\u202fPM', 'monday': 'Closed', 'tuesday': '10:15\\u202fAM–5\\u202fPM', 'wednesday': '10:15\\u202fAM–5\\u202fPM'}, 'description': 'Opulent European-style royal residence. Lavish 19th-century palace of the Holkar dynasty, in a mix of baroque, rococo & neoclassical styles.', 'extensions': [{'service_options': ['Onsite services']}, {'accessibility': ['Wheelchair accessible entrance', 'Wheelchair accessible parking lot', 'Wheelchair accessible restroom']}, {'amenities': ['Restroom']}, {'children': ['Good for kids']}], 'unsupported_extensions': [{'amenities': ['Restaurant']}], 'service_options': {'onsite_services': True}, 'user_review': '\"The structures are unique inside with so many rooms all together.\"', 'thumbnail': 'https://lh3.googleusercontent.com/gps-cs-s/AC9h4nq6gtoiH9ps9taaOIEhiT60wfrkTuUmbp5Z0OgC8INXPr54ZRPU8J8b0sQRluPShsQAJvZRwy7Awhgk1MBKvV4iNaVG_nldlYjorqdA8Q3RyjagMv2UazD3HBgX3WMwhUcmt5Il=w109-h92-k-no', 'serpapi_thumbnail': 'https://serpapi.com/images/url/UJfYEXicBcFZEoIgAADQE5HmUtJMH7ZMWeNatvjTkBmYCCooU_frEN2m935fImUjZppGiTnCnGNa9KLocs5kweQo57WGGwFyAYTmLiGxWDvBkpdb2AgoEQq9NSmPE109u-rYp_W9sTM9xEvHCy5RZ1tZEqXOzrnrIk5oHx2IiN3dkCXqPXUVwdXYX-yHk1UG6LS5Mfqg1xfv2ofrxGbyfiHsD0aKPitzu8AX8-wrkua1tD06V2MdAgINUAHG_xZ3RX4'}, {'position': 14, 'title': 'Crescent Water', 'place_id': 'ChIJvWZJAG_kYjkRnuyVN1I12no', 'data_id': '0x3962e46f004966bd:0x7ada35523795ec9e', 'data_cid': '8852446644786293918', 'reviews_link': 'https://serpapi.com/search.json?data_id=0x3962e46f004966bd%3A0x7ada35523795ec9e&engine=google_maps_reviews&hl=en', 'photos_link': 'https://serpapi.com/search.json?data_id=0x3962e46f004966bd%3A0x7ada35523795ec9e&engine=google_maps_photos&hl=en', 'gps_coordinates': {'latitude': 22.6483873, 'longitude': 75.960802}, 'place_id_search': 'https://serpapi.com/search.json?engine=google_maps&google_domain=google.com&hl=en&place_id=ChIJvWZJAG_kYjkRnuyVN1I12no', 'provider_id': '/g/11bc96vxlk', 'rating': 4.2, 'reviews': 10423, 'type': 'Tourist attraction', 'types': ['Tourist attraction', 'Water park'], 'type_id': 'tourist_attraction', 'type_ids': ['tourist_attraction', 'water_park'], 'address': 'Gram Jamniya, Near Narmada Kshipra Devguradia Khurd, Kampel Rd, Indore, Madhya Pradesh 452016, India', 'open_state': 'Closes soon ⋅ 6\\u202fPM ⋅ Opens 10\\u202fAM Fri', 'hours': 'Closes soon ⋅ 6\\u202fPM ⋅ Opens 10\\u202fAM Fri', 'operating_hours': {'thursday': '10\\u202fAM–6\\u202fPM', 'friday': '10\\u202fAM–6\\u202fPM', 'saturday': '10\\u202fAM–6\\u202fPM', 'sunday': '10\\u202fAM–6\\u202fPM', 'monday': '10\\u202fAM–6\\u202fPM', 'tuesday': '10\\u202fAM–6\\u202fPM', 'wednesday': '10\\u202fAM–6\\u202fPM'}, 'phone': '+91 87208 88881', 'website': 'http://www.crescentwaterparks.com/', 'description': 'Family water park with picnic areas. Family-friendly water park featuring a variety of slides & pools, plus picnic areas.', 'extensions': [{'service_options': ['Onsite services']}, {'accessibility': ['Wheelchair accessible entrance', 'Wheelchair accessible parking lot', 'Wheelchair accessible restroom']}, {'offerings': ['Food']}, {'amenities': ['Bar onsite', 'Restaurant', 'Restroom', 'Wi-Fi', 'Free Wi-Fi']}, {'payments': ['Credit cards', 'NFC mobile payments']}, {'children': ['Good for kids', 'Playground']}], 'service_options': {'onsite_services': True}, 'user_review': '\"The rides are safe and adventurous.\"', 'thumbnail': 'https://lh3.googleusercontent.com/gps-cs-s/AC9h4noSSHqS-lzDJnSJ4mKhkR0lnJnnYBfhmJ2KTboX3DSkRdDuL9TWvC83N85zxXXgIZKz9X29dSrguuKkdszm7aWOpH5ADFQCs4by-xasXhmUGxWNK52xpBQIdHm9uEOMGnWgErPC1A=w122-h92-k-no', 'serpapi_thumbnail': 'https://serpapi.com/images/url/hbwBUHicBcFbjoIwFADQFVW0QLSTzAcPFanjqxqqfwrYJtBbpNRBNuga3I3nfN6y6xrz4zi1dEdCa1GX1pRtrqEroRvlWjmiMSg3yDhBRKQHmrHkwVA9xCmw1FNUVodxDSnAObxLlWJ6vGnuxqw6FLFdk2P2jGbuZuYPPedidaED4ZgUrBXW0qowg5pes22T-EG82EfGu71QfzVcqtOyzzbUx30T7ldFooidb_-WkIl5u4smwe__BGMkCUYVAv0FbahFMA'}, {'position': 15, 'title': \"St. Ann's Church (White Church) – Indore\", 'place_id': 'ChIJ7Xm3XST9YjkRtFNGfyTXAOc', 'data_id': '0x3962fd245db779ed:0xe700d7247f4653b4', 'data_cid': '16645540774515463092', 'reviews_link': 'https://serpapi.com/search.json?data_id=0x3962fd245db779ed%3A0xe700d7247f4653b4&engine=google_maps_reviews&hl=en', 'photos_link': 'https://serpapi.com/search.json?data_id=0x3962fd245db779ed%3A0xe700d7247f4653b4&engine=google_maps_photos&hl=en', 'gps_coordinates': {'latitude': 22.7107316, 'longitude': 75.8838243}, 'place_id_search': 'https://serpapi.com/search.json?engine=google_maps&google_domain=google.com&hl=en&place_id=ChIJ7Xm3XST9YjkRtFNGfyTXAOc', 'provider_id': '/g/1tg5sgd8', 'rating': 4.2, 'reviews': 807, 'type': 'Tourist attraction', 'types': ['Tourist attraction', 'Church'], 'type_id': 'tourist_attraction', 'type_ids': ['tourist_attraction', 'church'], 'address': 'Pipliyahana Rd, White Church Colony, Residency Area, Indore, Madhya Pradesh 452001, India', 'description': 'Colonial-era church with white facades. Landmark church from 1858, with ornate, split-level facades & spires topped by red-tiled roofs.', 'extensions': [{'accessibility': ['Wheelchair accessible entrance', 'Wheelchair accessible parking lot']}, {'amenities': ['Restroom']}], 'user_review': '\"Fantastic experience\"', 'thumbnail': 'https://lh3.googleusercontent.com/gps-cs-s/AC9h4nrh858mhEDpXNG85V7bgHDHAsBJroAGG9jj2iwZ-ZCIOYC4YhId5tl1ouc4OqRzRsWCrBaOkXatAEndi1dNpaORox_Cp7RCNGyYWiioF1Fx4CH1CMv61aRtCdiy1l8C7NaY99uHOA=w122-h92-k-no', 'serpapi_thumbnail': 'https://serpapi.com/images/url/jXUHmXicBcHRboIwFADQL6qkCEJN9lCvCpqMJn2Y4oupQGgVeystU_eD-4b9zc75-9UhOL-MokHPZz1iP3ST78YGbehsmDV4j3rnSeOJjzgwndhR52l-15u1O1ZFnn5ll75cl9yv9iPyomDXa2yeJ3KCnaghqfWuTcNAcWoS8ZA_0h9gXClxO6rAN7Y1tK2cEhJfZ3CZhKp41wdjcEu3rwRKCp_fC6pkgNa86ZBDVqmasakU_ONJ45hoFpMbsfgP9PxD9g'}, {'position': 16, 'title': 'I Love Indore Selfie Point', 'place_id': 'ChIJQSWMOzj9YjkRb89T9I59Cts', 'data_id': '0x3962fd383b8c2541:0xdb0a7d8ef453cf6f', 'data_cid': '15783565897011285871', 'reviews_link': 'https://serpapi.com/search.json?data_id=0x3962fd383b8c2541%3A0xdb0a7d8ef453cf6f&engine=google_maps_reviews&hl=en', 'photos_link': 'https://serpapi.com/search.json?data_id=0x3962fd383b8c2541%3A0xdb0a7d8ef453cf6f&engine=google_maps_photos&hl=en', 'gps_coordinates': {'latitude': 22.7242624, 'longitude': 75.8872726}, 'place_id_search': 'https://serpapi.com/search.json?engine=google_maps&google_domain=google.com&hl=en&place_id=ChIJQSWMOzj9YjkRb89T9I59Cts', 'provider_id': '/g/11hbv9v4f4', 'rating': 4.5, 'reviews': 1283, 'unclaimed_listing': True, 'type': 'Tourist attraction', 'types': ['Tourist attraction'], 'type_id': 'tourist_attraction', 'type_ids': ['tourist_attraction'], 'address': 'PVFP+PW2, New Palasia, Indore, Madhya Pradesh 452018, India', 'open_state': 'Open 24 hours', 'hours': 'Open 24 hours', 'operating_hours': {'thursday': 'Open 24 hours', 'friday': 'Open 24 hours', 'saturday': 'Open 24 hours', 'sunday': 'Open 24 hours', 'monday': 'Open 24 hours', 'tuesday': 'Open 24 hours', 'wednesday': 'Open 24 hours'}, 'phone': '+91 755 278 0600', 'extensions': [{'accessibility': ['Wheelchair accessible entrance', 'Wheelchair accessible parking lot']}, {'children': ['Good for kids']}], 'user_review': '\"Fantastic place for Selfie 🤳 centre of Attraction 🧲 in this city.\"', 'thumbnail': 'https://lh3.googleusercontent.com/gps-cs-s/AC9h4npGE5XWZJ411O49K5hSOB_W0MfTqwBKxIaLh4ov5Sr2oZpXgXNXkKYxTyLiQ5XuPh4XbNHCt33lnNVE_kaOBtVya4FzLE9wAfJ9Dd-t_ZdcQR-C21ikwWD7kLK5USizTQ-AS2OfLA=w200-h92-k-no', 'serpapi_thumbnail': 'https://serpapi.com/images/url/CgcqHXicBcFdboIwAADgE1WgtFm6xAdA9iMVRJh0vBCGQElZi7aKckHPsNvs-_6e3JhJv1rWyN1Vr1Q_tlfdXholTSvNqlG_Vj9p0GigLS8gHMnpPcSsKLfIcRJEIsyzxK8Ke9fl59mP7p815UjdcHaBqpxYz2Imou97_qBDitl1zxH7iT8C47qjjI9hJerEN8dHjd4WGpLZ67ZkcwKmKk9NegABdAYxF5sXQSP8lQ1LngIvg0lHvfUMbRtwAoEAUv0Dz2lDgw'}, {'position': 17, 'title': 'India Gate of Indore', 'place_id': 'ChIJj9istEjjYjkRFtCectE2lHk', 'data_id': '0x3962e348b4acd88f:0x799436d1729ed016', 'data_cid': '8760687448341532694', 'reviews_link': 'https://serpapi.com/search.json?data_id=0x3962e348b4acd88f%3A0x799436d1729ed016&engine=google_maps_reviews&hl=en', 'photos_link': 'https://serpapi.com/search.json?data_id=0x3962e348b4acd88f%3A0x799436d1729ed016&engine=google_maps_photos&hl=en', 'gps_coordinates': {'latitude': 22.745088799999998, 'longitude': 75.90245829999999}, 'place_id_search': 'https://serpapi.com/search.json?engine=google_maps&google_domain=google.com&hl=en&place_id=ChIJj9istEjjYjkRFtCectE2lHk', 'provider_id': '/g/11fqw_j52n', 'rating': 4.3, 'reviews': 77, 'unclaimed_listing': True, 'type': 'Tourist attraction', 'types': ['Tourist attraction'], 'type_id': 'tourist_attraction', 'type_ids': ['tourist_attraction'], 'address': 'PWW2+2XP, Eastern Ring Rd, Tapeshwari Bagh Colony, Indore, Madhya Pradesh 452010, India', 'open_state': 'Open now', 'extensions': [{'accessibility': ['Wheelchair accessible entrance', 'Wheelchair accessible parking lot', 'Wheelchair accessible restroom']}, {'amenities': ['Restroom']}, {'children': ['Good for kids']}], 'user_review': '\"We can go without ticket.\"', 'thumbnail': 'https://lh3.googleusercontent.com/gps-cs-s/AC9h4nqNg1jSX9boTD1EPUhQA_WMz3ugnVan8tUrsyUXSJufF3RX3RT2IU5alEv8V-cGLwUsw2asgrD0lylD-RUOjL_7sTg5cqzekdo-p_U5GGMPGYG-fNZARUnGwUp4Z7MMsUjotfMiEA=w80-h142-k-no', 'serpapi_thumbnail': 'https://serpapi.com/images/url/anj7uHicBcHdboIwFADgJzoifxGX7IIM1myxziHHMW8IVmiHXYucMqIvuGfY2-z7_n6VcwM9eJ5W4UJaK3U7UTsKa1xr3ELYb08OBIKAvPRprSJz3Uq_31frky0zP9-hek_rD34PJ2kOjUkcjnTDav86dc9hUYVFGbxg3Oj8JzmAYJsZaQ4akmO21DedQYFv_aZeUSljcb23l7OFocaYMb5jnwy67TEt0LAZh-i44pywt67jX3n6OCdLUH4UwAWM_QdrzkVk'}, {'position': 18, 'title': 'Tiranga 100-feet', 'place_id': 'ChIJIU3A8h39YjkRTFXWfKlZCO8', 'data_id': '0x3962fd1df2c04d21:0xef0859a97cd6554c', 'data_cid': '17224115359357228364', 'reviews_link': 'https://serpapi.com/search.json?data_id=0x3962fd1df2c04d21%3A0xef0859a97cd6554c&engine=google_maps_reviews&hl=en', 'photos_link': 'https://serpapi.com/search.json?data_id=0x3962fd1df2c04d21%3A0xef0859a97cd6554c&engine=google_maps_photos&hl=en', 'gps_coordinates': {'latitude': 22.7283454, 'longitude': 75.8799274}, 'place_id_search': 'https://serpapi.com/search.json?engine=google_maps&google_domain=google.com&hl=en&place_id=ChIJIU3A8h39YjkRTFXWfKlZCO8', 'provider_id': '/g/11t9lfr5jx', 'rating': 4.7, 'reviews': 14, 'unclaimed_listing': True, 'type': 'Tourist attraction', 'types': ['Tourist attraction'], 'type_id': 'tourist_attraction', 'type_ids': ['tourist_attraction'], 'address': 'PVHH+8XM, RS Bhandari Marg, PF Colony, New Palasia, Indore, Madhya Pradesh 452003, India', 'open_state': 'Open 24 hours', 'hours': 'Open 24 hours', 'operating_hours': {'thursday': 'Open 24 hours', 'friday': 'Open 24 hours', 'saturday': 'Open 24 hours', 'sunday': 'Open 24 hours', 'monday': 'Open 24 hours', 'tuesday': 'Open 24 hours', 'wednesday': 'Open 24 hours'}, 'extensions': [{'children': ['Good for kids']}], 'user_review': '\"Indore best view of National Flag 100 feet.\"', 'thumbnail': 'https://lh3.googleusercontent.com/gps-cs-s/AC9h4nq2f_lKvLHRlJhMSfwKLpOAW4CWedUSWtI-YXwZYprz14N9ZmRHlOLnFxmOZOEhCqLyP0rfZLZMRyQCzF8Bg-kpkkoBrMmYmiN_cRMlaSlj8d6x7TUI1Hmn7P835EhCf165l10-=w80-h106-k-no', 'serpapi_thumbnail': 'https://serpapi.com/images/url/EVIa8nicDctdEoFAAADgE61akjLjgYaJtqKYtC_GpFrav9ol3M8h3Ibv_ft-iNZSTQ2DktGgFqKm5V2VXSG4LrkeFIIZtVSgUEAZc88lFm-H1YkGD-QndEPCtOoDJON5ZnlZeTmkmV6D_NjjXHZvaEUuZolPY8RXTxbjeEm8Fr22ZldhhMPktfPeK2dRg0Y2jVh0IcvZNToVSUjPKb05F_s52R_W0Gd8snVG43-voD2m0ASz3jEBgaYNGsDFD_1nRBM'}, {'position': 19, 'title': '#INDORE', 'place_id': 'ChIJc8_qgIX9YjkRovLg1ZTry84', 'data_id': '0x3962fd8580eacf73:0xcecbeb94d5e0f2a2', 'data_cid': '14901262816561394338', 'reviews_link': 'https://serpapi.com/search.json?data_id=0x3962fd8580eacf73%3A0xcecbeb94d5e0f2a2&engine=google_maps_reviews&hl=en', 'photos_link': 'https://serpapi.com/search.json?data_id=0x3962fd8580eacf73%3A0xcecbeb94d5e0f2a2&engine=google_maps_photos&hl=en', 'gps_coordinates': {'latitude': 22.718274899999997, 'longitude': 75.858514}, 'place_id_search': 'https://serpapi.com/search.json?engine=google_maps&google_domain=google.com&hl=en&place_id=ChIJc8_qgIX9YjkRovLg1ZTry84', 'provider_id': '/g/11q3y7gm6s', 'rating': 4, 'reviews': 6, 'unclaimed_listing': True, 'type': 'Park', 'types': ['Park'], 'type_id': 'park', 'type_ids': ['park'], 'address': '31, Sanjay Setu Rd, South Toda, Indore, Madhya Pradesh 452001, India', 'open_state': 'Open 24 hours', 'hours': 'Open 24 hours', 'operating_hours': {'thursday': 'Open 24 hours', 'friday': 'Open 24 hours', 'saturday': 'Open 24 hours', 'sunday': 'Open 24 hours', 'monday': 'Open 24 hours', 'tuesday': 'Open 24 hours', 'wednesday': 'Open 24 hours'}, 'extensions': [{'accessibility': ['Wheelchair accessible parking lot']}, {'children': ['Good for kids']}], 'user_review': '\"Most beautiful turn around\"', 'thumbnail': 'https://lh3.googleusercontent.com/gps-cs-s/AC9h4np4-wrRhKKaTPzboSAy-FpX5hzCaunD02puLbNyaxbptJBjGvrLXgfazAU6bo3O6kNQmcAadFGHkmTQi-OldkN0yYqLP8LLReR3O74O_9iOdcbUX-Meoc11iGppmW3sVO24j40n=w122-h92-k-no', 'serpapi_thumbnail': 'https://serpapi.com/images/url/-s3AFnicBcHRVoIwGADgJ_oFxrLonC7Ijnh0MSUtuupsYzEEtsVGBu_XQ_g2ft_1X3lv3WMQdCpe1MbUnRydHITRXmq_EKYPautAOHBBukoU1hbDZSjUbseO-5mbt3SCtS3v1Lxio34JkR0Jzyf2x63fPp-z34GU9Teb09OSm5gu2_zQi5RV62zT9sdDA7Sr2jycPn_I_oGQQhYxvcf0K2loJfiphFdpRBQ1mbX9R-zeKcJnHOqnS4QQqARBC9rcAB2wRKM'}, {'position': 20, 'title': 'Mohadi Falls', 'place_id': 'ChIJvXXYDajoYjkR4AQVOTWxbfE', 'data_id': '0x3962e8a80dd875bd:0xf16db135391504e0', 'data_cid': '17396755777751155936', 'reviews_link': 'https://serpapi.com/search.json?data_id=0x3962e8a80dd875bd%3A0xf16db135391504e0&engine=google_maps_reviews&hl=en', 'photos_link': 'https://serpapi.com/search.json?data_id=0x3962e8a80dd875bd%3A0xf16db135391504e0&engine=google_maps_photos&hl=en', 'gps_coordinates': {'latitude': 22.569757499999998, 'longitude': 76.0052365}, 'place_id_search': 'https://serpapi.com/search.json?engine=google_maps&google_domain=google.com&hl=en&place_id=ChIJvXXYDajoYjkR4AQVOTWxbfE', 'provider_id': '/g/11c46lwzpk', 'rating': 4.4, 'reviews': 1426, 'unclaimed_listing': True, 'type': 'Tourist attraction', 'types': ['Tourist attraction', 'Hiking area'], 'type_id': 'tourist_attraction', 'type_ids': ['tourist_attraction', 'hiking_area'], 'address': 'H294+W35, Ghudiya, Udainagar, Berchha, Madhya Pradesh 452020, India', 'open_state': 'Open 24 hours', 'hours': 'Open 24 hours', 'operating_hours': {'thursday': 'Open 24 hours', 'friday': 'Open 24 hours', 'saturday': 'Open 24 hours', 'sunday': 'Open 24 hours', 'monday': 'Open 24 hours', 'tuesday': 'Open 24 hours', 'wednesday': 'Open 24 hours'}, 'extensions': [{'children': ['Good for kids']}], 'unsupported_extensions': [{'accessibility': ['Wheelchair accessible entrance', 'Wheelchair accessible parking lot']}], 'user_review': '\"You can view from the top and also go down just before the fall.\"', 'thumbnail': 'https://lh3.googleusercontent.com/gps-cs-s/AC9h4npeIw2sQIUrDKKb2Pc1ZKejf_zp2lEgvOnFKUOHydpxQ6ajVy6YSLBmmni3lj191Q6hnfJgN74pIMQrBK7iaNg-IcsHM2nEAeYeQllW26oy-I3RVkVGgtOCmhBF2lqDJyc5NAyP-g=w122-h92-k-no', 'serpapi_thumbnail': 'https://serpapi.com/images/url/9qUvhnicBcHdbsIgGADQJ8KmX7WmJl60_kxEW9liF70xyhCsFLCgDl_QZ9jb7Jy_t_TeulEUKZn0hDFC8bvjHTPac-17zLSRsA4xh1yUTzLZ15bjJziKt92UkBNsWLwnvDkfXhbUTDwqPSfbahF-7C9Nj00d0t3XqmhbfUlUE2cxTaU-L0U57Fu8pl1BhpdjKRBmbrEGPcv5jlOlviE1AeHks77WH8JXk1YWc1C36TKwQZmHDRLjZwyAZAboirT5B2tuROc'}]}\n"
     ]
    },
    {
     "data": {
      "text/plain": [
       "list"
      ]
     },
     "execution_count": 13,
     "metadata": {},
     "output_type": "execute_result"
    }
   ],
   "source": [
    "print(results)\n",
    "type(results['local_results'])"
   ]
  },
  {
   "cell_type": "code",
   "execution_count": null,
   "id": "93ed80f3",
   "metadata": {},
   "outputs": [
    {
     "data": {
      "text/plain": [
       "list"
      ]
     },
     "execution_count": 21,
     "metadata": {},
     "output_type": "execute_result"
    }
   ],
   "source": [
    "type(results['local_results'])"
   ]
  },
  {
   "cell_type": "code",
   "execution_count": 30,
   "id": "e052a4b0",
   "metadata": {},
   "outputs": [],
   "source": [
    "from typing import Union, List, Dict\n",
    "\n",
    "class SerpapiPlaceSearchTool:\n",
    "    \n",
    "    def __init__(self):\n",
    "        self.api_key = os.getenv(\"SERPAPI_KEY\")\n",
    "\n",
    "    def Serpapi_search_attractions(self, place: str) -> List[Dict]:\n",
    "        \"\"\"\n",
    "        searcher for attraction of places in the specified place using SerpAPI.\n",
    "        \"\"\"\n",
    "        params = {\n",
    "            \"api_key\": self.api_key,\n",
    "            \"engine\": \"google_maps\",\n",
    "            \"q\": f\"attraction in {place}\",\n",
    "            \"google_domain\": \"google.com\",\n",
    "            \"type\": \"search\",\n",
    "            \"hl\": \"en\"\n",
    "            }\n",
    "        \n",
    "        search = GoogleSearch(params)\n",
    "        result = search.get_dict()\n",
    "        if isinstance(result, dict) and result.get(\"local_results\"):\n",
    "            return result[\"local_results\"]\n",
    "        return result\n",
    "    \n",
    "obejcts = SerpapiPlaceSearchTool()\n",
    "results = obejcts.Serpapi_search_attractions(place=\"indore\")\n"
   ]
  },
  {
   "cell_type": "code",
   "execution_count": null,
   "id": "dd57f397",
   "metadata": {},
   "outputs": [
    {
     "name": "stdout",
     "output_type": "stream",
     "text": [
      "['position', 'title', 'place_id', 'data_id', 'data_cid', 'reviews_link', 'photos_link', 'gps_coordinates', 'place_id_search', 'provider_id', 'rating', 'reviews', 'type', 'types', 'type_id', 'type_ids', 'address', 'open_state', 'hours', 'operating_hours', 'phone', 'website', 'description', 'extensions', 'service_options', 'user_review', 'thumbnail', 'serpapi_thumbnail']\n"
     ]
    }
   ],
   "source": [
    "print(list(results[0].keys()))"
   ]
  },
  {
   "cell_type": "code",
   "execution_count": 28,
   "id": "89409077",
   "metadata": {},
   "outputs": [
    {
     "data": {
      "text/plain": [
       "[{'position': 1,\n",
       "  'title': 'Shri Annapurna Temple, Indore',\n",
       "  'place_id': 'ChIJ2ye35U78YjkR15LG9w1NFzo',\n",
       "  'data_id': '0x3962fc4ee5b727db:0x3a174d0df7c692d7',\n",
       "  'data_cid': '4185899101051065047',\n",
       "  'reviews_link': 'https://serpapi.com/search.json?data_id=0x3962fc4ee5b727db%3A0x3a174d0df7c692d7&engine=google_maps_reviews&hl=en',\n",
       "  'photos_link': 'https://serpapi.com/search.json?data_id=0x3962fc4ee5b727db%3A0x3a174d0df7c692d7&engine=google_maps_photos&hl=en',\n",
       "  'gps_coordinates': {'latitude': 22.6901679, 'longitude': 75.8381847},\n",
       "  'place_id_search': 'https://serpapi.com/search.json?engine=google_maps&google_domain=google.com&hl=en&place_id=ChIJ2ye35U78YjkR15LG9w1NFzo',\n",
       "  'provider_id': '/g/1w6_m6tc',\n",
       "  'rating': 4.7,\n",
       "  'reviews': 15069,\n",
       "  'type': 'Tourist attraction',\n",
       "  'types': ['Tourist attraction', 'Scenic spot', 'Hindu temple'],\n",
       "  'type_id': 'tourist_attraction',\n",
       "  'type_ids': ['tourist_attraction', 'scenic_spot', 'hindu_temple'],\n",
       "  'address': 'Annapurna Rd, Annapurna Mandir, Kranti Kriplani Nagar, Indore, Madhya Pradesh 452009, India',\n",
       "  'open_state': 'Open ⋅ Closes 11\\u202fPM',\n",
       "  'hours': 'Open ⋅ Closes 11\\u202fPM',\n",
       "  'operating_hours': {'friday': '6:30\\u202fAM–11\\u202fPM',\n",
       "   'saturday': '6:30\\u202fAM–11\\u202fPM',\n",
       "   'sunday': '6:30\\u202fAM–11\\u202fPM',\n",
       "   'monday': '6:30\\u202fAM–11\\u202fPM',\n",
       "   'tuesday': '6:30\\u202fAM–11\\u202fPM',\n",
       "   'wednesday': '6:30\\u202fAM–11\\u202fPM',\n",
       "   'thursday': '6:30\\u202fAM–11\\u202fPM'},\n",
       "  'phone': '+91 731 248 2483',\n",
       "  'website': 'http://www.shriannapurna.org/',\n",
       "  'description': 'Popular Hindu temple to goddess of food. Prominent temple dedicated to the Hindu goddess of food featuring an ornate gate & elephant statues.',\n",
       "  'extensions': [{'service_options': ['Onsite services']},\n",
       "   {'accessibility': ['Wheelchair accessible entrance',\n",
       "     'Wheelchair accessible parking lot',\n",
       "     'Wheelchair accessible restroom',\n",
       "     'Wheelchair accessible seating']},\n",
       "   {'amenities': ['Gender-neutral restroom', 'Restroom']},\n",
       "   {'crowd': ['LGBTQ+ friendly']},\n",
       "   {'payments': ['Google Pay']},\n",
       "   {'deities_represented': ['Durga',\n",
       "     'Hanuman',\n",
       "     'Krishna',\n",
       "     'Rama',\n",
       "     'Shiva',\n",
       "     'Vishnu']}],\n",
       "  'service_options': {'onsite_services': True},\n",
       "  'user_review': '\"It is under construction right now, but already it looks so surreal.\"',\n",
       "  'thumbnail': 'https://lh3.googleusercontent.com/gps-cs-s/AC9h4nqSkkPjIqfCpFqzSIF7kXIWsAg_d4ys1so6bkXmHd0mNHBetP-2Q_zBD0GXkvLm2YdmHK9WfBKLwYiKSlZngVH7-KW6EpQ4QMc9YVO0X-PtpvTKEad7RPh1KQcBbS_XvCA29sMr=w122-h92-k-no',\n",
       "  'serpapi_thumbnail': 'https://serpapi.com/images/url/2dRMJ3icBcHdToMwGADQJ-qASkZq4gXgNkg3BTGjeEO2wlot_WFfZXHv50P4Np7z9yu9d_AYBJN8WAlrxTR-w3jl1vjR-BW3OhAOEAcEQZoTGZu5Uar6KudL7rbzvSm3iWJlC6noh_gHIrDrs2K6GEL9UmSjrxCu-3v2HO6YWvYad4MuKGkvGd3fuk_aTB9GHIsE0Xa9cXVcHzjpjq8hQ5V3yzvdnIbkrZIRrXl2bnq25CkmcLg-3SKMkSQYKWTsP94qQ-k'}]"
      ]
     },
     "execution_count": 28,
     "metadata": {},
     "output_type": "execute_result"
    }
   ],
   "source": [
    "results[:1]"
   ]
  },
  {
   "cell_type": "code",
   "execution_count": 33,
   "id": "6c2e8827",
   "metadata": {},
   "outputs": [
    {
     "name": "stdout",
     "output_type": "stream",
     "text": [
      "[{'position': 1, 'title': 'Shri Annapurna Temple, Indore', 'rating': 4.7, 'reviews': 15069, 'type': 'Tourist attraction', 'types': ['Tourist attraction', 'Scenic spot', 'Hindu temple'], 'address': 'Annapurna Rd, Annapurna Mandir, Kranti Kriplani Nagar, Indore, Madhya Pradesh 452009, India', 'hours': 'Open ⋅ Closes 11\\u202fPM', 'phone': '+91 731 248 2483', 'website': 'http://www.shriannapurna.org/', 'description': 'Popular Hindu temple to goddess of food. Prominent temple dedicated to the Hindu goddess of food featuring an ornate gate & elephant statues.', 'user_review': '\"It is under construction right now, but already it looks so surreal.\"'}, {'position': 2, 'title': 'Kamla Nehru Zoo', 'rating': 4.3, 'reviews': 29256, 'type': 'Tourist attraction', 'types': ['Tourist attraction', 'Zoo'], 'address': 'AB Rd, Doordarshan Kendra, Navlakha, Indore, Madhya Pradesh 452001, India', 'hours': 'Closed ⋅ Opens 10\\u202fAM Sat', 'phone': '+91 74404 42236', 'description': '51-acre zoo & garden with exotic animals. Large, lush zoological garden featuring white tigers, Himalayan bears & white peacocks.', 'user_review': '\"Beautiful place to visit for kids, super fun was mirror house, snake areas\"'}, {'position': 3, 'title': 'Krishna Pura Chhatri, Indore', 'rating': 4.2, 'reviews': 4737, 'type': 'Tourist attraction', 'types': ['Tourist attraction', 'Hindu temple', 'Historical place'], 'address': 'PV95+G66, Mahatma Gandhi Rd, Rajwada, Maharaja Tukoji Rao Holker Cloth Market, Indore, Madhya Pradesh 452007, India', 'hours': 'Closed ⋅ Opens 9\\u202fAM Sat', 'description': 'Historic monument to Holkar rulers. Cenotaphs from the late 1800s memorializing Holkar rulers with wall carvings & statues.', 'user_review': '\"No tickets are required to enter.\"'}, {'position': 4, 'title': 'ISKCON Radha Govind Temple', 'rating': 4.6, 'reviews': 3502, 'type': 'Tourist attraction', 'types': ['Tourist attraction', 'Hindu temple'], 'address': 'Hare Krishna Vihar, Nipania, Indore, Madhya Pradesh 452016, India', 'hours': 'Open ⋅ Closes 8:45\\u202fPM', 'phone': '+91 91799 19744', 'website': 'http://www.iskconindore.com/', 'user_review': '\"Nice experience but make sure the timing is 4:30 to 7 evening\"'}, {'position': 5, 'title': 'Central Museum, Indore', 'rating': 4, 'reviews': 2337, 'unclaimed_listing': True, 'type': 'Tourist attraction', 'types': ['Tourist attraction', 'Museum'], 'address': 'PV4H+3HW, Near GPO Square, Residency, Navlakha, Indore, Madhya Pradesh 452001, India', 'hours': 'Closed ⋅ Opens 10\\u202fAM Sat', 'phone': '+91 1800 11 1363', 'description': 'Galleries with historical artifacts. Small place with historical artifacts, including Parmar & medieval sculptures, plus coins & weapons.', 'unsupported_extensions': [{'amenities': ['Restaurant']}], 'user_review': '\"🌟 Engaging exhibits showcasing local culture and heritage.\"'}, {'position': 6, 'title': 'Meghdoot Garden', 'rating': 4.1, 'reviews': 27499, 'unclaimed_listing': True, 'type': 'Tourist attraction', 'types': ['Tourist attraction', 'Outlet mall', 'Garden'], 'address': 'Entrance, Main Gate, Maguda Nagar, Scheme No 54, Indore, Madhya Pradesh 452010, India', 'hours': 'Open ⋅ Closes 8:30\\u202fPM', 'website': 'https://www.digishalanews.com/2024/08/meghdoot-garden-best-parks-in-indore.html', 'description': 'Landscaped park with camels & peacocks. Popular spot for running, yoga & cricket amid greenery, plus camel rides & roaming peacocks.', 'user_review': '\"Lite shows, good sitting place, children\\'s play zone and rides for all\"'}, {'position': 7, 'title': 'Crescent Water', 'rating': 4.2, 'reviews': 10425, 'type': 'Tourist attraction', 'types': ['Tourist attraction', 'Water park'], 'address': 'Gram Jamniya, Near Narmada Kshipra Devguradia Khurd, Kampel Rd, Indore, Madhya Pradesh 452016, India', 'hours': 'Closed ⋅ Opens 10\\u202fAM Sat', 'phone': '+91 87208 88881', 'website': 'http://www.crescentwaterparks.com/', 'description': 'Family water park with picnic areas. Family-friendly water park featuring a variety of slides & pools, plus picnic areas.', 'user_review': '\"Rides are great and even the wave pool and rain dance is good.\"'}, {'position': 8, 'title': 'Regional Park Indore', 'rating': 4.2, 'reviews': 7557, 'type': 'Tourist attraction', 'types': ['Tourist attraction', 'Park'], 'address': 'Regional Park Rd, Kasturba Gram, Indore, Madhya Pradesh 452001, India', 'hours': 'Open ⋅ Closes 9\\u202fPM', 'user_review': '\"Amazing Fountains, Music and Lights are center of attraction in this park.\"'}, {'position': 9, 'title': 'Shree Atal Bihari Vajpayee Kshetriya Udyan', 'rating': 4.2, 'reviews': 8350, 'unclaimed_listing': True, 'type': 'Tourist attraction', 'types': ['Tourist attraction', 'Park'], 'address': 'MVG4+XQX, Indore, Madhya Pradesh 452001, India', 'hours': 'Open ⋅ Closes 9\\u202fPM', 'phone': '+91 98936 99113', 'description': 'Park with boating, fountains & gardens. Spacious park with a lake, canal & gardens offering boating, fountains, a maze & an amphitheater.', 'user_review': '\"... park can even have swings,slides and some adventurous activities.\"'}, {'position': 10, 'title': 'Gandhi Hall', 'rating': 4.2, 'reviews': 4141, 'unclaimed_listing': True, 'type': 'Tourist attraction', 'types': ['Tourist attraction', 'Historical landmark'], 'address': '51, Mahatma Gandhi Rd, Shastri Market, New Siyaganj, Indore, Madhya Pradesh 452007, India', 'hours': 'Closed ⋅ Opens 10\\u202fAM Sat', 'phone': '+91 1800 11 1363', 'description': 'Ornate Indo-Gothic hall & cultural space. Art & culture exhibitions in a 1904 hall with elaborate Indo-Gothic windows, minarets & domes.', 'user_review': '\"Beautiful experience, clean places, amazing night markets and food places.\"'}, {'position': 11, 'title': 'Aanandam Adventure Park', 'rating': 4.2, 'reviews': 981, 'type': 'Tourist attraction', 'types': ['Tourist attraction', 'Adventure sports center', 'Event venue', 'Theme park', 'Amusement park'], 'address': '116 2/2, Airport Rd, near Airport Police Station, Kanyakubj Nagar, Indore, Madhya Pradesh 452005, India', 'hours': 'Open ⋅ Closes 9\\u202fPM', 'phone': '+91 91113 33959', 'user_review': '\"Lots of fun rides and excitement in lush green surroundings.\"'}, {'position': 12, 'title': 'Shree Bijasan Mata Mandir Indore', 'rating': 4.6, 'reviews': 6963, 'type': 'Tourist attraction', 'types': ['Tourist attraction', 'Hindu temple'], 'address': 'Devi Ahillyabai Holkar Airport Area, Indore, Madhya Pradesh 452005, India', 'hours': 'Open ⋅ Closes 10:30\\u202fPM', 'description': 'Bright Hindu temple atop a hill. Hilltop temple with street stalls, lion statues & colorful renderings of Hindu deities.', 'user_review': '\"Hardly takes 30mins to visit, no queue or not that much rush.\"'}, {'position': 13, 'title': 'Chatrapati Shivaji Maharaj Vatika', 'rating': 4.2, 'reviews': 4795, 'unclaimed_listing': True, 'type': 'Tourist attraction', 'types': ['Tourist attraction', 'Garden', 'Park'], 'address': 'PV6M+94C, AB Rd, opp. Income Tax Office, White Church Colony, Square, Indore, Madhya Pradesh 452001, India', 'hours': 'Open 24 hours', 'user_review': '\"It\\'s also a kids friendly landmark.\"'}, {'position': 14, 'title': \"St. Ann's Church (White Church) – Indore\", 'rating': 4.2, 'reviews': 807, 'type': 'Tourist attraction', 'types': ['Tourist attraction', 'Church'], 'address': 'Pipliyahana Rd, White Church Colony, Residency Area, Indore, Madhya Pradesh 452001, India', 'hours': 'Closed ⋅ Opens 9\\u202fAM Sat', 'description': 'Colonial-era church with white facades. Landmark church from 1858, with ornate, split-level facades & spires topped by red-tiled roofs.', 'user_review': '\"Fantastic experience\"'}, {'position': 15, 'title': 'Lal Bagh Palace', 'rating': 4.3, 'reviews': 7105, 'unclaimed_listing': True, 'type': 'Historical place museum', 'types': ['Historical place museum', 'Museum'], 'address': 'PR2W+2RH, Nai Duniya, Revenue Colony, Indira Gandhi Nagar, Indore, Madhya Pradesh 452009, India', 'hours': 'Closed ⋅ Opens 10:15\\u202fAM Sat', 'description': 'Opulent European-style royal residence. Lavish 19th-century palace of the Holkar dynasty, in a mix of baroque, rococo & neoclassical styles.', 'unsupported_extensions': [{'amenities': ['Restaurant']}], 'user_review': '\"There is per person ticket charged which is highly affordable.\"'}, {'position': 16, 'title': 'Mohadi Falls', 'rating': 4.4, 'reviews': 1427, 'unclaimed_listing': True, 'type': 'Tourist attraction', 'types': ['Tourist attraction', 'Hiking area'], 'address': 'H294+W35, Ghudiya, Udainagar, Berchha, Madhya Pradesh 452020, India', 'hours': 'Open 24 hours', 'unsupported_extensions': [{'accessibility': ['Wheelchair accessible entrance', 'Wheelchair accessible parking lot']}], 'user_review': '\"Very hilarious place to go with some adventures tracking\"'}, {'position': 17, 'title': 'Sirpur lake', 'rating': 4.3, 'reviews': 1097, 'unclaimed_listing': True, 'type': 'Tourist attraction', 'types': ['Tourist attraction'], 'address': 'PR36+3RX, Sirpur, Indore, Madhya Pradesh 452002, India', 'hours': 'Open 24 hours', 'phone': '+91 1800 233 7777', 'user_review': '\"It’s ideal for a short outing or an afternoon escape from the city’s hustle.\"'}, {'position': 18, 'title': 'Rajwada Palace', 'rating': 4.4, 'reviews': 70003, 'type': 'Historical landmark', 'types': ['Historical landmark', 'Historical place museum'], 'address': 'Rajwada, Indore, Madhya Pradesh 452002, India', 'hours': 'Closes soon ⋅ 7\\u202fPM ⋅ Opens 11\\u202fAM Sat', 'description': 'Elaborate 18th-century royal residence. Imposing 1700s 7-storey palace from the Holkar dynasty, with a blend of Maratha & European styles.', 'user_review': '\"Evening light shows and the overall ambiance make it a memorable experience.\"'}, {'position': 19, 'title': 'Gommatgiri Digambar Jain Mandir', 'rating': 4.6, 'reviews': 3160, 'unclaimed_listing': True, 'type': 'Tourist attraction', 'types': ['Tourist attraction', 'Jain temple'], 'address': 'PQWF+78R, Major District Rd, Nainod Village, Indore, Madhya Pradesh 257112, India', 'description': 'Hilltop Hindu temple with scenic views. Hindu temple with statues on a serene hilltop offering scenic views of the city.', 'user_review': '\"situated at a height, and you can travel with your car.\"'}, {'position': 20, 'title': 'I Love Indore Selfie Point', 'rating': 4.5, 'reviews': 1283, 'unclaimed_listing': True, 'type': 'Tourist attraction', 'types': ['Tourist attraction'], 'address': 'PVFP+PW2, New Palasia, Indore, Madhya Pradesh 452018, India', 'hours': 'Open 24 hours', 'phone': '+91 755 278 0600', 'user_review': '\"Fantastic place for Selfie 🤳 centre of Attraction 🧲 in this city.\"'}]\n"
     ]
    }
   ],
   "source": [
    "keys_to_remove = [\n",
    "    'place_id', 'data_id', 'data_cid', 'reviews_link', 'photos_link',\n",
    "    'gps_coordinates', 'place_id_search', 'provider_id', 'type_id',\n",
    "    'type_ids', 'open_state', 'operating_hours', 'extensions',\n",
    "    'service_options', 'thumbnail', 'serpapi_thumbnail'\n",
    "]\n",
    "\n",
    "# Iterate over each dict and remove unwanted keys\n",
    "for item in results:\n",
    "    for key in keys_to_remove:\n",
    "        item.pop(key, None)  # Won’t error if key is missing\n",
    "\n",
    "print(results)\n"
   ]
  },
  {
   "cell_type": "code",
   "execution_count": 35,
   "id": "91d520c1",
   "metadata": {},
   "outputs": [
    {
     "data": {
      "text/plain": [
       "[{'position': 1,\n",
       "  'title': 'Indore Marriott Hotel',\n",
       "  'place_id': 'ChIJwdcpyaYCYzkRDwGwHsaBt6k',\n",
       "  'data_id': '0x396302a6c929d7c1:0xa9b781c61eb0010f',\n",
       "  'data_cid': '12229386001066230031',\n",
       "  'reviews_link': 'https://serpapi.com/search.json?data_id=0x396302a6c929d7c1%3A0xa9b781c61eb0010f&engine=google_maps_reviews&hl=en',\n",
       "  'photos_link': 'https://serpapi.com/search.json?data_id=0x396302a6c929d7c1%3A0xa9b781c61eb0010f&engine=google_maps_photos&hl=en',\n",
       "  'gps_coordinates': {'latitude': 22.7527421, 'longitude': 75.88371599999999},\n",
       "  'place_id_search': 'https://serpapi.com/search.json?engine=google_maps&google_domain=google.com&hl=en&place_id=ChIJwdcpyaYCYzkRDwGwHsaBt6k',\n",
       "  'provider_id': '/g/11d_b9_16g',\n",
       "  'rating': 4.4,\n",
       "  'reviews': 12568,\n",
       "  'price': '$97',\n",
       "  'type': 'Hotel',\n",
       "  'types': ['Hotel'],\n",
       "  'type_id': 'hotel',\n",
       "  'type_ids': ['hotel'],\n",
       "  'address': 'H-2 Scheme No 54, Meghdoot Garden, Vijay Nagar, Indore, Madhya Pradesh 452010, India',\n",
       "  'phone': '+91 731 477 7777',\n",
       "  'website': 'https://www.marriott.com/en-us/hotels/idrmh-indore-marriott-hotel/overview/?scid=f2ae0541-1279-4f24-b197-a979c79310b0',\n",
       "  'description': 'Polished hotel with dining & a spa. Refined hotel offering stylish rooms & suites with free Wi-Fi, plus dining, an outdoor pool & a spa.',\n",
       "  'amenities': ['Free Wi-Fi'],\n",
       "  'extensions': [{'crowd': ['LGBTQ+ friendly']}],\n",
       "  'thumbnail': 'https://lh3.googleusercontent.com/gps-proxy/ALd4DhErpJdN7hYZ9qRcJjJyZevZLbwsjeRJ9PfeHwnKjfhnXjUZEG7oLnWzLINjND4Tfyxhree-kIp6M040kD2QmmsiFiwvIfRp81nq0vyHGKI5yoBncHovfu1liFRJ1e5w0rn4ey9Va2SmYIKRnW0F2b7DIpzhaTVmoZpqiYXYxEU7tqV0-Sq9WEkW=w135-h92-k-no',\n",
       "  'serpapi_thumbnail': 'https://serpapi.com/images/url/ODEVy3icBcHddkMwAADgJ0qFMrNzdrEdVDBn05bKXash_pIQRfqme5Fd7_t-_-g8C_mmaT3d72rO6548JJlKzmbC5l3JB60WEoiJb0r7iO-mS71JhPfEpgV2xrQM21BhsuD4tsqWpKHzXZFgZVFbUXZpz9g72Dxm-TNGSZu45qlSG50IAR0SL1_QhJ1r_AyDbPxmXVCViledjXBRwSFCluKfrAz4Uj30vvHTUCfWCidmEuVkV-M4FChKWQ5942a7SDzp9ZQNHIuxKS7F5p3tecwgOI5O7nX5-6rvLUAdA3SA8X8zylds'}]"
      ]
     },
     "execution_count": 35,
     "metadata": {},
     "output_type": "execute_result"
    }
   ],
   "source": [
    "from typing import Union, List, Dict\n",
    "\n",
    "class SerpapiPlaceSearchTool:\n",
    "    \n",
    "    def __init__(self):\n",
    "        self.api_key = os.getenv(\"SERPAPI_KEY\")\n",
    "\n",
    "    def Serpapi_search_attractions(self, place: str) -> List[Dict]:\n",
    "        \"\"\"\n",
    "        searcher for attraction of places in the specified place using SerpAPI.\n",
    "        \"\"\"\n",
    "        params = {\n",
    "            \"api_key\": self.api_key,\n",
    "            \"engine\": \"google_maps\",\n",
    "            \"q\": f\"hotels in {place}\",\n",
    "            \"google_domain\": \"google.com\",\n",
    "            \"type\": \"search\",\n",
    "            \"hl\": \"en\"\n",
    "            }\n",
    "        \n",
    "        search = GoogleSearch(params)\n",
    "        result = search.get_dict()\n",
    "        if isinstance(result, dict) and result.get(\"local_results\"):\n",
    "            return result[\"local_results\"]\n",
    "        return result\n",
    "    \n",
    "obejcts = SerpapiPlaceSearchTool()\n",
    "results = obejcts.Serpapi_search_attractions(place=\"indore\")\n",
    "results[:1]"
   ]
  },
  {
   "cell_type": "code",
   "execution_count": 4,
   "id": "a547de01",
   "metadata": {},
   "outputs": [
    {
     "name": "stdout",
     "output_type": "stream",
     "text": [
      "{'city': 'Delhi', 'temperature': 30.6, 'windspeed': 7.3, 'time': '2025-08-09T09:30'}\n"
     ]
    }
   ],
   "source": [
    "import requests\n",
    "\n",
    "def get_coordinates(city_name):\n",
    "    geo_url = \"https://nominatim.openstreetmap.org/search\"\n",
    "    params = {\n",
    "        \"q\": city_name,\n",
    "        \"format\": \"json\",\n",
    "        \"limit\": 1\n",
    "    }\n",
    "    response = requests.get(geo_url, params=params, headers={\"User-Agent\": \"weather-app\"})\n",
    "    response.raise_for_status()\n",
    "    data = response.json()\n",
    "    \n",
    "    if not data:\n",
    "        raise ValueError(\"City not found\")\n",
    "    \n",
    "    return float(data[0][\"lat\"]), float(data[0][\"lon\"])\n",
    "\n",
    "def get_current_weather(city_name):\n",
    "    lat, lon = get_coordinates(city_name)\n",
    "    weather_url = \"https://api.open-meteo.com/v1/forecast\"\n",
    "    params = {\n",
    "        \"latitude\": lat,\n",
    "        \"longitude\": lon,\n",
    "        \"current_weather\": True\n",
    "    }\n",
    "    response = requests.get(weather_url, params=params)\n",
    "    response.raise_for_status()\n",
    "    weather_data = response.json().get(\"current_weather\", {})\n",
    "    \n",
    "    return {\n",
    "        \"city\": city_name,\n",
    "        \"temperature\": weather_data.get(\"temperature\"),\n",
    "        \"windspeed\": weather_data.get(\"windspeed\"),\n",
    "        \"time\": weather_data.get(\"time\")\n",
    "    }\n",
    "\n",
    "# Example:\n",
    "print(get_current_weather(\"Delhi\"))\n"
   ]
  },
  {
   "cell_type": "code",
   "execution_count": 1,
   "id": "283e03b8",
   "metadata": {},
   "outputs": [
    {
     "name": "stdout",
     "output_type": "stream",
     "text": [
      "{'time': ['2025-08-09', '2025-08-10', '2025-08-11', '2025-08-12', '2025-08-13'], 'temperature_2m_max': [30.8, 33.0, 32.9, 32.6, 31.9], 'temperature_2m_min': [27.5, 27.0, 27.1, 27.0, 27.0], 'precipitation_sum': [6.0, 1.9, 17.8, 15.8, 36.0]}\n"
     ]
    }
   ],
   "source": [
    "import requests\n",
    "from datetime import date, timedelta\n",
    "\n",
    "def get_coordinates(city_name):\n",
    "    geo_url = \"https://nominatim.openstreetmap.org/search\"\n",
    "    params = {\"q\": city_name, \"format\": \"json\", \"limit\": 1}\n",
    "    response = requests.get(geo_url, params=params, headers={\"User-Agent\": \"weather-app\"})\n",
    "    response.raise_for_status()\n",
    "    data = response.json()\n",
    "    if not data:\n",
    "        raise ValueError(\"City not found\")\n",
    "    return float(data[0][\"lat\"]), float(data[0][\"lon\"])\n",
    "\n",
    "def get_forecast_by_city(city_name, days=5):\n",
    "    lat, lon = get_coordinates(city_name)\n",
    "    \n",
    "    start = date.today()\n",
    "    end = start + timedelta(days=days-1)  # Open-Meteo includes both start & end\n",
    "    \n",
    "    weather_url = \"https://api.open-meteo.com/v1/forecast\"\n",
    "    params = {\n",
    "        \"latitude\": lat,\n",
    "        \"longitude\": lon,\n",
    "        \"daily\": [\"temperature_2m_max\", \"temperature_2m_min\", \"precipitation_sum\"],\n",
    "        \"timezone\": \"auto\",\n",
    "        \"start_date\": start.isoformat(),\n",
    "        \"end_date\": end.isoformat()\n",
    "    }\n",
    "    response = requests.get(weather_url, params=params)\n",
    "    response.raise_for_status()\n",
    "    return response.json()[\"daily\"]\n",
    "\n",
    "# Example: 5-day forecast for Delhi\n",
    "forecast = get_forecast_by_city(\"Delhi\", days=5)\n",
    "print(forecast)\n"
   ]
  },
  {
   "cell_type": "code",
   "execution_count": null,
   "id": "1593ffbf",
   "metadata": {},
   "outputs": [
    {
     "data": {
      "text/plain": [
       "\"{'time': ['2025-08-09', '2025-08-10', '2025-08-11', '2025-08-12', '2025-08-13'], 'temperature_2m_max': [30.8, 33.0, 32.9, 32.6, 31.9], 'temperature_2m_min': [27.5, 27.0, 27.1, 27.0, 27.0], 'precipitation_sum': [6.0, 1.9, 17.8, 15.8, 36.0]}\""
      ]
     },
     "execution_count": 3,
     "metadata": {},
     "output_type": "execute_result"
    }
   ],
   "source": []
  },
  {
   "cell_type": "markdown",
   "id": "d76d8a90",
   "metadata": {},
   "source": [
    "## TRYING MULTIPLE AGENT STRUCTURE"
   ]
  },
  {
   "cell_type": "code",
   "execution_count": 2,
   "id": "8ed77e61",
   "metadata": {},
   "outputs": [],
   "source": [
    "from langchain_google_genai import ChatGoogleGenerativeAI\n",
    "import os\n",
    "llm = ChatGoogleGenerativeAI(\n",
    "    model=\"gemini-2.5-pro\",          # or \"gemini-2.0-flash\"\n",
    "    temperature=0.7,\n",
    "    max_retries=2,\n",
    "    google_api_key=os.getenv(\"GEMINI_API_KEY\"),\n",
    ")\n"
   ]
  },
  {
   "cell_type": "code",
   "execution_count": 3,
   "id": "625e81d7",
   "metadata": {},
   "outputs": [
    {
     "data": {
      "text/plain": [
       "AIMessage(content='Hey there! How can I help you today?', additional_kwargs={}, response_metadata={'prompt_feedback': {'block_reason': 0, 'safety_ratings': []}, 'finish_reason': 'STOP', 'model_name': 'gemini-2.5-pro', 'safety_ratings': []}, id='run--4fd144f3-f10b-4da4-a861-51948888827e-0', usage_metadata={'input_tokens': 2, 'output_tokens': 838, 'total_tokens': 840, 'input_token_details': {'cache_read': 0}, 'output_token_details': {'reasoning': 828}})"
      ]
     },
     "execution_count": 3,
     "metadata": {},
     "output_type": "execute_result"
    }
   ],
   "source": [
    "llm.invoke(\"hey\")"
   ]
  },
  {
   "cell_type": "code",
   "execution_count": null,
   "id": "3cae4eeb",
   "metadata": {},
   "outputs": [],
   "source": [
    "from langgraph.graph import StateGraph, MessagesState, END, START\n",
    "from langgraph.prebuilt import too"
   ]
  },
  {
   "cell_type": "code",
   "execution_count": null,
   "id": "a8cb7fe8",
   "metadata": {},
   "outputs": [
    {
     "data": {
      "image/png": "[encoded data removed]",
      "text/plain": [
       "<langgraph.graph.state.CompiledStateGraph object at 0x000001746A62FED0>"
      ]
     },
     "execution_count": 9,
     "metadata": {},
     "output_type": "execute_result"
    }
   ],
   "source": [
    "from langgraph.graph import StateGraph, START, END, MessagesState\n",
    "from utils.model_loader import ModelLoader\n",
    "from langgraph.prebuilt import ToolNode\n",
    "from tools.weather_tool import WeatherInfoTool\n",
    "from tools.place_search_tool import PlaceSearchTool\n",
    "from tools.expense_calculator import CalculatorTool\n",
    "from tools.currency_conversion import CurrencyConverterTool\n",
    "from prompt_library.agent_prompts import SYSTEM_PROMPT\n",
    "\n",
    "\n",
    "def planner_agent(state: MessagesState):\n",
    "    return {'messages': [f\"Planner: Created itinery for {state['messages'][-1]}\"]}\n",
    "def research_agent(state: MessagesState):\n",
    "    return {'messages': [f\"Research: Added attractions, hotels, and weather info for {state['messages'][-1]}\"]}\n",
    "def budget_agent(state: MessagesState):\n",
    "    return {'messages': [f\"Budget: Calculated costs and converted currency for  {state['messages'][-1]}\"]}\n",
    "def finalizer_agent(state: MessagesState):\n",
    "    return {'messages': [f\"Finalizer: Generated polished markdown itinerary for {state['messages'][-1]}\"]}\n",
    "\n",
    "def supervisor_agent(state: MessagesState):\n",
    "    if \"planner:\" not in \"\".join(state['messages']):\n",
    "        return \"planner\"\n",
    "    elif \"Research:\"not in \"\".join(state['messages']):\n",
    "        return \"research\"\n",
    "    elif \"Budget:\" not in \"\".join(state['messages']):\n",
    "        return \"budget\"\n",
    "    else: \n",
    "        return \"finalizer\"\n",
    "    \n",
    "    ##\n",
    "class Travel_Graph:\n",
    "    def __init__(self):\n",
    "        # Load tools if needed\n",
    "        self.weather_tool = WeatherInfoTool()\n",
    "        self.place_search_tool = PlaceSearchTool()\n",
    "        self.expense_calculator = CalculatorTool()\n",
    "        self.currency_converter = CurrencyConverterTool()\n",
    "\n",
    "        self.tools = [\n",
    "            *self.weather_tool.weather_tool_list,\n",
    "            *self.currency_converter.currency_converter_tool_list,\n",
    "            *self.expense_calculator.calculator_tool_list,\n",
    "            *self.place_search_tool.place_search_tool_list\n",
    "        ]\n",
    "    def build(self):\n",
    "        g = StateGraph(MessagesState)\n",
    "        \n",
    "        g.add_node(\"supervisor\", supervisor_agent)\n",
    "        g.add_node(\"planner\", planner_agent)\n",
    "        g.add_node(\"research\", research_agent)\n",
    "        g.add_node(\"budget\", budget_agent)\n",
    "        g.add_node(\"finalizer\", finalizer_agent)\n",
    "        g.add_node(\"tools\", ToolNode(tools = self.tools))\n",
    "\n",
    "        # Edges\n",
    "        g.add_edge(START, \"supervisor\")\n",
    "        g.add_conditional_edges(\"supervisor\", lambda state: supervisor_agent(state), {\n",
    "            \"planner\": \"planner\",\n",
    "            \"research\": \"research\",\n",
    "            \"budget\": \"budget\",\n",
    "            \"finalizer\": \"finalizer\"\n",
    "        })\n",
    "        g.add_edge(\"planner\", \"supervisor\")\n",
    "        g.add_edge(\"research\", \"supervisor\")\n",
    "        g.add_edge(\"budget\", \"supervisor\")\n",
    "        g.add_edge(\"finalizer\", END)\n",
    "\n",
    "        return g.compile()\n",
    "\n",
    "graph = Travel_Graph().build()\n",
    "graph   \n",
    "\n",
    "\n"
   ]
  },
  {
   "cell_type": "code",
   "execution_count": 46,
   "id": "b28b8866",
   "metadata": {},
   "outputs": [
    {
     "name": "stdout",
     "output_type": "stream",
     "text": [
      "Loading config....\n",
      "LLM loading...\n",
      "Loading model from provider: \n",
      "Loading model from gemini:\n"
     ]
    },
    {
     "data": {
      "image/png": "[encoded data removed]",
      "text/plain": [
       "<langgraph.graph.state.CompiledStateGraph object at 0x0000017469236580>"
      ]
     },
     "execution_count": 46,
     "metadata": {},
     "output_type": "execute_result"
    }
   ],
   "source": [
    "from langgraph.graph import StateGraph, START, END\n",
    "from langgraph.prebuilt import ToolNode, tools_condition\n",
    "from tools.weather_tool import WeatherInfoTool\n",
    "from tools.place_search_tool import PlaceSearchTool\n",
    "from tools.expense_calculator import CalculatorTool\n",
    "from tools.currency_conversion import CurrencyConverterTool\n",
    "from prompt_library.agent_prompts import PLANNER_PROMPT, RESEARCHER_PROMPT,FINALIZER_PROMPT,BUDGET_PROMPT\n",
    "from langchain_core.messages import SystemMessage, HumanMessage\n",
    "\n",
    "# # Example tools\n",
    "\n",
    "# from tools.weather_tool import WeatherInfoTool, WeatherForecast\n",
    "# from tools.place_tool import PlaceSearchTool\n",
    "# from tools.budget_tool import BudgetTool\n",
    "model_loader = ModelLoader(model_provider=\"gemini\")\n",
    "llm = model_loader.load_llm()\n",
    "\n",
    "weather_tools = [] \n",
    "budget_tools = [] \n",
    "research_tools = [] \n",
    "\n",
    "weather_tool = WeatherInfoTool()\n",
    "place_search_tool = PlaceSearchTool()\n",
    "expense_calculator = CalculatorTool()\n",
    "currency_converter = CurrencyConverterTool()\n",
    "\n",
    "weather_tools.extend( # include all the tools which are return by instance\n",
    "    [ \n",
    "        *weather_tool.weather_tool_list\n",
    "    ]\n",
    ")\n",
    "research_tools.extend( # include all the tools which are return by instance\n",
    "    [ \n",
    "        *place_search_tool.place_search_tool_list\n",
    "        \n",
    "    ]\n",
    ")\n",
    "budget_tools.extend( # include all the tools which are return by instance\n",
    "    [ \n",
    "        *currency_converter.currency_converter_tool_list,\n",
    "        *expense_calculator.calculator_tool_list\n",
    "    ]\n",
    ")\n",
    "# llm_with_tools = llm.bind_tools(tools = tools)\n",
    "graph = None\n",
    "planner_prompt = PLANNER_PROMPT\n",
    "researcher_prompt = RESEARCHER_PROMPT\n",
    "budget_prompt = BUDGET_PROMPT\n",
    "finalizer_prompt = FINALIZER_PROMPT\n",
    "llm_place = llm.bind_tools(tools=research_tools)\n",
    "# llm_weather = llm.bind_tools(tools=weather_tools)\n",
    "llm_budget = llm.bind_tools(tools=budget_tools)\n",
    "\n",
    "place_node = ToolNode(tools=research_tools)\n",
    "weather_node = ToolNode(tools=weather_tools)\n",
    "budget_node = ToolNode(tools=budget_tools)\n",
    "\n",
    "# Define agents\n",
    "# def planner_agent(state: MessagesState):\n",
    "#     \"\"\"\n",
    "#     Planner Agent:\n",
    "#     - Takes user's trip request\n",
    "#     - Produces initial itinerary plan outline\n",
    "#     \"\"\"\n",
    "#     messages = state[\"messages\"]\n",
    "#     planner_messages= [SystemMessage(content = planner_prompt.content)] + messages\n",
    "#     response = llm.invoke(planner_messages)  \n",
    "#     updated_message = messages + [response]  \n",
    "    \n",
    "#     return {\"messages\":updated_message}\n",
    "\n",
    "def research_agent(state: MessagesState):\n",
    "    \"\"\"\n",
    "    Research Agent:\n",
    "    - the places of attraction, activities, and hotels\n",
    "    \"\"\"\n",
    "    messages = state[\"messages\"]\n",
    "    researcher= [SystemMessage(content = researcher_prompt.content)] + messages \n",
    "    response = llm_place.invoke(researcher)  \n",
    "    updated_message = messages + [response]  \n",
    "    \n",
    "    return {\"messages\":updated_message}\n",
    "    # Uses weather tool\n",
    "    # return {\"next\": \"weather_node\"}\n",
    "\n",
    "def budget_agent(state: MessagesState):\n",
    "    \"\"\"\n",
    "    Budget Agent: \n",
    "    - Calculate expenses and give a detailed buget\n",
    "    \"\"\"\n",
    "    messages = state[\"messages\"]\n",
    "    budget= [SystemMessage(content = budget_prompt.content)] + messages\n",
    "\n",
    "    response = llm_budget.invoke(budget)  \n",
    "    updated_message = messages + [response]  \n",
    "    \n",
    "    return {\"messages\":updated_message}\n",
    "\n",
    "def finalizer_agent(state: MessagesState):\n",
    "    \"\"\"\n",
    "    Final Plan Maker Agent: \n",
    "    - Create a complete detailed Travel plan\n",
    "    \"\"\"\n",
    "    messages = state[\"messages\"]\n",
    "    finalizer= [SystemMessage(content = finalizer_prompt.content)] + messages \n",
    "    response = llm.invoke(finalizer)  \n",
    "    updated_message = messages + [response]  \n",
    "    \n",
    "    return {\"messages\":updated_message}\n",
    "\n",
    "\n",
    "# graph_builder.add_node(\"agent\", self.agentic_function)\n",
    "#         graph_builder.add_node(\"tools\", ToolNode(tools = self.tools))\n",
    "#         graph_builder.add_edge(START, \"agent\")\n",
    "#         graph_builder.add_conditional_edges(\"agent\", tools_condition)\n",
    "#         graph_builder.add_edge(\"tools\",\"agent\")\n",
    "#         graph_builder.add_edge(\"agent\",END)\n",
    "#         self.graph = graph_builder.compile()\n",
    "#         return self.graph\n",
    "# Build graph\n",
    "graph = StateGraph(MessagesState)\n",
    "\n",
    "graph.add_node(\"place_node\", place_node)\n",
    "graph.add_node(\"research_agent\", research_agent)\n",
    "graph.add_node(\"weather_node\", weather_node)\n",
    "graph.add_node(\"budget_agent\", budget_agent)\n",
    "graph.add_node(\"budget_node\", budget_node)\n",
    "graph.add_node(\"finalizer_agent\", finalizer_agent)\n",
    "\n",
    "# Entry point\n",
    "graph.add_edge(START, \"research_agent\")\n",
    "\n",
    "# Decide between place_node and weather_node based on tools_condition\n",
    "graph.add_conditional_edges(\n",
    "    \"research_agent\",\n",
    "    tools_condition,\n",
    "    {\n",
    "        \"place_search_tool\": \"place_node\",\n",
    "        \"weather_tool\": \"weather_node\"\n",
    "    }\n",
    ")\n",
    "graph.add_edge(\"place_node\",\"research_agent\")\n",
    "graph.add_edge(\"weather_node\",\"research_agent\")\n",
    "\n",
    "# Budget step\n",
    "graph.add_edge(\"research_agent\", \"budget_agent\")\n",
    "graph.add_conditional_edges(\n",
    "    \"budget_agent\",\n",
    "    tools_condition,\n",
    "    {\n",
    "        \"tools\": \"budget_node\"  # Must match what tools_condition returns\n",
    "    }\n",
    ")\n",
    "graph.add_edge(\"budget_node\", \"budget_agent\")\n",
    "\n",
    "# Final step\n",
    "graph.add_edge(\"budget_agent\", \"finalizer_agent\")\n",
    "graph.add_edge(\"finalizer_agent\", END)\n",
    "\n",
    "app = graph.compile()\n",
    "app\n",
    "\n",
    "\n"
   ]
  },
  {
   "cell_type": "code",
   "execution_count": 48,
   "id": "402b8a22",
   "metadata": {},
   "outputs": [
    {
     "ename": "KeyError",
     "evalue": "'tools'",
     "output_type": "error",
     "traceback": [
      "\u001b[31m---------------------------------------------------------------------------\u001b[39m",
      "\u001b[31mKeyError\u001b[39m                                  Traceback (most recent call last)",
      "\u001b[36mCell\u001b[39m\u001b[36m \u001b[39m\u001b[32mIn[48]\u001b[39m\u001b[32m, line 1\u001b[39m\n\u001b[32m----> \u001b[39m\u001b[32m1\u001b[39m result = \u001b[43mapp\u001b[49m\u001b[43m.\u001b[49m\u001b[43minvoke\u001b[49m\u001b[43m(\u001b[49m\u001b[43m{\u001b[49m\n\u001b[32m      2\u001b[39m \u001b[43m    \u001b[49m\u001b[33;43m\"\u001b[39;49m\u001b[33;43mmessages\u001b[39;49m\u001b[33;43m\"\u001b[39;49m\u001b[43m:\u001b[49m\u001b[43m \u001b[49m\u001b[43m[\u001b[49m\u001b[43mHumanMessage\u001b[49m\u001b[43m(\u001b[49m\u001b[43mcontent\u001b[49m\u001b[43m=\u001b[49m\u001b[33;43m\"\u001b[39;49m\u001b[33;43mPlan a trip to Indore \u001b[39;49m\u001b[33;43m\"\u001b[39;49m\u001b[43m)\u001b[49m\u001b[43m]\u001b[49m\n\u001b[32m      3\u001b[39m \u001b[43m}\u001b[49m\u001b[43m)\u001b[49m\n",
      "\u001b[36mFile \u001b[39m\u001b[32mc:\\code\\Explora\\.venv\\Lib\\site-packages\\langgraph\\pregel\\main.py:3026\u001b[39m, in \u001b[36mPregel.invoke\u001b[39m\u001b[34m(self, input, config, context, stream_mode, print_mode, output_keys, interrupt_before, interrupt_after, durability, **kwargs)\u001b[39m\n\u001b[32m   3023\u001b[39m chunks: \u001b[38;5;28mlist\u001b[39m[\u001b[38;5;28mdict\u001b[39m[\u001b[38;5;28mstr\u001b[39m, Any] | Any] = []\n\u001b[32m   3024\u001b[39m interrupts: \u001b[38;5;28mlist\u001b[39m[Interrupt] = []\n\u001b[32m-> \u001b[39m\u001b[32m3026\u001b[39m \u001b[43m\u001b[49m\u001b[38;5;28;43;01mfor\u001b[39;49;00m\u001b[43m \u001b[49m\u001b[43mchunk\u001b[49m\u001b[43m \u001b[49m\u001b[38;5;129;43;01min\u001b[39;49;00m\u001b[43m \u001b[49m\u001b[38;5;28;43mself\u001b[39;49m\u001b[43m.\u001b[49m\u001b[43mstream\u001b[49m\u001b[43m(\u001b[49m\n\u001b[32m   3027\u001b[39m \u001b[43m    \u001b[49m\u001b[38;5;28;43minput\u001b[39;49m\u001b[43m,\u001b[49m\n\u001b[32m   3028\u001b[39m \u001b[43m    \u001b[49m\u001b[43mconfig\u001b[49m\u001b[43m,\u001b[49m\n\u001b[32m   3029\u001b[39m \u001b[43m    \u001b[49m\u001b[43mcontext\u001b[49m\u001b[43m=\u001b[49m\u001b[43mcontext\u001b[49m\u001b[43m,\u001b[49m\n\u001b[32m   3030\u001b[39m \u001b[43m    \u001b[49m\u001b[43mstream_mode\u001b[49m\u001b[43m=\u001b[49m\u001b[43m[\u001b[49m\u001b[33;43m\"\u001b[39;49m\u001b[33;43mupdates\u001b[39;49m\u001b[33;43m\"\u001b[39;49m\u001b[43m,\u001b[49m\u001b[43m \u001b[49m\u001b[33;43m\"\u001b[39;49m\u001b[33;43mvalues\u001b[39;49m\u001b[33;43m\"\u001b[39;49m\u001b[43m]\u001b[49m\n\u001b[32m   3031\u001b[39m \u001b[43m    \u001b[49m\u001b[38;5;28;43;01mif\u001b[39;49;00m\u001b[43m \u001b[49m\u001b[43mstream_mode\u001b[49m\u001b[43m \u001b[49m\u001b[43m==\u001b[49m\u001b[43m \u001b[49m\u001b[33;43m\"\u001b[39;49m\u001b[33;43mvalues\u001b[39;49m\u001b[33;43m\"\u001b[39;49m\n\u001b[32m   3032\u001b[39m \u001b[43m    \u001b[49m\u001b[38;5;28;43;01melse\u001b[39;49;00m\u001b[43m \u001b[49m\u001b[43mstream_mode\u001b[49m\u001b[43m,\u001b[49m\n\u001b[32m   3033\u001b[39m \u001b[43m    \u001b[49m\u001b[43mprint_mode\u001b[49m\u001b[43m=\u001b[49m\u001b[43mprint_mode\u001b[49m\u001b[43m,\u001b[49m\n\u001b[32m   3034\u001b[39m \u001b[43m    \u001b[49m\u001b[43moutput_keys\u001b[49m\u001b[43m=\u001b[49m\u001b[43moutput_keys\u001b[49m\u001b[43m,\u001b[49m\n\u001b[32m   3035\u001b[39m \u001b[43m    \u001b[49m\u001b[43minterrupt_before\u001b[49m\u001b[43m=\u001b[49m\u001b[43minterrupt_before\u001b[49m\u001b[43m,\u001b[49m\n\u001b[32m   3036\u001b[39m \u001b[43m    \u001b[49m\u001b[43minterrupt_after\u001b[49m\u001b[43m=\u001b[49m\u001b[43minterrupt_after\u001b[49m\u001b[43m,\u001b[49m\n\u001b[32m   3037\u001b[39m \u001b[43m    \u001b[49m\u001b[43mdurability\u001b[49m\u001b[43m=\u001b[49m\u001b[43mdurability\u001b[49m\u001b[43m,\u001b[49m\n\u001b[32m   3038\u001b[39m \u001b[43m    \u001b[49m\u001b[43m*\u001b[49m\u001b[43m*\u001b[49m\u001b[43mkwargs\u001b[49m\u001b[43m,\u001b[49m\n\u001b[32m   3039\u001b[39m \u001b[43m\u001b[49m\u001b[43m)\u001b[49m\u001b[43m:\u001b[49m\n\u001b[32m   3040\u001b[39m \u001b[43m    \u001b[49m\u001b[38;5;28;43;01mif\u001b[39;49;00m\u001b[43m \u001b[49m\u001b[43mstream_mode\u001b[49m\u001b[43m \u001b[49m\u001b[43m==\u001b[49m\u001b[43m \u001b[49m\u001b[33;43m\"\u001b[39;49m\u001b[33;43mvalues\u001b[39;49m\u001b[33;43m\"\u001b[39;49m\u001b[43m:\u001b[49m\n\u001b[32m   3041\u001b[39m \u001b[43m        \u001b[49m\u001b[38;5;28;43;01mif\u001b[39;49;00m\u001b[43m \u001b[49m\u001b[38;5;28;43mlen\u001b[39;49m\u001b[43m(\u001b[49m\u001b[43mchunk\u001b[49m\u001b[43m)\u001b[49m\u001b[43m \u001b[49m\u001b[43m==\u001b[49m\u001b[43m \u001b[49m\u001b[32;43m2\u001b[39;49m\u001b[43m:\u001b[49m\n",
      "\u001b[36mFile \u001b[39m\u001b[32mc:\\code\\Explora\\.venv\\Lib\\site-packages\\langgraph\\pregel\\main.py:2647\u001b[39m, in \u001b[36mPregel.stream\u001b[39m\u001b[34m(self, input, config, context, stream_mode, print_mode, output_keys, interrupt_before, interrupt_after, durability, subgraphs, debug, **kwargs)\u001b[39m\n\u001b[32m   2645\u001b[39m \u001b[38;5;28;01mfor\u001b[39;00m task \u001b[38;5;129;01min\u001b[39;00m loop.match_cached_writes():\n\u001b[32m   2646\u001b[39m     loop.output_writes(task.id, task.writes, cached=\u001b[38;5;28;01mTrue\u001b[39;00m)\n\u001b[32m-> \u001b[39m\u001b[32m2647\u001b[39m \u001b[43m\u001b[49m\u001b[38;5;28;43;01mfor\u001b[39;49;00m\u001b[43m \u001b[49m\u001b[43m_\u001b[49m\u001b[43m \u001b[49m\u001b[38;5;129;43;01min\u001b[39;49;00m\u001b[43m \u001b[49m\u001b[43mrunner\u001b[49m\u001b[43m.\u001b[49m\u001b[43mtick\u001b[49m\u001b[43m(\u001b[49m\n\u001b[32m   2648\u001b[39m \u001b[43m    \u001b[49m\u001b[43m[\u001b[49m\u001b[43mt\u001b[49m\u001b[43m \u001b[49m\u001b[38;5;28;43;01mfor\u001b[39;49;00m\u001b[43m \u001b[49m\u001b[43mt\u001b[49m\u001b[43m \u001b[49m\u001b[38;5;129;43;01min\u001b[39;49;00m\u001b[43m \u001b[49m\u001b[43mloop\u001b[49m\u001b[43m.\u001b[49m\u001b[43mtasks\u001b[49m\u001b[43m.\u001b[49m\u001b[43mvalues\u001b[49m\u001b[43m(\u001b[49m\u001b[43m)\u001b[49m\u001b[43m \u001b[49m\u001b[38;5;28;43;01mif\u001b[39;49;00m\u001b[43m \u001b[49m\u001b[38;5;129;43;01mnot\u001b[39;49;00m\u001b[43m \u001b[49m\u001b[43mt\u001b[49m\u001b[43m.\u001b[49m\u001b[43mwrites\u001b[49m\u001b[43m]\u001b[49m\u001b[43m,\u001b[49m\n\u001b[32m   2649\u001b[39m \u001b[43m    \u001b[49m\u001b[43mtimeout\u001b[49m\u001b[43m=\u001b[49m\u001b[38;5;28;43mself\u001b[39;49m\u001b[43m.\u001b[49m\u001b[43mstep_timeout\u001b[49m\u001b[43m,\u001b[49m\n\u001b[32m   2650\u001b[39m \u001b[43m    \u001b[49m\u001b[43mget_waiter\u001b[49m\u001b[43m=\u001b[49m\u001b[43mget_waiter\u001b[49m\u001b[43m,\u001b[49m\n\u001b[32m   2651\u001b[39m \u001b[43m    \u001b[49m\u001b[43mschedule_task\u001b[49m\u001b[43m=\u001b[49m\u001b[43mloop\u001b[49m\u001b[43m.\u001b[49m\u001b[43maccept_push\u001b[49m\u001b[43m,\u001b[49m\n\u001b[32m   2652\u001b[39m \u001b[43m\u001b[49m\u001b[43m)\u001b[49m\u001b[43m:\u001b[49m\n\u001b[32m   2653\u001b[39m \u001b[43m    \u001b[49m\u001b[38;5;66;43;03m# emit output\u001b[39;49;00m\n\u001b[32m   2654\u001b[39m \u001b[43m    \u001b[49m\u001b[38;5;28;43;01myield from\u001b[39;49;00m\u001b[43m \u001b[49m\u001b[43m_output\u001b[49m\u001b[43m(\u001b[49m\n\u001b[32m   2655\u001b[39m \u001b[43m        \u001b[49m\u001b[43mstream_mode\u001b[49m\u001b[43m,\u001b[49m\u001b[43m \u001b[49m\u001b[43mprint_mode\u001b[49m\u001b[43m,\u001b[49m\u001b[43m \u001b[49m\u001b[43msubgraphs\u001b[49m\u001b[43m,\u001b[49m\u001b[43m \u001b[49m\u001b[43mstream\u001b[49m\u001b[43m.\u001b[49m\u001b[43mget\u001b[49m\u001b[43m,\u001b[49m\u001b[43m \u001b[49m\u001b[43mqueue\u001b[49m\u001b[43m.\u001b[49m\u001b[43mEmpty\u001b[49m\n\u001b[32m   2656\u001b[39m \u001b[43m    \u001b[49m\u001b[43m)\u001b[49m\n\u001b[32m   2657\u001b[39m loop.after_tick()\n",
      "\u001b[36mFile \u001b[39m\u001b[32mc:\\code\\Explora\\.venv\\Lib\\site-packages\\langgraph\\pregel\\_runner.py:162\u001b[39m, in \u001b[36mPregelRunner.tick\u001b[39m\u001b[34m(self, tasks, reraise, timeout, retry_policy, get_waiter, schedule_task)\u001b[39m\n\u001b[32m    160\u001b[39m t = tasks[\u001b[32m0\u001b[39m]\n\u001b[32m    161\u001b[39m \u001b[38;5;28;01mtry\u001b[39;00m:\n\u001b[32m--> \u001b[39m\u001b[32m162\u001b[39m     \u001b[43mrun_with_retry\u001b[49m\u001b[43m(\u001b[49m\n\u001b[32m    163\u001b[39m \u001b[43m        \u001b[49m\u001b[43mt\u001b[49m\u001b[43m,\u001b[49m\n\u001b[32m    164\u001b[39m \u001b[43m        \u001b[49m\u001b[43mretry_policy\u001b[49m\u001b[43m,\u001b[49m\n\u001b[32m    165\u001b[39m \u001b[43m        \u001b[49m\u001b[43mconfigurable\u001b[49m\u001b[43m=\u001b[49m\u001b[43m{\u001b[49m\n\u001b[32m    166\u001b[39m \u001b[43m            \u001b[49m\u001b[43mCONFIG_KEY_CALL\u001b[49m\u001b[43m:\u001b[49m\u001b[43m \u001b[49m\u001b[43mpartial\u001b[49m\u001b[43m(\u001b[49m\n\u001b[32m    167\u001b[39m \u001b[43m                \u001b[49m\u001b[43m_call\u001b[49m\u001b[43m,\u001b[49m\n\u001b[32m    168\u001b[39m \u001b[43m                \u001b[49m\u001b[43mweakref\u001b[49m\u001b[43m.\u001b[49m\u001b[43mref\u001b[49m\u001b[43m(\u001b[49m\u001b[43mt\u001b[49m\u001b[43m)\u001b[49m\u001b[43m,\u001b[49m\n\u001b[32m    169\u001b[39m \u001b[43m                \u001b[49m\u001b[43mretry_policy\u001b[49m\u001b[43m=\u001b[49m\u001b[43mretry_policy\u001b[49m\u001b[43m,\u001b[49m\n\u001b[32m    170\u001b[39m \u001b[43m                \u001b[49m\u001b[43mfutures\u001b[49m\u001b[43m=\u001b[49m\u001b[43mweakref\u001b[49m\u001b[43m.\u001b[49m\u001b[43mref\u001b[49m\u001b[43m(\u001b[49m\u001b[43mfutures\u001b[49m\u001b[43m)\u001b[49m\u001b[43m,\u001b[49m\n\u001b[32m    171\u001b[39m \u001b[43m                \u001b[49m\u001b[43mschedule_task\u001b[49m\u001b[43m=\u001b[49m\u001b[43mschedule_task\u001b[49m\u001b[43m,\u001b[49m\n\u001b[32m    172\u001b[39m \u001b[43m                \u001b[49m\u001b[43msubmit\u001b[49m\u001b[43m=\u001b[49m\u001b[38;5;28;43mself\u001b[39;49m\u001b[43m.\u001b[49m\u001b[43msubmit\u001b[49m\u001b[43m,\u001b[49m\n\u001b[32m    173\u001b[39m \u001b[43m            \u001b[49m\u001b[43m)\u001b[49m\u001b[43m,\u001b[49m\n\u001b[32m    174\u001b[39m \u001b[43m        \u001b[49m\u001b[43m}\u001b[49m\u001b[43m,\u001b[49m\n\u001b[32m    175\u001b[39m \u001b[43m    \u001b[49m\u001b[43m)\u001b[49m\n\u001b[32m    176\u001b[39m     \u001b[38;5;28mself\u001b[39m.commit(t, \u001b[38;5;28;01mNone\u001b[39;00m)\n\u001b[32m    177\u001b[39m \u001b[38;5;28;01mexcept\u001b[39;00m \u001b[38;5;167;01mException\u001b[39;00m \u001b[38;5;28;01mas\u001b[39;00m exc:\n",
      "\u001b[36mFile \u001b[39m\u001b[32mc:\\code\\Explora\\.venv\\Lib\\site-packages\\langgraph\\pregel\\_retry.py:42\u001b[39m, in \u001b[36mrun_with_retry\u001b[39m\u001b[34m(task, retry_policy, configurable)\u001b[39m\n\u001b[32m     40\u001b[39m     task.writes.clear()\n\u001b[32m     41\u001b[39m     \u001b[38;5;66;03m# run the task\u001b[39;00m\n\u001b[32m---> \u001b[39m\u001b[32m42\u001b[39m     \u001b[38;5;28;01mreturn\u001b[39;00m \u001b[43mtask\u001b[49m\u001b[43m.\u001b[49m\u001b[43mproc\u001b[49m\u001b[43m.\u001b[49m\u001b[43minvoke\u001b[49m\u001b[43m(\u001b[49m\u001b[43mtask\u001b[49m\u001b[43m.\u001b[49m\u001b[43minput\u001b[49m\u001b[43m,\u001b[49m\u001b[43m \u001b[49m\u001b[43mconfig\u001b[49m\u001b[43m)\u001b[49m\n\u001b[32m     43\u001b[39m \u001b[38;5;28;01mexcept\u001b[39;00m ParentCommand \u001b[38;5;28;01mas\u001b[39;00m exc:\n\u001b[32m     44\u001b[39m     ns: \u001b[38;5;28mstr\u001b[39m = config[CONF][CONFIG_KEY_CHECKPOINT_NS]\n",
      "\u001b[36mFile \u001b[39m\u001b[32mc:\\code\\Explora\\.venv\\Lib\\site-packages\\langgraph\\_internal\\_runnable.py:659\u001b[39m, in \u001b[36mRunnableSeq.invoke\u001b[39m\u001b[34m(self, input, config, **kwargs)\u001b[39m\n\u001b[32m    657\u001b[39m                 \u001b[38;5;28minput\u001b[39m = context.run(step.invoke, \u001b[38;5;28minput\u001b[39m, config, **kwargs)\n\u001b[32m    658\u001b[39m         \u001b[38;5;28;01melse\u001b[39;00m:\n\u001b[32m--> \u001b[39m\u001b[32m659\u001b[39m             \u001b[38;5;28minput\u001b[39m = \u001b[43mstep\u001b[49m\u001b[43m.\u001b[49m\u001b[43minvoke\u001b[49m\u001b[43m(\u001b[49m\u001b[38;5;28;43minput\u001b[39;49m\u001b[43m,\u001b[49m\u001b[43m \u001b[49m\u001b[43mconfig\u001b[49m\u001b[43m)\u001b[49m\n\u001b[32m    660\u001b[39m \u001b[38;5;66;03m# finish the root run\u001b[39;00m\n\u001b[32m    661\u001b[39m \u001b[38;5;28;01mexcept\u001b[39;00m \u001b[38;5;167;01mBaseException\u001b[39;00m \u001b[38;5;28;01mas\u001b[39;00m e:\n",
      "\u001b[36mFile \u001b[39m\u001b[32mc:\\code\\Explora\\.venv\\Lib\\site-packages\\langgraph\\_internal\\_runnable.py:401\u001b[39m, in \u001b[36mRunnableCallable.invoke\u001b[39m\u001b[34m(self, input, config, **kwargs)\u001b[39m\n\u001b[32m    399\u001b[39m         run_manager.on_chain_end(ret)\n\u001b[32m    400\u001b[39m \u001b[38;5;28;01melse\u001b[39;00m:\n\u001b[32m--> \u001b[39m\u001b[32m401\u001b[39m     ret = \u001b[38;5;28;43mself\u001b[39;49m\u001b[43m.\u001b[49m\u001b[43mfunc\u001b[49m\u001b[43m(\u001b[49m\u001b[43m*\u001b[49m\u001b[43margs\u001b[49m\u001b[43m,\u001b[49m\u001b[43m \u001b[49m\u001b[43m*\u001b[49m\u001b[43m*\u001b[49m\u001b[43mkwargs\u001b[49m\u001b[43m)\u001b[49m\n\u001b[32m    402\u001b[39m \u001b[38;5;28;01mif\u001b[39;00m \u001b[38;5;28mself\u001b[39m.recurse \u001b[38;5;129;01mand\u001b[39;00m \u001b[38;5;28misinstance\u001b[39m(ret, Runnable):\n\u001b[32m    403\u001b[39m     \u001b[38;5;28;01mreturn\u001b[39;00m ret.invoke(\u001b[38;5;28minput\u001b[39m, config)\n",
      "\u001b[36mFile \u001b[39m\u001b[32mc:\\code\\Explora\\.venv\\Lib\\site-packages\\langgraph\\graph\\_branch.py:169\u001b[39m, in \u001b[36mBranchSpec._route\u001b[39m\u001b[34m(self, input, config, reader, writer)\u001b[39m\n\u001b[32m    167\u001b[39m     value = \u001b[38;5;28minput\u001b[39m\n\u001b[32m    168\u001b[39m result = \u001b[38;5;28mself\u001b[39m.path.invoke(value, config)\n\u001b[32m--> \u001b[39m\u001b[32m169\u001b[39m \u001b[38;5;28;01mreturn\u001b[39;00m \u001b[38;5;28;43mself\u001b[39;49m\u001b[43m.\u001b[49m\u001b[43m_finish\u001b[49m\u001b[43m(\u001b[49m\u001b[43mwriter\u001b[49m\u001b[43m,\u001b[49m\u001b[43m \u001b[49m\u001b[38;5;28;43minput\u001b[39;49m\u001b[43m,\u001b[49m\u001b[43m \u001b[49m\u001b[43mresult\u001b[49m\u001b[43m,\u001b[49m\u001b[43m \u001b[49m\u001b[43mconfig\u001b[49m\u001b[43m)\u001b[49m\n",
      "\u001b[36mFile \u001b[39m\u001b[32mc:\\code\\Explora\\.venv\\Lib\\site-packages\\langgraph\\graph\\_branch.py:205\u001b[39m, in \u001b[36mBranchSpec._finish\u001b[39m\u001b[34m(self, writer, input, result, config)\u001b[39m\n\u001b[32m    202\u001b[39m     result = [result]\n\u001b[32m    203\u001b[39m \u001b[38;5;28;01mif\u001b[39;00m \u001b[38;5;28mself\u001b[39m.ends:\n\u001b[32m    204\u001b[39m     destinations: Sequence[Send | \u001b[38;5;28mstr\u001b[39m] = [\n\u001b[32m--> \u001b[39m\u001b[32m205\u001b[39m         r \u001b[38;5;28;01mif\u001b[39;00m \u001b[38;5;28misinstance\u001b[39m(r, Send) \u001b[38;5;28;01melse\u001b[39;00m \u001b[38;5;28;43mself\u001b[39;49m\u001b[43m.\u001b[49m\u001b[43mends\u001b[49m\u001b[43m[\u001b[49m\u001b[43mr\u001b[49m\u001b[43m]\u001b[49m \u001b[38;5;28;01mfor\u001b[39;00m r \u001b[38;5;129;01min\u001b[39;00m result\n\u001b[32m    206\u001b[39m     ]\n\u001b[32m    207\u001b[39m \u001b[38;5;28;01melse\u001b[39;00m:\n\u001b[32m    208\u001b[39m     destinations = cast(Sequence[Union[Send, \u001b[38;5;28mstr\u001b[39m]], result)\n",
      "\u001b[31mKeyError\u001b[39m: 'tools'",
      "During task with name 'research_agent' and id 'a0d252b4-2e01-93fa-726c-aec9e4b24868'"
     ]
    }
   ],
   "source": [
    "result = app.invoke({\n",
    "    \"messages\": [HumanMessage(content=\"Plan a trip to Indore \")]\n",
    "})"
   ]
  },
  {
   "cell_type": "code",
   "execution_count": 37,
   "id": "22803319",
   "metadata": {},
   "outputs": [
    {
     "data": {
      "text/plain": [
       "AIMessage(content='', additional_kwargs={'function_call': {'name': 'get_weather_forecast', 'arguments': '{\"city\": \"Indore\"}'}}, response_metadata={'prompt_feedback': {'block_reason': 0, 'safety_ratings': []}, 'finish_reason': 'STOP', 'model_name': 'gemini-2.5-flash', 'safety_ratings': []}, id='run--1701eb44-f620-44ca-aad9-789e2f0930da-0', tool_calls=[{'name': 'get_current_weather', 'args': {'city': 'Indore'}, 'id': '7dfab81d-a8df-4d53-8ad8-b9013ba60c1f', 'type': 'tool_call'}, {'name': 'get_weather_forecast', 'args': {'city': 'Indore'}, 'id': '2c5d1e21-5ec7-44ba-9739-e7d2e57e5c02', 'type': 'tool_call'}], usage_metadata={'input_tokens': 303, 'output_tokens': 194, 'total_tokens': 497, 'input_token_details': {'cache_read': 0}, 'output_token_details': {'reasoning': 158}})"
      ]
     },
     "execution_count": 37,
     "metadata": {},
     "output_type": "execute_result"
    }
   ],
   "source": [
    "result['messages'][0].content\n",
    "result['messages'][1]"
   ]
  },
  {
   "cell_type": "code",
   "execution_count": 23,
   "id": "012d5f04",
   "metadata": {},
   "outputs": [
    {
     "name": "stdout",
     "output_type": "stream",
     "text": [
      "Your personalized Manali travel guide is ready! This guide combines detailed itineraries with essential information on hotels, attractions, restaurants, budget considerations, and weather insights to help you plan an unforgettable trip.\n",
      "\n",
      "---\n",
      "\n",
      "# Your Ultimate Manali Travel Guide\n",
      "\n",
      "Welcome to Manali, a breathtaking hill station nestled in the Beas River Valley, renowned for its stunning landscapes, thrilling adventure activities, and serene atmosphere. Whether you seek adrenaline-pumping adventures or tranquil escapes, Manali offers a diverse range of experiences for every traveler.\n",
      "\n",
      "---\n",
      "\n",
      "## 1. Introduction to Manali\n",
      "\n",
      "Manali is a jewel in the Indian state of Himachal Pradesh, captivating visitors with its snow-capped peaks, lush valleys, and the gushing Beas River. It serves as a gateway to the majestic Himalayas, offering a perfect blend of natural beauty, cultural heritage, and modern amenities. From ancient temples and vibrant markets to exhilarating outdoor sports, Manali promises a memorable journey.\n",
      "\n",
      "---\n",
      "\n",
      "## 2. Itinerary Options\n",
      "\n",
      "We've crafted two distinct 4-day itineraries to cater to different travel preferences: one focusing on popular tourist spots and another on off-beat experiences and serene escapes.\n",
      "\n",
      "### Itinerary 1: Popular Tourist Spots in Manali (4 Days)\n",
      "\n",
      "This itinerary focuses on the well-known and easily accessible attractions that Manali is famous for, offering a mix of cultural sites, scenic beauty, and adventure.\n",
      "\n",
      "**Day 1: Arrival & Local Manali Exploration**\n",
      "\n",
      "*   **Morning (10:00 AM - 1:00 PM): Arrival & Check-in**\n",
      "    *   Arrive in Manali. Settle into your accommodation.\n",
      "    *   **Transportation:** Taxi/Auto-rickshaw from bus stand/arrival point to your hotel.\n",
      "*   **Afternoon (1:00 PM - 2:00 PM): Lunch**\n",
      "    *   Enjoy lunch at a local restaurant on Mall Road.\n",
      "*   **Afternoon (2:00 PM - 5:00 PM): Hadimba Devi Temple & Van Vihar**\n",
      "    *   Visit the unique Hadimba Devi Temple, a 15th-century pagoda-style temple dedicated to Goddess Hadimba. Explore the surrounding cedar forest.\n",
      "    *   **Transportation:** Walk (if staying near Mall Road, approx. 15-20 mins) or short auto-rickshaw ride.\n",
      "    *   Spend some time at Van Vihar National Park, enjoying boating on the small lake and the tall deodar trees.\n",
      "    *   **Transportation:** Walk from Hadimba Temple (approx. 10-15 mins).\n",
      "*   **Evening (5:00 PM - 8:00 PM): Mall Road & Tibetan Monastery**\n",
      "    *   Stroll along Mall Road, the heart of Manali, for shopping (local handicrafts, woolens) and people-watching.\n",
      "    *   Visit the Tibetan Monastery nearby, known for its beautiful murals and Buddhist culture.\n",
      "    *   **Transportation:** Walk.\n",
      "*   **Night (8:00 PM onwards): Dinner**\n",
      "    *   Dine at one of the many restaurants on Mall Road offering various cuisines.\n",
      "\n",
      "**Day 2: Solang Valley & Vashisht Village**\n",
      "\n",
      "*   **Morning (9:00 AM - 1:00 PM): Solang Valley Adventure**\n",
      "    *   Head to Solang Valley, a popular spot for adventure activities.\n",
      "    *   **Transportation:** Taxi (approx. 30-45 mins drive from Manali town).\n",
      "    *   Indulge in activities like paragliding, zorbing, ATV rides (seasonal), or take the ropeway for panoramic views.\n",
      "*   **Afternoon (1:00 PM - 2:00 PM): Lunch**\n",
      "    *   Have lunch at one of the eateries in Solang Valley.\n",
      "*   **Afternoon (2:30 PM - 5:00 PM): Vashisht Village & Hot Springs**\n",
      "    *   Visit Vashisht Village, famous for its natural hot water springs and ancient temples (Vashisht Temple and Rama Temple).\n",
      "    *   **Transportation:** Taxi from Solang Valley back towards Manali, or a short auto-rickshaw ride from Manali town center.\n",
      "    *   Take a dip in the therapeutic hot springs.\n",
      "*   **Evening (5:00 PM - 7:00 PM): Old Manali Exploration**\n",
      "    *   Explore the charming lanes of Old Manali, known for its bohemian vibe, cafes, and guesthouses.\n",
      "    *   **Transportation:** Walk from Vashisht (uphill) or short auto-rickshaw ride from Manali town.\n",
      "*   **Night (7:00 PM onwards): Dinner in Old Manali**\n",
      "    *   Enjoy dinner at a cafe in Old Manali, often featuring live music.\n",
      "\n",
      "**Day 3: Rohtang Pass / Atal Tunnel & Surroundings**\n",
      "\n",
      "*   **Morning (8:00 AM - 2:00 PM): Rohtang Pass or Atal Tunnel & Sissu**\n",
      "    *   **Note:** Rohtang Pass requires a permit and is often closed in winter. If closed, the alternative is a trip through the Atal Tunnel to Sissu.\n",
      "    *   **Option A: Rohtang Pass (if open & permitted):** Drive to Rohtang Pass for breathtaking views of glaciers, peaks, and the Chandra River. Engage in snow activities (if available).\n",
      "    *   **Option B: Atal Tunnel & Sissu:** Drive through the engineering marvel, Atal Tunnel, to Sissu in Lahaul Valley. Enjoy the serene landscape, waterfall, and the Chandra River.\n",
      "    *   **Transportation:** Pre-booked taxi or private vehicle (essential for this route).\n",
      "*   **Afternoon (2:00 PM - 3:00 PM): Lunch**\n",
      "    *   Pack a picnic lunch or dine at a local dhaba/eatery near Rohtang Pass (seasonal) or in Sissu.\n",
      "*   **Afternoon (3:00 PM - 5:00 PM): Kothi & Gulaba**\n",
      "    *   On your way back, stop at Kothi, a picturesque village at the base of Rohtang Pass, and Gulaba, known for its stunning views and as a starting point for treks.\n",
      "    *   **Transportation:** Same taxi/vehicle.\n",
      "*   **Evening (6:00 PM onwards): Relaxation & Dinner**\n",
      "    *   Return to Manali, relax, and have dinner at a restaurant of your choice.\n",
      "\n",
      "**Day 4: Naggar & Departure**\n",
      "\n",
      "*   **Morning (9:00 AM - 1:00 PM): Naggar Castle & Nicholas Roerich Art Gallery**\n",
      "    *   Visit Naggar, a charming village with historical significance. Explore Naggar Castle, a medieval stone and wood castle, now a heritage hotel and museum.\n",
      "    *   **Transportation:** Taxi (approx. 45 mins to 1 hour drive from Manali).\n",
      "    *   Visit the Nicholas Roerich Art Gallery, showcasing the works of the famous Russian artist and explorer.\n",
      "    *   **Transportation:** Walk from Naggar Castle (approx. 10-15 mins).\n",
      "*   **Afternoon (1:00 PM - 2:00 PM): Lunch in Naggar**\n",
      "    *   Enjoy lunch at a cafe in Naggar with scenic views.\n",
      "*   **Afternoon (2:00 PM - 4:00 PM): Jana Falls (Optional)**\n",
      "    *   If time permits and you're interested in another scenic spot, visit Jana Falls, a beautiful waterfall where you can enjoy local Himachali food cooked in traditional style.\n",
      "    *   **Transportation:** Taxi from Naggar (requires a slight detour, approx. 30 mins drive one way).\n",
      "*   **Evening (4:00 PM onwards): Departure**\n",
      "    *   Return to Manali. Depending on your departure schedule, you can do some last-minute souvenir shopping or relax before heading to the bus stand/departure point.\n",
      "    *   **Transportation:** Taxi to bus stand/departure point.\n",
      "\n",
      "### Itinerary 2: Off-Beat Experiences & Serene Escapes (4 Days)\n",
      "\n",
      "This itinerary focuses on lesser-known gems, cultural immersion, and tranquil spots near Manali, offering a deeper and more peaceful experience away from the main tourist crowds.\n",
      "\n",
      "**Day 1: Old Manali Charm & Nature Trails**\n",
      "\n",
      "*   **Morning (10:00 AM - 1:00 PM): Arrival & Old Manali Immersion**\n",
      "    *   Arrive in Manali. Head directly to Old Manali to check into a guesthouse or homestay, embracing its laid-back vibe.\n",
      "    *   **Transportation:** Taxi/Auto-rickshaw from bus stand to Old Manali.\n",
      "*   **Afternoon (1:00 PM - 2:00 PM): Cafe Lunch**\n",
      "    *   Enjoy lunch at one of Old Manali's quirky cafes, known for their relaxed atmosphere and diverse menus.\n",
      "*   **Afternoon (2:00 PM - 5:00 PM): Manu Temple Hike & Jogini Falls**\n",
      "    *   Hike up to the ancient Manu Temple, offering panoramic views of the valley.\n",
      "    *   **Transportation:** Walk from Old Manali (approx. 20-30 mins uphill).\n",
      "    *   Continue your hike to Jogini Falls, a beautiful waterfall cascading down a cliff. The path offers serene views.\n",
      "    *   **Transportation:** Walk from Manu Temple (approx. 30-45 mins one way).\n",
      "*   **Evening (5:00 PM - 8:00 PM): Riverside Relaxation & Local Art**\n",
      "    *   Spend time by the Beas River near Old Manali, enjoying the tranquility.\n",
      "    *   Explore local art shops or small galleries in Old Manali.\n",
      "    *   **Transportation:** Walk.\n",
      "*   **Night (8:00 PM onwards): Dinner & Live Music**\n",
      "    *   Dine at an Old Manali cafe, many of which host live music or open mic nights.\n",
      "\n",
      "**Day 2: Malana Village - A Unique Cultural Experience**\n",
      "\n",
      "*   **Morning (8:00 AM - 1:00 PM): Journey to Malana**\n",
      "    *   Embark on a day trip to Malana, an ancient isolated village with its own distinct culture and laws. The drive is scenic, followed by a moderate trek.\n",
      "    *   **Transportation:** Taxi to Jari/Malana Dam (approx. 2-3 hours), followed by a 1.5-2 hour trek uphill to the village. Hire a local guide for cultural insights if possible.\n",
      "    *   **Note:** Respect local customs; do not touch people or their property without permission.\n",
      "*   **Afternoon (1:00 PM - 2:00 PM): Village Exploration & Packed Lunch**\n",
      "    *   Explore the unique architecture and observe the distinct lifestyle of the Malanese people.\n",
      "    *   **Transportation:** Walking within the village.\n",
      "    *   It's advisable to carry a packed lunch as food options might be limited.\n",
      "*   **Afternoon (2:00 PM - 5:00 PM): Return Journey**\n",
      "    *   Trek back down to the road head and take a taxi back to Manali.\n",
      "    *   **Transportation:** Trek + Taxi.\n",
      "*   **Evening (6:00 PM onwards): Relaxation & Quiet Dinner**\n",
      "    *   Return to Manali, relax after the long day. Enjoy a quiet dinner at a less crowded restaurant.\n",
      "\n",
      "**Day 3: Serene Sethan Valley & Hampta Pass Views**\n",
      "\n",
      "*   **Morning (9:00 AM - 1:00 PM): Sethan Valley Exploration**\n",
      "    *   Drive to Sethan Valley, a Buddhist village offering stunning panoramic views, especially beautiful during winter with snow. It's a peaceful alternative to Solang.\n",
      "    *   **Transportation:** Taxi (approx. 45 mins - 1 hour drive from Manali).\n",
      "    *   Explore the serene landscapes, engage in light hiking, or try snow activities like skiing/snowboarding if visiting in winter.\n",
      "*   **Afternoon (1:00 PM - 2:00 PM): Picnic Lunch**\n",
      "    *   Enjoy a picnic lunch amidst the beautiful scenery of Sethan Valley. Carry your own food.\n",
      "*   **Afternoon (2:00 PM - 5:00 PM): Hampta Pass Base or Jobri Meadows**\n",
      "    *   From Sethan, you can drive further up towards the Hampta Pass road head (Jobri). Enjoy a short hike around Jobri Meadows, soaking in the views of the Pir Panjal range and the initial stretch of the Hampta Pass trek.\n",
      "    *   **Transportation:** Taxi from Sethan.\n",
      "*   **Evening (5:00 PM onwards): Return & Local Delicacies**\n",
      "    *   Return to Manali. Seek out a local Himachali dhaba to try traditional dishes like Siddu, Red Rice, or Dham.\n",
      "    *   **Transportation:** Taxi.\n",
      "\n",
      "**Day 4: Parvati Valley Charm (Kasol & Manikaran)**\n",
      "\n",
      "*   **Morning (8:30 AM - 1:00 PM): Kasol & Chalal Village**\n",
      "    *   Embark on a day trip to Kasol in Parvati Valley, known as \"Mini Israel\" for its large Israeli population and vibrant cafe culture.\n",
      "    *   **Transportation:** Taxi or local bus to Kasol (approx. 2-3 hours drive).\n",
      "    *   Explore Kasol's main market. Then, take a short, scenic hike along the Parvati River to Chalal Village, a quieter hamlet known for its tranquility and riverside cafes.\n",
      "    *   **Transportation:** Walk from Kasol (approx. 30-45 mins one way).\n",
      "*   **Afternoon (1:00 PM - 2:00 PM): Lunch in Kasol/Chalal**\n",
      "    *   Enjoy a leisurely lunch at a riverside cafe in Chalal or a popular eatery in Kasol.\n",
      "*   **Afternoon (2:30 PM - 4:30 PM): Manikaran Sahib**\n",
      "    *   Visit Manikaran Sahib, a significant pilgrimage site for Sikhs and Hindus, famous for its hot springs and Gurudwara.\n",
      "    *   **Transportation:** Taxi or local bus from Kasol (approx. 15-20 mins).\n",
      "    *   Experience the spiritual atmosphere and witness food cooked in the hot springs.\n",
      "*   **Evening (4:30 PM onwards): Return & Departure**\n",
      "    *   Begin your journey back to Manali. Depending on your departure schedule, you can head directly to the bus stand or relax briefly in Manali.\n",
      "    *   **Transportation:** Taxi or local bus to Manali (approx. 2-3 hours). Taxi to bus stand/departure point.\n",
      "\n",
      "---\n",
      "\n",
      "## 3. Hotels in Manali\n",
      "\n",
      "Manali offers a wide range of accommodation options to suit every budget and preference, from luxurious resorts to cozy guesthouses and charming homestays.\n",
      "\n",
      "*   **Luxury Resorts:** For those seeking comfort and upscale amenities, Manali has several resorts offering stunning views, spa services, and fine dining.\n",
      "*   **Mid-Range Hotels:** You'll find numerous comfortable hotels equipped with essential facilities, often located near Mall Road or with scenic views.\n",
      "*   **Budget Guesthouses & Homestays:** Old Manali is particularly known for its budget-friendly guesthouses and welcoming homestays, popular among backpackers and those looking for a local experience.\n",
      "*   **Riverfront Stays:** Consider properties along the Beas River for tranquil settings and beautiful views.\n",
      "\n",
      "When booking, consider your preferred location (e.g., lively Mall Road, bohemian Old Manali, or quiet outskirts) and the amenities you require.\n",
      "\n",
      "---\n",
      "\n",
      "## 4. Attractions in Manali\n",
      "\n",
      "Manali is brimming with captivating sights and experiences. Here's a list of key attractions you shouldn't miss:\n",
      "\n",
      "*   **Hadimba Devi Temple:** A unique 15th-century pagoda-style temple surrounded by deodar trees, dedicated to Goddess Hadimba.\n",
      "*   **Solang Valley:** A hub for adventure activities like paragliding, zorbing, and ropeway rides, offering panoramic views.\n",
      "*   **Rohtang Pass:** (Seasonal, requires permit) A high mountain pass offering breathtaking views of glaciers and peaks, popular for snow activities.\n",
      "*   **Atal Tunnel:** An engineering marvel that connects Manali to Lahaul Valley, providing all-weather access to remote areas.\n",
      "*   **Vashisht Village:** Famous for its natural hot water springs and ancient temples (Vashisht Temple and Rama Temple).\n",
      "*   **Old Manali:** A charming village known for its bohemian vibe, quaint cafes, and guesthouses.\n",
      "*   **Mall Road:** The bustling heart of Manali, perfect for shopping, dining, and strolling.\n",
      "*   **Tibetan Monastery:** A serene spot showcasing Buddhist culture and beautiful murals.\n",
      "*   **Naggar Castle:** A historical medieval castle offering insights into local architecture and history, now a heritage hotel and museum.\n",
      "*   **Nicholas Roerich Art Gallery:** Showcasing the works of the renowned Russian artist and explorer.\n",
      "*   **Manu Temple:** An ancient temple dedicated to Sage Manu, offering great views of the valley.\n",
      "*   **Jogini Falls:** A beautiful waterfall accessible via a scenic hike, offering tranquility and natural beauty.\n",
      "*   **Van Vihar National Park:** A peaceful park with tall deodar trees and a small lake for boating.\n",
      "*   **Malana Village:** (Day trip) An ancient, isolated village with a distinct culture and unique customs.\n",
      "*   **Sethan Valley:** A serene alternative to Solang, offering stunning views and snow activities in winter.\n",
      "*   **Kasol & Manikaran Sahib:** (Day trip) Kasol is known for its vibrant cafe culture and Israeli population, while Manikaran Sahib is a significant pilgrimage site with hot springs.\n",
      "\n",
      "---\n",
      "\n",
      "## 5. Restaurants in Manali\n",
      "\n",
      "Manali's culinary scene is diverse, offering everything from local Himachali delicacies to international cuisines.\n",
      "\n",
      "*   **Local Himachali Cuisine:** Don't miss trying local dishes like **Siddu** (steamed bread, often served with ghee), **Red Rice**, and **Dham** (a traditional Himachali thali). Many local dhabas and specialty restaurants serve these.\n",
      "*   **Cafes in Old Manali:** Old Manali is a haven for quirky cafes offering Israeli, Continental, Italian, and Indian fusion food. Many have live music and a relaxed ambiance. Popular choices include:\n",
      "    *   **Dylans Toasted & Roasted Coffee House** (for coffee and snacks)\n",
      "    *   **The Lazy Dog Lounge** (river views, diverse menu)\n",
      "    *   **Cafe 1947** (riverside, Italian food, live music)\n",
      "*   **Mall Road Eateries:** Mall Road features a variety of restaurants serving North Indian, South Indian, Chinese, and fast food.\n",
      "*   **Fine Dining:** Some resorts and hotels offer upscale dining experiences.\n",
      "*   **Street Food:** Explore local street food vendors for quick bites and snacks.\n",
      "\n",
      "---\n",
      "\n",
      "## 6. Budget Estimation for 4 Days in Manali\n",
      "\n",
      "Manali can cater to various budgets, from backpacker-friendly to luxurious. Here's an estimated breakdown for a 4-day trip:\n",
      "\n",
      "*   **Accommodation:**\n",
      "    *   **Budget (Guesthouses/Hostels):** ₹800 - ₹1500 per night (₹3200 - ₹6000 for 4 nights)\n",
      "    *   **Mid-Range (Comfortable Hotels):** Around **₹1500 per night** (Approximately **₹6000 for 4 nights**)\n",
      "    *   **Luxury (Resorts/Boutique Hotels):** ₹4000 - ₹10,000+ per night (₹16,000 - ₹40,000+ for 4 nights)\n",
      "*   **Food:**\n",
      "    *   **Budget:** ₹500 - ₹800 per day (local dhabas, street food, basic cafes)\n",
      "    *   **Mid-Range:** ₹1000 - ₹1500 per day (mid-range restaurants, cafes)\n",
      "    *   **Luxury:** ₹2000+ per day (fine dining, specialty restaurants)\n",
      "*   **Transportation (Local):**\n",
      "    *   **Auto-rickshaws/Taxis:** ₹200 - ₹500 per day for short distances.\n",
      "    *   **Full-day Taxi for sightseeing (e.g., Solang, Rohtang, Naggar):** ₹2500 - ₹4500 per day, depending on distance and negotiation.\n",
      "    *   **Local Buses:** Very economical for inter-town travel (e.g., Manali to Kullu, Kasol).\n",
      "*   **Activities & Entry Fees:**\n",
      "    *   **Entry Fees:** Most temples are free, some attractions might have small fees (e.g., Van Vihar, Naggar Castle: ₹20-₹50).\n",
      "    *   **Adventure Activities (e.g., Paragliding, Zorbing):** ₹1500 - ₹3500 per activity.\n",
      "    *   **Rohtang Pass Permit:** Variable, check official sources.\n",
      "    *   **Miscellaneous (Shopping, Souvenirs):** Highly variable based on personal spending.\n",
      "\n",
      "**Estimated Total Budget for 4 Days (Excluding Flights/Train to Manali):**\n",
      "\n",
      "*   **Budget Traveler:** ₹10,000 - ₹15,000\n",
      "*   **Mid-Range Traveler:** ₹18,000 - ₹28,000\n",
      "*   **Luxury Traveler:** ₹30,000+\n",
      "\n",
      "*Note: These are approximate costs and can vary based on season, negotiation skills, and personal choices.*\n",
      "\n",
      "---\n",
      "\n",
      "## 7. Weather in Manali\n",
      "\n",
      "Manali's climate varies significantly by season, offering different experiences throughout the year.\n",
      "\n",
      "*   **Summer (March to June):** Pleasant, with temperatures ranging from 10°C to 25°C. Ideal for sightseeing and adventure sports. Days are warm, nights are cool.\n",
      "*   **Monsoon (July to September):** Lush green, but prone to heavy rain and occasional landslides. Temperatures range from 15°C to 20°C.\n",
      "*   **Autumn (October to November):** Crisp, clear days with temperatures between 5°C to 15°C. Excellent for photography, with the beginning of winter chill.\n",
      "*   **Winter (December to February):** Cold, with frequent snowfall, especially from late December to February. Temperatures can drop below 0°C, ranging from -7°C to 10°C. Perfect for snow activities and a magical white landscape.\n",
      "\n",
      "**Current Weather Forecast for Manali:**\n",
      "*   **Temperature:** 20°C\n",
      "*   **Conditions:** Clear Sky\n",
      "*   **Humidity:** 35%\n",
      "*   **Wind Speed:** 3.6 km/h\n",
      "\n",
      "Regardless of the season, it's always advisable to pack layers, including warm clothing, as temperatures can drop, especially in the evenings. Comfortable walking shoes are a must for exploring the hilly terrain.\n",
      "\n",
      "---\n",
      "\n",
      "Enjoy your incredible journey to Manali!\n"
     ]
    }
   ],
   "source": [
    "print(result['messages'][-1].content)"
   ]
  }
 ],
 "metadata": {
  "kernelspec": {
   "display_name": "explora",
   "language": "python",
   "name": "python3"
  },
  "language_info": {
   "codemirror_mode": {
    "name": "ipython",
    "version": 3
   },
   "file_extension": ".py",
   "mimetype": "text/x-python",
   "name": "python",
   "nbconvert_exporter": "python",
   "pygments_lexer": "ipython3",
   "version": "3.13.3"
  }
 },
 "nbformat": 4,
 "nbformat_minor": 5
}
