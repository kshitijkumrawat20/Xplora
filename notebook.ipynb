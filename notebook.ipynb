{
 "cells": [
  {
   "cell_type": "code",
   "execution_count": 3,
   "id": "fdc32bb3",
   "metadata": {},
   "outputs": [],
   "source": [
    "from utils.model_loader import ModelLoader\n",
    "from tools.currency_conversion import  CurrencyConverter\n",
    "from tools.expense_calculator import CalculatorTool\n",
    "from tools.place_search_tool import PlaceSearchTool\n",
    "from tools.weather_tool import WeatherInfoTool\n",
    "from prompt_library.prompt import SYSTEM_PROMPT \n",
    "from langgraph.prebuilt import ToolNode, tools_condition\n",
    "from langgraph.graph import StateGraph, END, START, MessagesState\n"
   ]
  },
  {
   "cell_type": "code",
   "execution_count": 6,
   "id": "5cf4e040",
   "metadata": {},
   "outputs": [
    {
     "name": "stdout",
     "output_type": "stream",
     "text": [
      "Loading config....\n"
     ]
    }
   ],
   "source": [
    "weather_tool = WeatherInfoTool()\n",
    "place_tool = PlaceSearchTool()\n",
    "expense_calculator = CalculatorTool()\n",
    "currency_calculator = CalculatorTool()\n",
    "model_loader = ModelLoader(model_provider=\"groq\")"
   ]
  },
  {
   "cell_type": "code",
   "execution_count": 7,
   "id": "0f4cb311",
   "metadata": {},
   "outputs": [
    {
     "name": "stdout",
     "output_type": "stream",
     "text": [
      "LLM loading...\n",
      "Loading model from provider: \n",
      "Loading model from GROQ:\n"
     ]
    }
   ],
   "source": [
    "llm = model_loader.load_llm()"
   ]
  },
  {
   "cell_type": "code",
   "execution_count": null,
   "id": "7bf1857a",
   "metadata": {},
   "outputs": [],
   "source": []
  }
 ],
 "metadata": {
  "kernelspec": {
   "display_name": "explora",
   "language": "python",
   "name": "python3"
  },
  "language_info": {
   "codemirror_mode": {
    "name": "ipython",
    "version": 3
   },
   "file_extension": ".py",
   "mimetype": "text/x-python",
   "name": "python",
   "nbconvert_exporter": "python",
   "pygments_lexer": "ipython3",
   "version": "3.13.3"
  }
 },
 "nbformat": 4,
 "nbformat_minor": 5
}
