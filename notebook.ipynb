{
 "cells": [
  {
   "cell_type": "code",
   "execution_count": 1,
   "id": "fdc32bb3",
   "metadata": {},
   "outputs": [],
   "source": [
    "from utils.model_loader import ModelLoader\n",
    "from tools.currency_conversion import  CurrencyConverterTool\n",
    "from tools.expense_calculator import CalculatorTool\n",
    "from tools.place_search_tool import PlaceSearchTool\n",
    "from tools.weather_tool import WeatherInfoTool\n",
    "from prompt_library.prompt import SYSTEM_PROMPT \n",
    "from langgraph.prebuilt import ToolNode, tools_condition\n",
    "from langgraph.graph import StateGraph, END, START, MessagesState\n"
   ]
  },
  {
   "cell_type": "code",
   "execution_count": null,
   "id": "b577ad44",
   "metadata": {},
   "outputs": [],
   "source": [
    "# from dotenv import load_dotenv\n",
    "# import os\n",
    "\n",
    "# os.environ[\"LANGSMITH_TRACING\"] = \"true\"\n",
    "# os.environ[\"LANGSMITH_ENDPOINT\"] = \"https://api.smith.langchain.com\"\n",
    "# os.environ[\"LANGSMITH_API_KEY\"] = \"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\"\n",
    "# os.environ[\"LANGSMITH_PROJECT\"] = \"pr-whispered-patrolling-90\"\n"
   ]
  },
  {
   "cell_type": "code",
   "execution_count": null,
   "id": "5cf4e040",
   "metadata": {},
   "outputs": [
    {
     "name": "stdout",
     "output_type": "stream",
     "text": [
      "Loading config....\n"
     ]
    }
   ],
   "source": [
    "weather_tool = WeatherInfoTool()\n",
    "place_tool = PlaceSearchTool()\n",
    "currency_calculator = CurrencyConverterTool()\n",
    "model_loader = ModelLoader(model_provider=\"groq\")"
   ]
  },
  {
   "cell_type": "code",
   "execution_count": 22,
   "id": "9507de3d",
   "metadata": {},
   "outputs": [
    {
     "name": "stdout",
     "output_type": "stream",
     "text": [
      "8784.03\n"
     ]
    }
   ],
   "source": [
    "\n",
    "tools_list = currency_calculator.currency_converter_tool_list\n",
    "\n",
    "# Step 3: Access the first tool from the list\n",
    "convert_currency_tool = tools_list[0]\n",
    "\n",
    "# Step 4: Call it like a function\n",
    "result = convert_currency_tool.run({\n",
    "    \"amount\": 100,\n",
    "    \"from_currency\": \"USD\",\n",
    "    \"to_currency\": \"INR\"\n",
    "})\n",
    "\n",
    "print(result)\n"
   ]
  },
  {
   "cell_type": "code",
   "execution_count": 2,
   "id": "12c8f939",
   "metadata": {},
   "outputs": [
    {
     "name": "stdout",
     "output_type": "stream",
     "text": [
      "estimate_total_hotel_cost calculate_total_expense calculate_daily_expense_budget\n",
      "15000.0\n"
     ]
    }
   ],
   "source": [
    "expense_calculator = CalculatorTool()\n",
    "tools_list = expense_calculator.calculator_tool_list\n",
    "# print(tools_list)\n",
    "# len(tools_list)\n",
    "# Step 3: Access the first tool from the list\n",
    "convert_currency_tool1 = tools_list[0]\n",
    "convert_currency_tool2 = tools_list[1]\n",
    "convert_currency_tool3 = tools_list[2]\n",
    "print(convert_currency_tool1.name, convert_currency_tool2.name, convert_currency_tool3.name)\n",
    "\n",
    "estimate_total_hotel_cost = convert_currency_tool1.run(\n",
    "    {\n",
    "        \"price_per_night\": 3000,   # ← must be a string\n",
    "        \"total_day\": 5            # ← correct name, also string\n",
    "    }\n",
    ")\n",
    "print(estimate_total_hotel_cost)\n",
    "\n"
   ]
  },
  {
   "cell_type": "code",
   "execution_count": 7,
   "id": "40b5296a",
   "metadata": {},
   "outputs": [
    {
     "name": "stdout",
     "output_type": "stream",
     "text": [
      "2200.0\n"
     ]
    }
   ],
   "source": [
    "expense_calculator = CalculatorTool()\n",
    "tools_list = expense_calculator.calculator_tool_list\n",
    "convert_currency_tool2 = tools_list[1]\n",
    "result = convert_currency_tool2.run({\"costs\": [1500, 500, 200]})\n",
    "print(result)  # Should print 1700.0\n"
   ]
  },
  {
   "cell_type": "code",
   "execution_count": 2,
   "id": "3bfaf694",
   "metadata": {},
   "outputs": [
    {
     "name": "stdout",
     "output_type": "stream",
     "text": [
      "name='calculate_daily_expense_budget' description='Calculate daily expense' args_schema=<class 'models.models.DailyExpensesCalculation'> func=<function CalculatorTool._setup_tool.<locals>.calculate_daily_expense_budget at 0x00000161B40B8AE0>\n",
      "6000.0\n"
     ]
    }
   ],
   "source": [
    "expense_calculator = CalculatorTool()\n",
    "tools_list = expense_calculator.calculator_tool_list\n",
    "convert_currency_tool3 = tools_list[2]\n",
    "print(convert_currency_tool3)\n",
    "result = convert_currency_tool3.run(\n",
    "    {\n",
    "        \"total_cost\": 30000,\n",
    "        \"days\": 5\n",
    "    }\n",
    ")\n",
    "print(result)  # Should print 1700.0"
   ]
  },
  {
   "cell_type": "code",
   "execution_count": null,
   "id": "227c2e7f",
   "metadata": {},
   "outputs": [],
   "source": [
    "currency_calculator."
   ]
  },
  {
   "cell_type": "code",
   "execution_count": null,
   "id": "7d679757",
   "metadata": {},
   "outputs": [
    {
     "data": {
      "text/plain": [
       "[StructuredTool(name='get_current_weather', description='Get the current weather for a city', args_schema=<class 'langchain_core.utils.pydantic.get_current_weather'>, func=<function WeatherInfoTool._setup_tool.<locals>.get_current_weather at 0x000001883A627D80>),\n",
       " StructuredTool(name='get_weather_forecast', description='Get weather forecast for a city', args_schema=<class 'langchain_core.utils.pydantic.get_weather_forecast'>, func=<function WeatherInfoTool._setup_tool.<locals>.get_weather_forecast at 0x000001883A627F60>)]"
      ]
     },
     "execution_count": 8,
     "metadata": {},
     "output_type": "execute_result"
    }
   ],
   "source": [
    "weather_tool"
   ]
  },
  {
   "cell_type": "code",
   "execution_count": null,
   "id": "7e4e90e6",
   "metadata": {},
   "outputs": [],
   "source": [
    "currency = currency_calculator."
   ]
  },
  {
   "cell_type": "code",
   "execution_count": 16,
   "id": "66ea7b80",
   "metadata": {},
   "outputs": [
    {
     "data": {
      "text/plain": [
       "list"
      ]
     },
     "execution_count": 16,
     "metadata": {},
     "output_type": "execute_result"
    }
   ],
   "source": [
    "type(currency)"
   ]
  },
  {
   "cell_type": "code",
   "execution_count": null,
   "id": "d5cf27b6",
   "metadata": {},
   "outputs": [
    {
     "data": {
      "text/plain": [
       "StructuredTool(name='convert_currency', description='Convert the amount from one currency to another', args_schema=<class 'langchain_core.utils.pydantic.convert_currency'>, func=<function CurrencyConverterTool._setup_tools.<locals>.convert_currency at 0x000001883CB4E520>)"
      ]
     },
     "execution_count": 20,
     "metadata": {},
     "output_type": "execute_result"
    }
   ],
   "source": [
    "currenc"
   ]
  },
  {
   "cell_type": "code",
   "execution_count": 6,
   "id": "0f4cb311",
   "metadata": {},
   "outputs": [
    {
     "name": "stdout",
     "output_type": "stream",
     "text": [
      "LLM loading...\n",
      "Loading model from provider: \n",
      "Loading model from GROQ:\n"
     ]
    }
   ],
   "source": [
    "llm = model_loader.load_llm()"
   ]
  },
  {
   "cell_type": "code",
   "execution_count": 7,
   "id": "b8954a3a",
   "metadata": {},
   "outputs": [
    {
     "data": {
      "text/plain": [
       "AIMessage(content=\"Hey! How's it going?\", additional_kwargs={}, response_metadata={'token_usage': {'completion_tokens': 8, 'prompt_tokens': 11, 'total_tokens': 19, 'completion_time': 0.028349634, 'prompt_time': 0.000137128, 'queue_time': 0.273527075, 'total_time': 0.028486762}, 'model_name': 'llama3-70b-8192', 'system_fingerprint': 'fp_bf16903a67', 'service_tier': 'on_demand', 'finish_reason': 'stop', 'logprobs': None}, id='run--12622aa4-1e71-4d98-a51c-524a255042c3-0', usage_metadata={'input_tokens': 11, 'output_tokens': 8, 'total_tokens': 19})"
      ]
     },
     "execution_count": 7,
     "metadata": {},
     "output_type": "execute_result"
    }
   ],
   "source": [
    "llm.invoke(\"hey\")"
   ]
  },
  {
   "cell_type": "code",
   "execution_count": null,
   "id": "7bf1857a",
   "metadata": {},
   "outputs": [],
   "source": [
    "class AgentState(MessagesState):\n",
    "    \"\"\"State for the agent through out an inference \n",
    "    \"\"\"\n",
    "    next_tool = str = \"\"\n",
    "    current_task = str = \"\"\n",
    "    "
   ]
  }
 ],
 "metadata": {
  "kernelspec": {
   "display_name": "explora",
   "language": "python",
   "name": "python3"
  },
  "language_info": {
   "codemirror_mode": {
    "name": "ipython",
    "version": 3
   },
   "file_extension": ".py",
   "mimetype": "text/x-python",
   "name": "python",
   "nbconvert_exporter": "python",
   "pygments_lexer": "ipython3",
   "version": "3.13.3"
  }
 },
 "nbformat": 4,
 "nbformat_minor": 5
}
